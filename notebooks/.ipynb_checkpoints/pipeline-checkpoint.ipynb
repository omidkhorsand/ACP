{
 "cells": [
  {
   "cell_type": "code",
   "execution_count": 1,
   "metadata": {},
   "outputs": [],
   "source": [
    "import pandas as pd\n",
    "import numpy as np\n",
    "from sklearn.base import BaseEstimator, TransformerMixin\n",
    "from sklearn.pipeline import Pipeline\n",
    "from sklearn.ensemble import RandomForestClassifier\n",
    "from sklearn.metrics import pairwise_distances \n",
    "from sklearn.feature_selection import mutual_info_classif\n",
    "import matplotlib.pyplot as plt"
   ]
  },
  {
   "cell_type": "code",
   "execution_count": 3,
   "metadata": {},
   "outputs": [],
   "source": [
    "class DropDuplicate(BaseEstimator, TransformerMixin):\n",
    "    \"\"\"\n",
    "    Drops duplicate columns\n",
    "    \n",
    "    \"\"\"\n",
    "        \n",
    "    def __init__(self):\n",
    "        pass\n",
    "    \n",
    "    def fit(self, X, y=None):\n",
    "        \"\"\"\n",
    "        Argument: \n",
    "        X: Pandas Dataframe\n",
    "        \n",
    "        fit method identifies unique columns and stores them in keepList\n",
    "        \n",
    "        \"\"\"\n",
    "        \n",
    "        # store original dtypes to a dictionary to preserve dtypes\n",
    "        dtype_dict = X.dtypes.to_dict()\n",
    "        \n",
    "        # drop duplicate columns\n",
    "        result = X.T.drop_duplicates().T\n",
    "        \n",
    "        # remove dropped column names from the dtype dictionary \n",
    "        for col in X.columns:\n",
    "            if col not in result.columns:\n",
    "                del dtype_dict[col]\n",
    "        \n",
    "        # set attributes \n",
    "        self.dTypes_ = dtype_dict\n",
    "        self.keepList_ = result.columns\n",
    "        self.numDuplicates_ = len(X.columns) - len(result.columns)\n",
    "        \n",
    "        return self\n",
    "    \n",
    "    def transform(self, X):\n",
    "        \"\"\"\n",
    "        Transforms X by dropping duplicate columns \n",
    "        \n",
    "        \"\"\"\n",
    "        print(\"--->\", self.numDuplicates_, \"columns dropped due to duplicate values:\\n\")\n",
    "        \n",
    "        # subset to keepList\n",
    "        X = X.loc[:, self.keepList_]\n",
    "        \n",
    "        # convert dtypes \n",
    "        return X.astype(self.dTypes_)"
   ]
  },
  {
   "cell_type": "code",
   "execution_count": 5,
   "metadata": {},
   "outputs": [
    {
     "name": "stdout",
     "output_type": "stream",
     "text": [
      "---> 1 columns dropped due to duplicate values:\n",
      "\n"
     ]
    }
   ],
   "source": [
    "def test_duplicate():\n",
    "    test_data = pd.DataFrame({'a': [None]*9 + [1],\n",
    "                              'b': np.ones(10),\n",
    "                              'c': np.ones(10),\n",
    "                              'd': 'cat'})\n",
    "\n",
    "    dropduplicate = DropDuplicate()\n",
    "    \n",
    "    result = dropduplicate.fit_transform(test_data)\n",
    "    \n",
    "    assert result.equals(pd.DataFrame({'a': [None]*9 + [1],\n",
    "                                       'b': np.ones(10),\n",
    "                                       'd': 'cat' }))\n",
    "\n",
    "# run test\n",
    "r = test_duplicate()"
   ]
  },
  {
   "cell_type": "code",
   "execution_count": 76,
   "metadata": {},
   "outputs": [],
   "source": [
    "class DropMissing(BaseEstimator, TransformerMixin):\n",
    "    \"\"\"\n",
    "    Drops columns with missing values ratio above a threshold\n",
    "    \n",
    "    \"\"\"\n",
    "    \n",
    "    def __init__(self, threshold=0.9):\n",
    "        self.threshold = threshold\n",
    "    \n",
    "    def fit(self, X, y=None):\n",
    "        \"\"\"\n",
    "        Argument: \n",
    "        X: Pandas dataframe\n",
    "        \n",
    "        \"\"\"\n",
    "        \n",
    "        # find missing percentage for each column\n",
    "        missing_pct = X.isnull().sum() / len(X)\n",
    "        \n",
    "        # identify columns with missing ratio above the threshold\n",
    "        to_drop = list((missing_pct[missing_pct >= self.threshold]).index)\n",
    "        \n",
    "        # define attribute for list of columns to drop\n",
    "        self.dropList_ = to_drop\n",
    "        \n",
    "        # define attribute for the number of columns to be dropped\n",
    "        self.numMissingCol_ = len(self.dropList_)\n",
    "        \n",
    "        return self\n",
    "    \n",
    "    def transform(self, X):\n",
    "        \"\"\"\n",
    "        Transforms X by dropping high missing columns\n",
    "        \n",
    "        \"\"\"\n",
    "\n",
    "        print(\"--->\", self.numMissingCol_, \"columns dropped due to missing values:\", self.dropList_)\n",
    "\n",
    "        # return a dataframe with dropped columns missing over threshold \n",
    "        return X.drop(columns=self.dropList_)"
   ]
  },
  {
   "cell_type": "code",
   "execution_count": 77,
   "metadata": {},
   "outputs": [
    {
     "name": "stdout",
     "output_type": "stream",
     "text": [
      "---> 1 columns dropped due to missing values: ['a']\n"
     ]
    }
   ],
   "source": [
    "def test_missing():\n",
    "    test_data = pd.DataFrame({'a': [None]*9 + [1],\n",
    "                              'b': np.ones(10),\n",
    "                              'c': range(10),\n",
    "                              'd': 'cat'})\n",
    "\n",
    "    dropmissing = DropMissing(threshold=0.9)\n",
    "    \n",
    "    result = dropmissing.fit_transform(test_data)\n",
    "    \n",
    "    assert result.equals(pd.DataFrame({'b': np.ones(10),\n",
    "                                       'c': range(10),\n",
    "                                       'd': 'cat'})) \n",
    "\n",
    "# run test\n",
    "test_missing()"
   ]
  },
  {
   "cell_type": "code",
   "execution_count": 79,
   "metadata": {},
   "outputs": [],
   "source": [
    "class DropHighCorr(BaseEstimator, TransformerMixin):\n",
    "    \"\"\"\n",
    "    Drops one of every two similar columns\n",
    "    \n",
    "    Acceptable metrics are: \n",
    "    \n",
    "    ‘cityblock’, ‘cosine’, ‘euclidean’, ‘l1’, ‘l2’, ‘manhattan’\n",
    "    ‘braycurtis’, ‘canberra’, ‘chebyshev’, ‘correlation’, ‘dice’, \n",
    "    ‘hamming’, ‘jaccard’, ‘kulsinski’, ‘mahalanobis’, ‘minkowski’, \n",
    "    ‘rogerstanimoto’, ‘russellrao’, ‘seuclidean’, ‘sokalmichener’, \n",
    "    ‘sokalsneath’, ‘sqeuclidean’, ‘yule’\n",
    "    \n",
    "    \"\"\"\n",
    "    \n",
    "    def __init__(self, threshold=0.9, metric = None):\n",
    "        self.threshold = threshold\n",
    "        self.metric = metric\n",
    "    \n",
    "    def fit(self, X, y=None):\n",
    "        \"\"\"\n",
    "        Argument: \n",
    "        X: Pandas dataframe\n",
    "        \n",
    "        \"\"\"        \n",
    "        \n",
    "        if self.metric is None:\n",
    "            # Calculate correlation matrix\n",
    "            sim_matrix = X.corr().abs()\n",
    "        else:\n",
    "            # calculate a similarity matrix\n",
    "            sim_matrix = pairwise_distances(X.t, metric)\n",
    "\n",
    "        # Subset to upper triangle of sim_matrix\n",
    "        upper = sim_matrix.where(\n",
    "            np.triu(np.ones(sim_matrix.shape), k=1).astype(np.bool))\n",
    "\n",
    "        # Identify columns with correlation above threshold\n",
    "        to_drop = [column for column in upper.columns if any(upper[column] >= self.threshold)]\n",
    "        \n",
    "        # define attribute for list of columns to drop\n",
    "        self.dropList_ = to_drop\n",
    "       \n",
    "        # define attribute for the number of columns to be dropped\n",
    "        self.numDropCols_ = len(self.dropList_)\n",
    "        \n",
    "        return self\n",
    "    \n",
    "    def transform(self, X):\n",
    "        \"\"\"\n",
    "        Transforms X by dropping high missing columns\n",
    "        \n",
    "        \"\"\"\n",
    "        \n",
    "        print(\"--->\", self.numDropCols_, \"columns dropped due to collinearity:\\n\", self.dropList_)\n",
    "\n",
    "        # return a dataframe with dropped columns\n",
    "        return X.drop(columns=self.dropList_)"
   ]
  },
  {
   "cell_type": "code",
   "execution_count": 80,
   "metadata": {},
   "outputs": [
    {
     "name": "stdout",
     "output_type": "stream",
     "text": [
      "---> 1 columns dropped due to collinearity:\n",
      " ['b']\n"
     ]
    }
   ],
   "source": [
    "def test_highcorr():\n",
    "    drophighcorr = DropHighCorr(threshold=0.9)\n",
    "    test_data = pd.DataFrame({'a': np.array(range(10)), \n",
    "                              'b': np.array(range(10)) + 0.05,\n",
    "                              'c': np.ones(10) \n",
    "                              })\n",
    "    \n",
    "    result = drophighcorr.fit_transform(test_data)\n",
    "    \n",
    "    assert result.equals(pd.DataFrame({'a': np.array(range(10)), \n",
    "                                       'c': np.ones(10) \n",
    "                                       }))\n",
    "# run test\n",
    "test_highcorr()"
   ]
  },
  {
   "cell_type": "code",
   "execution_count": 82,
   "metadata": {},
   "outputs": [],
   "source": [
    "class DropZeroCov(BaseEstimator, TransformerMixin):\n",
    "    \"\"\"\n",
    "    Drops columns with a single unique value (zero variance)\n",
    "    \n",
    "    \"\"\"\n",
    "    \n",
    "    def __init__(self):\n",
    "        pass\n",
    "    \n",
    "    def fit(self, X, y=None):\n",
    "        \"\"\"\n",
    "        Argument: \n",
    "        X: Pandas dataframe\n",
    "        \n",
    "        \"\"\"                \n",
    "        one_unique = X.apply(lambda x: x.nunique() == 1, axis=0)\n",
    "        to_drop = list(one_unique[one_unique == True].index)\n",
    "        \n",
    "        self.dropList_ = to_drop\n",
    "        self.numZeroCov_ = len(self.dropList_)\n",
    "        \n",
    "        return self\n",
    "    \n",
    "    def transform(self, X):\n",
    "        \"\"\"\n",
    "        Transforms X by dropping columns with zero variance\n",
    "        \n",
    "        \"\"\"\n",
    "        print(\"--->\", self.numZeroCov_, 'columns dropped due to zero variance:\\n', self.dropList_)\n",
    "\n",
    "        # return a dataframe without columns with a single unique value \n",
    "        return X.drop(columns=self.dropList_)"
   ]
  },
  {
   "cell_type": "code",
   "execution_count": 83,
   "metadata": {},
   "outputs": [
    {
     "name": "stdout",
     "output_type": "stream",
     "text": [
      "---> 1 columns dropped due to zero variance:\n",
      " ['c']\n"
     ]
    }
   ],
   "source": [
    "def test_zerocov():\n",
    "    dropzerocov = DropZeroCov()\n",
    "    test_data = pd.DataFrame({'a': np.array(range(10)), \n",
    "                              'b': np.array(range(10)) + 0.05,\n",
    "                              'c': np.ones(10) \n",
    "                             })\n",
    "    result = dropzerocov.fit_transform(test_data)\n",
    "    assert result.equals(pd.DataFrame({'a': np.array(range(10)), \n",
    "                                       'b': np.array(range(10)) + 0.05,\n",
    "                                       }))\n",
    "\n",
    "# run test\n",
    "test_zerocov()"
   ]
  },
  {
   "cell_type": "code",
   "execution_count": 1,
   "metadata": {},
   "outputs": [],
   "source": [
    "#test_data = pd.DataFrame({'a':np.random.rand(10), \n",
    "# #                     'b': np.random.rand(10),\n",
    "#                      'c': np.random.rand(10),\n",
    "#                      'd': [None]*9 + [1],\n",
    "#                      'e': np.ones(10)*2+np.random.rand(10)/10,\n",
    "#                      'f': np.ones(10)*2+np.random.rand(10)/10,\n",
    "#                      'g': np.ones(10),\n",
    "#                      'h': range(10),\n",
    "#                      'i': range(10)})\n",
    "# test_data"
   ]
  },
  {
   "cell_type": "code",
   "execution_count": 2,
   "metadata": {},
   "outputs": [],
   "source": [
    "# prep_pipeline = Pipeline([\n",
    "#     ('drop_duplicate', DropDuplicate()),\n",
    "#     ('drop_missing', DropMissing(threshold=0.9)),\n",
    "#     ('drop_zerocov', DropZeroCov()),\n",
    "#     ('drop_correlated', DropHighCorr(threshold=0.6))\n",
    "# ])"
   ]
  },
  {
   "cell_type": "code",
   "execution_count": 3,
   "metadata": {},
   "outputs": [],
   "source": [
    "# prep_pipeline.fit_transform(test_data)"
   ]
  },
  {
   "cell_type": "code",
   "execution_count": 119,
   "metadata": {},
   "outputs": [],
   "source": [
    "class MISelector(BaseEstimator, TransformerMixin):\n",
    "    \"\"\"\n",
    "    Selects most important features by estimating mutual information for a discrete target variable based on entropy\n",
    "    num_feat can be given as an integer or as a float\n",
    "    If num_feat is given as an integer e.g. 10, it will be used to select top 10 features \n",
    "    If given as a float e.g. 0.8, it will be used to select enough features to cover 80% of total mutual importance\n",
    "    \n",
    "    \"\"\"\n",
    "    \n",
    "    def __init__(self, num_feat=100):\n",
    "        self.num_feat = num_feat\n",
    "        \"\"\"\n",
    "        Arguments:\n",
    "        num_feat: is an integer if user specifies the number of features or a float between 0 and 1\n",
    "\n",
    "        \"\"\"\n",
    "    def fit(self, X, y=None):\n",
    "        \"\"\"\n",
    "        Using Scikit-learn's mutual_info_classif to estimate mutual information between each feature and the target.\n",
    "        \n",
    "        Arguments:\n",
    "        X: 2D Pandas dataframe\n",
    "        y: 1D Pandas dataframe\n",
    "        \n",
    "        \"\"\"\n",
    "        \n",
    "        # Impute mean for missing values\n",
    "        X = X.apply(lambda x: x.fillna(x.mean()),axis=0)\n",
    "        \n",
    "        # calculate mutual information\n",
    "        mi = mutual_info_classif(X, y)\n",
    "        # normalize \n",
    "        self.mi_ = mi/sum(mi)\n",
    "        \n",
    "        # Identify top features\n",
    "        dic = dict(zip(X.columns, self.mi_))\n",
    "        # ordered list of features \n",
    "        self.features_ordered_ = [k for k in sorted(dic, key=dic.get, reverse=True)]\n",
    "        # ordered list based on entropy\n",
    "        self.mi_ordered_ = [dic[k] for k in self.features_ordered_]\n",
    "\n",
    "        if isinstance(self.num_feat, int):\n",
    "            # if user selected a specific number of fearures \n",
    "            self.top_feature_list_ = self.features_ordered_[:self.num_feat]\n",
    "        else:\n",
    "            # if the user specified a threshold of overall imporatance \n",
    "            cumsum = np.cumsum(self.mi_ordered_)\n",
    "            self.num_feat_selected_ = np.argmax(cumsum>=self.num_feat) + 1\n",
    "            self.top_feature_list_ = self.features_ordered_[:self.num_feat_selected_]\n",
    "            \n",
    "        return self\n",
    "    \n",
    "    def transform(self, X):\n",
    "        \"\"\"\n",
    "        Returns a reduced Dataframe\n",
    "        \n",
    "        \"\"\"\n",
    "    \n",
    "        return X[self.top_feature_list_]\n",
    "    \n",
    "    def plot_importance(self, n=10):\n",
    "        \n",
    "        \"\"\"\n",
    "        plots important features\n",
    "        \n",
    "        Arguments: \n",
    "        n: numner of features to plot\n",
    "        \"\"\"\n",
    "        \n",
    "        ft = self.features_ordered_.copy()\n",
    "        mi = self.mi_ordered_.copy()\n",
    "        df = pd.DataFrame({'importance_normalized':mi, 'feature': ft})\n",
    "        df.loc[:n, :].plot.barh(y = 'importance_normalized', \n",
    "                                x = 'feature', color = 'blue', \n",
    "                                edgecolor = 'k', figsize = (12, 8),\n",
    "                                legend = False)\n",
    "\n",
    "        plt.xlabel('Normalized Information Gain', size = 18); plt.ylabel(''); \n",
    "        plt.title('Top %d Most Important Features'%n, size = 18)\n",
    "        plt.gca().invert_yaxis()"
   ]
  },
  {
   "cell_type": "code",
   "execution_count": 120,
   "metadata": {},
   "outputs": [],
   "source": [
    "class RFSelector(BaseEstimator, TransformerMixin):\n",
    "    \"\"\"\n",
    "    Selects most important features by training a random forest model \n",
    "    num_feat can be given as an integer or as a float\n",
    "    If num_feat is given as an integer e.g. 10, it will be used to select top 10 features \n",
    "    If given as a float e.g. 0.8, it will be used to select enough features to cover 80% of total feature importance\n",
    "    \n",
    "    \"\"\"\n",
    "    \n",
    "    def __init__(self, num_feat=100):\n",
    "        self.num_feat = num_feat\n",
    "        \"\"\"\n",
    "        Arguments:\n",
    "        num_feat: is an integer if user specifies the number of features or a float between 0 and 1 if user \n",
    "\n",
    "        \"\"\"\n",
    "    def fit(self, X, y=None):\n",
    "        \"\"\"\n",
    "        Fit a Random Forest model to data to find most important features\n",
    "        \n",
    "        Arguments:\n",
    "        X: 2D Pandas dataframe\n",
    "        y: 1D Pandas dataframe\n",
    "        \n",
    "        \"\"\"\n",
    "        \n",
    "        # Impute mean for missing values\n",
    "        X = X.apply(lambda x: x.fillna(x.mean()),axis=0)\n",
    "        \n",
    "        # Random Forest model\n",
    "        rf = RandomForestClassifier()\n",
    "        rf.fit(X, y)\n",
    "        \n",
    "        # Identify top features\n",
    "        dic = dict(zip(X.columns, rf.feature_importances_))\n",
    "        self.features_ordered_ = [k for k in sorted(dic, key=dic.get, reverse=True)]\n",
    "        self.importance_ordered_ = [dic[k] for k in self.features_ordered_]\n",
    "\n",
    "        if isinstance(self.num_feat, int):\n",
    "            # if user selected a specific number of fearures \n",
    "            self.top_feature_list_ = self.features_ordered_[:self.num_feat]\n",
    "        else:\n",
    "            # if the user specified a threshold of overall imporatance \n",
    "            cumsum = np.cumsum(self.importance_ordered_)\n",
    "            self.num_feat_selected_ = np.argmax(cumsum>=self.num_feat) + 1\n",
    "            self.top_feature_list_ = self.features_ordered_[:self.num_feat_selected_]\n",
    "            \n",
    "        return self\n",
    "    \n",
    "    def transform(self, X):\n",
    "        \"\"\"\n",
    "        Returns a reduced Dataframe\n",
    "        \n",
    "        \"\"\"\n",
    "    \n",
    "        return X[self.top_feature_list_]\n",
    "\n",
    "    def plot_importance(self, n=10):\n",
    "        \n",
    "        \"\"\"\n",
    "        plots important features\n",
    "        \n",
    "        Arguments: \n",
    "        n: numner of features to plot\n",
    "        \"\"\"\n",
    "        \n",
    "        ft = self.features_ordered_.copy()\n",
    "        im = self.importance_ordered_.copy()\n",
    "        df = pd.DataFrame({'importance_normalized':im, 'feature': ft})\n",
    "        df.loc[:n, :].plot.barh(y = 'importance_normalized', \n",
    "                                x = 'feature', color = 'blue', \n",
    "                                edgecolor = 'k', figsize = (12, 8),\n",
    "                                legend = False)\n",
    "\n",
    "        plt.xlabel('Normalized Importance', size = 18); plt.ylabel(''); \n",
    "        plt.title('Top %d Most Important Features'%n, size = 18)\n",
    "        plt.gca().invert_yaxis()"
   ]
  },
  {
   "cell_type": "code",
   "execution_count": 89,
   "metadata": {},
   "outputs": [],
   "source": [
    "# Reading output of Featuretools \n",
    "fm = pd.read_csv('../data/credit/featurematrix20190104')"
   ]
  },
  {
   "cell_type": "code",
   "execution_count": 90,
   "metadata": {},
   "outputs": [],
   "source": [
    "fm = fm.dropna(subset=['TARGET'])\n",
    "\n",
    "# Getting a sample\n",
    "fm = fm.sample(n=10000)\n",
    "\n",
    "# One-hot-encoding\n",
    "fm = pd.get_dummies(fm)"
   ]
  },
  {
   "cell_type": "code",
   "execution_count": 91,
   "metadata": {},
   "outputs": [
    {
     "name": "stdout",
     "output_type": "stream",
     "text": [
      "Number of columns in data after deep feature synthesis:  1071\n"
     ]
    }
   ],
   "source": [
    "print(\"Number of columns in data after deep feature synthesis: \", fm.shape[1])"
   ]
  },
  {
   "cell_type": "code",
   "execution_count": 92,
   "metadata": {},
   "outputs": [],
   "source": [
    "X = fm.drop(columns=['TARGET', 'SK_ID_CURR'])\n",
    "y = fm['TARGET']"
   ]
  },
  {
   "cell_type": "code",
   "execution_count": 94,
   "metadata": {},
   "outputs": [],
   "source": [
    "import time"
   ]
  },
  {
   "cell_type": "code",
   "execution_count": 111,
   "metadata": {},
   "outputs": [
    {
     "name": "stdout",
     "output_type": "stream",
     "text": [
      "97.65863680839539 seconds\n"
     ]
    }
   ],
   "source": [
    "# test MIselector\n",
    "miselector = MISelector()\n",
    "t1 = time.time()\n",
    "miselector.fit(X, y)\n",
    "t2 = time.time() - t1\n",
    "print(t2, 'seconds')"
   ]
  },
  {
   "cell_type": "code",
   "execution_count": 112,
   "metadata": {},
   "outputs": [
    {
     "data": {
      "image/png": "[encoded data removed]",
      "text/plain": [
       "<Figure size 864x576 with 1 Axes>"
      ]
     },
     "metadata": {},
     "output_type": "display_data"
    }
   ],
   "source": [
    "miselector.plot_importance(n=10)"
   ]
  },
  {
   "cell_type": "code",
   "execution_count": 121,
   "metadata": {},
   "outputs": [
    {
     "name": "stdout",
     "output_type": "stream",
     "text": [
      "97.84060668945312 seconds\n"
     ]
    }
   ],
   "source": [
    "# test MIselector for 0.8 overal importance\n",
    "miselector = MISelector(num_feat=0.8)\n",
    "t1 = time.time()\n",
    "miselector.fit(X, y)\n",
    "t2 = time.time() - t1\n",
    "print(t2, 'seconds')"
   ]
  },
  {
   "cell_type": "code",
   "execution_count": 125,
   "metadata": {},
   "outputs": [
    {
     "name": "stdout",
     "output_type": "stream",
     "text": [
      "original number of features: 1069\n",
      "number of features selected for 80% mutual information: 345\n"
     ]
    }
   ],
   "source": [
    "print('original number of features:', X.shape[1])\n",
    "print('number of features selected for 80% mutual information:', miselector.num_feat_selected_)"
   ]
  },
  {
   "cell_type": "code",
   "execution_count": 114,
   "metadata": {},
   "outputs": [
    {
     "name": "stdout",
     "output_type": "stream",
     "text": [
      "1.8725526332855225 seconds\n"
     ]
    }
   ],
   "source": [
    "# test RFSelector\n",
    "rfselector = RFSelector()\n",
    "t1 = time.time()\n",
    "rfselector.fit(X, y)\n",
    "t2 = time.time() - t1\n",
    "print(t2, 'seconds')"
   ]
  },
  {
   "cell_type": "code",
   "execution_count": 115,
   "metadata": {},
   "outputs": [
    {
     "data": {
      "image/png": "[encoded data removed]",
      "text/plain": [
       "<Figure size 864x576 with 1 Axes>"
      ]
     },
     "metadata": {},
     "output_type": "display_data"
    }
   ],
   "source": [
    "rfselector.plot_importance(n=10)"
   ]
  },
  {
   "cell_type": "code",
   "execution_count": 131,
   "metadata": {},
   "outputs": [],
   "source": [
    "# testing the pipeline - selecting features with 80% of overal feature importance \n",
    "\n",
    "test_pipeline = Pipeline([\n",
    "    ('drop_missing', DropMissing(threshold=0.7)),\n",
    "    ('drop_duplicate', DropDuplicate()),\n",
    "    ('drop_zerocov', DropZeroCov()),\n",
    "    ('drop_correlated', DropHighCorr(threshold=0.9)),\n",
    "    ('RF_selector', RFSelector(num_feat=0.8))\n",
    "])"
   ]
  },
  {
   "cell_type": "code",
   "execution_count": 140,
   "metadata": {},
   "outputs": [
    {
     "name": "stdout",
     "output_type": "stream",
     "text": [
      "---> 212 columns dropped due to missing values: ['COMMONAREA_AVG', 'COMMONAREA_MODE', 'COMMONAREA_MEDI', 'MIN(credit_card.CNT_DRAWINGS_CURRENT)', 'MIN(credit_card.AMT_DRAWINGS_OTHER_CURRENT)', 'MIN(prev_app.RATE_INTEREST_PRIMARY)', 'MEAN(credit_card.AMT_DRAWINGS_OTHER_CURRENT)', 'MAX(credit_card.SK_DPD_DEF)', 'MEAN(credit_card.CNT_DRAWINGS_CURRENT)', 'MIN(credit_card.AMT_RECEIVABLE_PRINCIPAL)', 'MAX(bureau.AMT_ANNUITY)', 'MEAN(credit_card.CNT_DRAWINGS_ATM_CURRENT)', 'MIN(credit_card.CNT_DRAWINGS_POS_CURRENT)', 'MEAN(bureau.AMT_ANNUITY)', 'MAX(credit_card.CNT_DRAWINGS_POS_CURRENT)', 'MIN(credit_card.AMT_PAYMENT_CURRENT)', 'MAX(credit_card.MONTHS_BALANCE)', 'MEAN(credit_card.AMT_RECEIVABLE_PRINCIPAL)', 'MIN(credit_card.AMT_PAYMENT_TOTAL_CURRENT)', 'MEAN(credit_card.AMT_CREDIT_LIMIT_ACTUAL)', 'MIN(prev_app.RATE_INTEREST_PRIVILEGED)', 'MAX(credit_card.AMT_RECIVABLE)', 'MEAN(credit_card.CNT_DRAWINGS_OTHER_CURRENT)', 'MEAN(prev_app.RATE_INTEREST_PRIVILEGED)', 'MIN(bureau.AMT_ANNUITY)', 'MIN(credit_card.CNT_DRAWINGS_OTHER_CURRENT)', 'MEAN(credit_card.SK_DPD_DEF)', 'MEAN(credit_card.AMT_DRAWINGS_CURRENT)', 'MAX(credit_card.AMT_DRAWINGS_CURRENT)', 'MIN(credit_card.AMT_TOTAL_RECEIVABLE)', 'MIN(credit_card.CNT_DRAWINGS_ATM_CURRENT)', 'MIN(credit_card.AMT_DRAWINGS_CURRENT)', 'MAX(credit_card.AMT_DRAWINGS_ATM_CURRENT)', 'MAX(credit_card.AMT_CREDIT_LIMIT_ACTUAL)', 'MIN(credit_card.AMT_DRAWINGS_POS_CURRENT)', 'MAX(credit_card.AMT_RECEIVABLE_PRINCIPAL)', 'MAX(credit_card.CNT_INSTALMENT_MATURE_CUM)', 'MAX(credit_card.CNT_DRAWINGS_CURRENT)', 'MAX(credit_card.AMT_PAYMENT_TOTAL_CURRENT)', 'MEAN(credit_card.AMT_RECIVABLE)', 'MAX(credit_card.CNT_DRAWINGS_OTHER_CURRENT)', 'MIN(credit_card.CNT_INSTALMENT_MATURE_CUM)', 'MEAN(prev_app.RATE_INTEREST_PRIMARY)', 'MAX(credit_card.AMT_DRAWINGS_OTHER_CURRENT)', 'MEAN(credit_card.CNT_DRAWINGS_POS_CURRENT)', 'MEAN(credit_card.MONTHS_BALANCE)', 'MEAN(credit_card.AMT_INST_MIN_REGULARITY)', 'MAX(credit_card.AMT_INST_MIN_REGULARITY)', 'MIN(credit_card.SK_DPD)', 'MEAN(credit_card.CNT_INSTALMENT_MATURE_CUM)', 'MAX(credit_card.CNT_DRAWINGS_ATM_CURRENT)', 'MIN(credit_card.MONTHS_BALANCE)', 'MIN(credit_card.AMT_BALANCE)', 'MEAN(credit_card.AMT_PAYMENT_CURRENT)', 'MAX(credit_card.AMT_PAYMENT_CURRENT)', 'MIN(credit_card.AMT_RECIVABLE)', 'MIN(credit_card.AMT_CREDIT_LIMIT_ACTUAL)', 'MIN(credit_card.AMT_INST_MIN_REGULARITY)', 'MAX(credit_card.AMT_DRAWINGS_POS_CURRENT)', 'MAX(prev_app.RATE_INTEREST_PRIMARY)', 'MEAN(credit_card.AMT_TOTAL_RECEIVABLE)', 'MEAN(credit_card.AMT_BALANCE)', 'MIN(credit_card.SK_DPD_DEF)', 'MAX(credit_card.SK_DPD)', 'MEAN(credit_card.AMT_PAYMENT_TOTAL_CURRENT)', 'MEAN(credit_card.SK_DPD)', 'MAX(credit_card.AMT_BALANCE)', 'MEAN(credit_card.AMT_DRAWINGS_POS_CURRENT)', 'MAX(prev_app.RATE_INTEREST_PRIVILEGED)', 'MEAN(credit_card.AMT_DRAWINGS_ATM_CURRENT)', 'MIN(credit_card.AMT_DRAWINGS_ATM_CURRENT)', 'MAX(credit_card.AMT_TOTAL_RECEIVABLE)', 'MAX(prev_app.MEAN(credit_card.AMT_PAYMENT_TOTAL_CURRENT))', 'MIN(prev_app.MAX(credit_card.AMT_DRAWINGS_ATM_CURRENT))', 'MEAN(prev_app.MEAN(credit_card.AMT_INST_MIN_REGULARITY))', 'MEAN(prev_app.MEAN(credit_card.SK_DPD_DEF))', 'MEAN(prev_app.MEAN(credit_card.AMT_BALANCE))', 'MEAN(prev_app.MIN(credit_card.MONTHS_BALANCE))', 'MEAN(prev_app.MEAN(credit_card.SK_DPD))', 'MIN(prev_app.MEAN(credit_card.AMT_DRAWINGS_OTHER_CURRENT))', 'MEAN(prev_app.MAX(credit_card.CNT_DRAWINGS_CURRENT))', 'MIN(prev_app.MEAN(credit_card.CNT_DRAWINGS_POS_CURRENT))', 'MIN(prev_app.MEAN(credit_card.SK_DPD))', 'MAX(prev_app.MIN(credit_card.AMT_INST_MIN_REGULARITY))', 'MEAN(prev_app.MAX(credit_card.AMT_INST_MIN_REGULARITY))', 'MAX(prev_app.MEAN(credit_card.AMT_RECEIVABLE_PRINCIPAL))', 'MAX(prev_app.MIN(credit_card.AMT_DRAWINGS_POS_CURRENT))', 'MEAN(prev_app.MIN(credit_card.AMT_PAYMENT_CURRENT))', 'MEAN(prev_app.MIN(credit_card.AMT_TOTAL_RECEIVABLE))', 'MEAN(prev_app.MEAN(credit_card.CNT_INSTALMENT_MATURE_CUM))', 'MIN(prev_app.MEAN(credit_card.SK_DPD_DEF))', 'MEAN(prev_app.MEAN(credit_card.AMT_CREDIT_LIMIT_ACTUAL))', 'MIN(prev_app.MEAN(credit_card.CNT_DRAWINGS_OTHER_CURRENT))', 'MIN(prev_app.MEAN(credit_card.AMT_INST_MIN_REGULARITY))', 'MIN(prev_app.MEAN(credit_card.AMT_PAYMENT_TOTAL_CURRENT))', 'MAX(prev_app.MEAN(credit_card.AMT_CREDIT_LIMIT_ACTUAL))', 'MIN(prev_app.MAX(credit_card.AMT_BALANCE))', 'MIN(prev_app.MAX(credit_card.AMT_DRAWINGS_OTHER_CURRENT))', 'MIN(prev_app.MAX(credit_card.SK_DPD_DEF))', 'MIN(prev_app.MAX(credit_card.AMT_DRAWINGS_CURRENT))', 'MIN(prev_app.MEAN(credit_card.AMT_CREDIT_LIMIT_ACTUAL))', 'MIN(prev_app.MEAN(credit_card.AMT_DRAWINGS_CURRENT))', 'MIN(prev_app.MAX(credit_card.CNT_DRAWINGS_ATM_CURRENT))', 'MIN(prev_app.MAX(credit_card.CNT_DRAWINGS_OTHER_CURRENT))', 'MEAN(prev_app.MIN(credit_card.AMT_BALANCE))', 'MIN(prev_app.MAX(credit_card.AMT_RECEIVABLE_PRINCIPAL))', 'MIN(prev_app.MAX(credit_card.SK_DPD))', 'MAX(prev_app.MIN(credit_card.AMT_DRAWINGS_CURRENT))', 'MAX(prev_app.MIN(credit_card.AMT_PAYMENT_TOTAL_CURRENT))', 'MEAN(prev_app.MEAN(credit_card.MONTHS_BALANCE))', 'MAX(prev_app.MIN(credit_card.SK_DPD))', 'MAX(prev_app.MIN(credit_card.MONTHS_BALANCE))', 'MIN(prev_app.MEAN(credit_card.AMT_RECEIVABLE_PRINCIPAL))', 'MIN(prev_app.MAX(credit_card.MONTHS_BALANCE))', 'MIN(prev_app.MAX(credit_card.AMT_CREDIT_LIMIT_ACTUAL))', 'MEAN(prev_app.MAX(credit_card.CNT_INSTALMENT_MATURE_CUM))', 'MAX(prev_app.MIN(credit_card.CNT_DRAWINGS_OTHER_CURRENT))', 'MEAN(prev_app.MIN(credit_card.AMT_DRAWINGS_ATM_CURRENT))', 'MEAN(prev_app.MEAN(credit_card.AMT_DRAWINGS_OTHER_CURRENT))', 'MEAN(prev_app.MEAN(credit_card.AMT_RECIVABLE))', 'MIN(prev_app.MAX(credit_card.AMT_PAYMENT_CURRENT))', 'MEAN(prev_app.MAX(credit_card.AMT_DRAWINGS_OTHER_CURRENT))', 'MEAN(prev_app.MAX(credit_card.AMT_RECEIVABLE_PRINCIPAL))', 'MAX(prev_app.MIN(credit_card.CNT_DRAWINGS_CURRENT))', 'MEAN(prev_app.MAX(credit_card.SK_DPD))', 'MEAN(prev_app.MIN(credit_card.AMT_RECIVABLE))', 'MAX(prev_app.MIN(credit_card.AMT_RECEIVABLE_PRINCIPAL))', 'MAX(prev_app.MEAN(credit_card.AMT_DRAWINGS_OTHER_CURRENT))', 'MEAN(prev_app.MAX(credit_card.AMT_CREDIT_LIMIT_ACTUAL))', 'MAX(prev_app.MEAN(credit_card.AMT_DRAWINGS_POS_CURRENT))', 'MAX(prev_app.MEAN(credit_card.AMT_TOTAL_RECEIVABLE))', 'MEAN(prev_app.MIN(credit_card.CNT_DRAWINGS_CURRENT))', 'MAX(prev_app.MEAN(credit_card.SK_DPD_DEF))', 'MIN(prev_app.MAX(credit_card.CNT_INSTALMENT_MATURE_CUM))', 'MAX(prev_app.MEAN(credit_card.AMT_DRAWINGS_CURRENT))', 'MEAN(prev_app.MIN(credit_card.AMT_RECEIVABLE_PRINCIPAL))', 'MAX(prev_app.MEAN(credit_card.MONTHS_BALANCE))', 'MAX(prev_app.MEAN(credit_card.CNT_INSTALMENT_MATURE_CUM))', 'MIN(prev_app.MEAN(credit_card.AMT_TOTAL_RECEIVABLE))', 'MEAN(prev_app.MIN(credit_card.CNT_DRAWINGS_POS_CURRENT))', 'MAX(prev_app.MEAN(credit_card.AMT_INST_MIN_REGULARITY))', 'MEAN(prev_app.MAX(credit_card.AMT_RECIVABLE))', 'MIN(prev_app.MEAN(credit_card.CNT_DRAWINGS_ATM_CURRENT))', 'MAX(prev_app.MEAN(credit_card.CNT_DRAWINGS_ATM_CURRENT))', 'MAX(prev_app.MIN(credit_card.AMT_RECIVABLE))', 'MEAN(prev_app.MEAN(credit_card.CNT_DRAWINGS_POS_CURRENT))', 'MEAN(prev_app.MEAN(credit_card.AMT_DRAWINGS_CURRENT))', 'MAX(prev_app.MEAN(credit_card.CNT_DRAWINGS_POS_CURRENT))', 'MEAN(prev_app.MAX(credit_card.CNT_DRAWINGS_OTHER_CURRENT))', 'MAX(prev_app.MIN(credit_card.AMT_TOTAL_RECEIVABLE))', 'MAX(prev_app.MIN(credit_card.SK_DPD_DEF))', 'MAX(prev_app.MIN(credit_card.CNT_DRAWINGS_ATM_CURRENT))', 'MAX(prev_app.MIN(credit_card.CNT_DRAWINGS_POS_CURRENT))', 'MIN(prev_app.MAX(credit_card.AMT_DRAWINGS_POS_CURRENT))', 'MIN(prev_app.MEAN(credit_card.AMT_DRAWINGS_POS_CURRENT))', 'MIN(prev_app.MEAN(credit_card.AMT_DRAWINGS_ATM_CURRENT))', 'MIN(prev_app.MAX(credit_card.AMT_PAYMENT_TOTAL_CURRENT))', 'MEAN(prev_app.MAX(credit_card.AMT_TOTAL_RECEIVABLE))', 'MIN(prev_app.MEAN(credit_card.AMT_PAYMENT_CURRENT))', 'MAX(prev_app.MIN(credit_card.AMT_DRAWINGS_ATM_CURRENT))', 'MEAN(prev_app.MAX(credit_card.CNT_DRAWINGS_ATM_CURRENT))', 'MEAN(prev_app.MAX(credit_card.AMT_DRAWINGS_CURRENT))', 'MIN(prev_app.MAX(credit_card.CNT_DRAWINGS_CURRENT))', 'MAX(prev_app.MEAN(credit_card.CNT_DRAWINGS_CURRENT))', 'MIN(prev_app.MEAN(credit_card.CNT_INSTALMENT_MATURE_CUM))', 'MEAN(prev_app.MIN(credit_card.CNT_INSTALMENT_MATURE_CUM))', 'MEAN(prev_app.MAX(credit_card.MONTHS_BALANCE))', 'MIN(prev_app.MEAN(credit_card.MONTHS_BALANCE))', 'MAX(prev_app.MEAN(credit_card.AMT_PAYMENT_CURRENT))', 'MEAN(prev_app.MEAN(credit_card.AMT_TOTAL_RECEIVABLE))', 'MIN(prev_app.MAX(credit_card.CNT_DRAWINGS_POS_CURRENT))', 'MAX(prev_app.MEAN(credit_card.CNT_DRAWINGS_OTHER_CURRENT))', 'MAX(prev_app.MEAN(credit_card.AMT_BALANCE))', 'MAX(prev_app.MEAN(credit_card.SK_DPD))', 'MEAN(prev_app.MAX(credit_card.AMT_DRAWINGS_ATM_CURRENT))', 'MEAN(prev_app.MEAN(credit_card.CNT_DRAWINGS_OTHER_CURRENT))', 'MEAN(prev_app.MAX(credit_card.AMT_BALANCE))', 'MAX(prev_app.MIN(credit_card.AMT_CREDIT_LIMIT_ACTUAL))', 'MEAN(prev_app.MAX(credit_card.CNT_DRAWINGS_POS_CURRENT))', 'MEAN(prev_app.MIN(credit_card.SK_DPD_DEF))', 'MEAN(prev_app.MEAN(credit_card.AMT_DRAWINGS_ATM_CURRENT))', 'MEAN(prev_app.MIN(credit_card.AMT_PAYMENT_TOTAL_CURRENT))', 'MEAN(prev_app.MEAN(credit_card.CNT_DRAWINGS_CURRENT))', 'MEAN(prev_app.MIN(credit_card.AMT_DRAWINGS_POS_CURRENT))', 'MAX(prev_app.MIN(credit_card.AMT_DRAWINGS_OTHER_CURRENT))', 'MEAN(prev_app.MIN(credit_card.SK_DPD))', 'MAX(prev_app.MEAN(credit_card.AMT_DRAWINGS_ATM_CURRENT))', 'MIN(prev_app.MAX(credit_card.AMT_TOTAL_RECEIVABLE))', 'MEAN(prev_app.MAX(credit_card.SK_DPD_DEF))', 'MEAN(prev_app.MAX(credit_card.AMT_PAYMENT_TOTAL_CURRENT))', 'MIN(prev_app.MEAN(credit_card.AMT_RECIVABLE))', 'MEAN(prev_app.MIN(credit_card.AMT_DRAWINGS_OTHER_CURRENT))', 'MEAN(prev_app.MIN(credit_card.CNT_DRAWINGS_OTHER_CURRENT))', 'MEAN(prev_app.MEAN(credit_card.AMT_DRAWINGS_POS_CURRENT))', 'MEAN(prev_app.MAX(credit_card.AMT_DRAWINGS_POS_CURRENT))', 'MEAN(prev_app.MAX(credit_card.AMT_PAYMENT_CURRENT))', 'MIN(prev_app.MAX(credit_card.AMT_RECIVABLE))', 'MEAN(prev_app.MIN(credit_card.CNT_DRAWINGS_ATM_CURRENT))', 'MAX(prev_app.MIN(credit_card.AMT_BALANCE))', 'MIN(prev_app.MEAN(credit_card.AMT_BALANCE))', 'MAX(prev_app.MIN(credit_card.AMT_PAYMENT_CURRENT))', 'MEAN(prev_app.MEAN(credit_card.AMT_RECEIVABLE_PRINCIPAL))', 'MIN(prev_app.MEAN(credit_card.CNT_DRAWINGS_CURRENT))', 'MAX(prev_app.MEAN(credit_card.AMT_RECIVABLE))', 'MEAN(prev_app.MEAN(credit_card.AMT_PAYMENT_CURRENT))', 'MEAN(prev_app.MIN(credit_card.AMT_INST_MIN_REGULARITY))', 'MEAN(prev_app.MEAN(credit_card.CNT_DRAWINGS_ATM_CURRENT))', 'MEAN(prev_app.MEAN(credit_card.AMT_PAYMENT_TOTAL_CURRENT))', 'MAX(prev_app.MIN(credit_card.CNT_INSTALMENT_MATURE_CUM))', 'MEAN(prev_app.MIN(credit_card.AMT_DRAWINGS_CURRENT))', 'MIN(prev_app.MAX(credit_card.AMT_INST_MIN_REGULARITY))', 'MEAN(prev_app.MIN(credit_card.AMT_CREDIT_LIMIT_ACTUAL))']\n"
     ]
    },
    {
     "name": "stdout",
     "output_type": "stream",
     "text": [
      "---> 19 columns dropped due to duplicate values:\n",
      "\n",
      "---> 4 columns dropped due to zero variance:\n",
      " ['FLAG_DOCUMENT_10', 'FLAG_MOBIL', 'MIN(installments.NUM_INSTALMENT_NUMBER)', 'MIN(pos_cash.SK_DPD_DEF)']\n",
      "---> 255 columns dropped due to collinearity:\n",
      " ['FLOORSMAX_AVG', 'YEARS_BUILD_AVG', 'FLOORSMAX_MEDI', 'FLOORSMIN_MODE', 'ENTRANCES_MEDI', 'ELEVATORS_AVG', 'LANDAREA_MODE', 'NONLIVINGAREA_AVG', 'OBS_60_CNT_SOCIAL_CIRCLE', 'LIVINGAPARTMENTS_MEDI', 'LIVINGAPARTMENTS_AVG', 'YEARS_BUILD_MODE', 'APARTMENTS_MODE', 'LIVINGAPARTMENTS_MODE', 'LANDAREA_MEDI', 'YEARS_BEGINEXPLUATATION_MODE', 'ELEVATORS_MEDI', 'DAYS_EMPLOYED', 'AMT_CREDIT', 'YEARS_BEGINEXPLUATATION_MEDI', 'NONLIVINGAREA_MEDI', 'ENTRANCES_MODE', 'BASEMENTAREA_MEDI', 'LIVINGAREA_MEDI', 'FLOORSMIN_AVG', 'LIVINGAREA_AVG', 'REGION_RATING_CLIENT', 'LIVINGAREA_MODE', 'APARTMENTS_AVG', 'BASEMENTAREA_AVG', 'NONLIVINGAPARTMENTS_MEDI', 'NONLIVINGAPARTMENTS_AVG', 'SUM(credit_card.AMT_INST_MIN_REGULARITY)', 'MAX(pos_cash.CNT_INSTALMENT)', 'SUM(bureau.DAYS_CREDIT)', 'SUM(prev_app.DAYS_FIRST_DUE)', 'MAX(bureau.CREDIT_DAY_OVERDUE)', 'MAX(bureau.AMT_CREDIT_SUM_DEBT)', 'SUM(prev_app.AMT_ANNUITY)', 'MAX(bureau.AMT_CREDIT_MAX_OVERDUE)', 'MEAN(prev_app.AMT_DOWN_PAYMENT)', 'SUM(prev_app.DAYS_LAST_DUE)', 'SUM(credit_card.AMT_RECIVABLE)', 'MEAN(prev_app.AMT_GOODS_PRICE)', 'MEAN(pos_cash.MONTHS_BALANCE)', 'SUM(credit_card.AMT_RECEIVABLE_PRINCIPAL)', 'MEAN(pos_cash.CNT_INSTALMENT)', 'MIN(prev_app.DAYS_DECISION)', 'SUM(credit_card.AMT_DRAWINGS_CURRENT)', 'SUM(prev_app.AMT_CREDIT)', 'SUM(credit_card.CNT_DRAWINGS_CURRENT)', 'MAX(bureau.AMT_CREDIT_SUM_LIMIT)', 'MAX(prev_app.DAYS_TERMINATION)', 'SUM(installments.NUM_INSTALMENT_NUMBER)', 'SUM(pos_cash.CNT_INSTALMENT)', 'SUM(prev_app.AMT_GOODS_PRICE)', 'SUM(bureau.AMT_CREDIT_SUM_OVERDUE)', 'MEAN(prev_app.DAYS_TERMINATION)', 'SUM(credit_card.AMT_BALANCE)', 'SUM(prev_app.DAYS_LAST_DUE_1ST_VERSION)', 'MAX(installments.AMT_PAYMENT)', 'SUM(credit_card.AMT_PAYMENT_CURRENT)', 'MIN(prev_app.DAYS_LAST_DUE)', 'MEAN(installments.DAYS_ENTRY_PAYMENT)', 'MIN(prev_app.DAYS_LAST_DUE_1ST_VERSION)', 'MAX(installments.DAYS_INSTALMENT)', 'MIN(prev_app.AMT_CREDIT)', 'SUM(prev_app.AMT_DOWN_PAYMENT)', 'MAX(prev_app.AMT_GOODS_PRICE)', 'MIN(installments.DAYS_ENTRY_PAYMENT)', 'MAX(prev_app.AMT_DOWN_PAYMENT)', 'MEAN(prev_app.AMT_APPLICATION)', 'MEAN(bureau.AMT_CREDIT_SUM_OVERDUE)', 'MIN(bureau.DAYS_CREDIT)', 'MIN(prev_app.DAYS_FIRST_DRAWING)', 'MAX(bureau.CNT_CREDIT_PROLONG)', 'MIN(pos_cash.MONTHS_BALANCE)', 'MAX(prev_app.AMT_APPLICATION)', 'MEAN(pos_cash.SK_DPD)', 'MEAN(installments.AMT_INSTALMENT)', 'SUM(prev_app.RATE_INTEREST_PRIVILEGED)', 'SUM(installments.DAYS_INSTALMENT)', 'SUM(installments.AMT_INSTALMENT)', 'SUM(bureau.DAYS_ENDDATE_FACT)', 'MIN(prev_app.MAX(pos_cash.MONTHS_BALANCE))', 'SUM(prev_app.MIN(installments.NUM_INSTALMENT_VERSION))', 'MAX(bureau.MEAN(bureau_balance.MONTHS_BALANCE))', 'SUM(prev_app.MEAN(installments.DAYS_INSTALMENT))', 'SUM(prev_app.MEAN(credit_card.SK_DPD))', 'MEAN(prev_app.MIN(pos_cash.MONTHS_BALANCE))', 'SUM(prev_app.MEAN(credit_card.AMT_INST_MIN_REGULARITY))', 'SUM(prev_app.MAX(credit_card.AMT_DRAWINGS_OTHER_CURRENT))', 'MEAN(prev_app.MAX(installments.DAYS_ENTRY_PAYMENT))', 'MAX(prev_app.SUM(credit_card.AMT_TOTAL_RECEIVABLE))', 'SUM(prev_app.MAX(installments.AMT_INSTALMENT))', 'SUM(prev_app.MIN(credit_card.MONTHS_BALANCE))', 'MEAN(prev_app.MAX(pos_cash.CNT_INSTALMENT_FUTURE))', 'SUM(prev_app.MIN(installments.NUM_INSTALMENT_NUMBER))', 'SUM(prev_app.MAX(credit_card.CNT_DRAWINGS_CURRENT))', 'SUM(prev_app.MAX(pos_cash.CNT_INSTALMENT_FUTURE))', 'SUM(prev_app.MAX(credit_card.AMT_TOTAL_RECEIVABLE))', 'SUM(prev_app.MIN(installments.DAYS_ENTRY_PAYMENT))', 'SUM(prev_app.MAX(credit_card.CNT_INSTALMENT_MATURE_CUM))', 'MAX(prev_app.MEAN(pos_cash.SK_DPD_DEF))', 'SUM(prev_app.MIN(installments.DAYS_INSTALMENT))', 'SUM(prev_app.MEAN(installments.NUM_INSTALMENT_VERSION))', 'MIN(prev_app.MAX(installments.DAYS_ENTRY_PAYMENT))', 'MAX(prev_app.SUM(credit_card.AMT_INST_MIN_REGULARITY))', 'SUM(prev_app.MEAN(credit_card.AMT_TOTAL_RECEIVABLE))', 'MAX(prev_app.SUM(credit_card.CNT_DRAWINGS_POS_CURRENT))', 'SUM(bureau.MIN(bureau_balance.MONTHS_BALANCE))', 'SUM(prev_app.MIN(installments.AMT_INSTALMENT))', 'MIN(prev_app.SUM(credit_card.AMT_DRAWINGS_CURRENT))', 'SUM(prev_app.MEAN(credit_card.AMT_CREDIT_LIMIT_ACTUAL))', 'MIN(prev_app.SUM(credit_card.AMT_BALANCE))', 'SUM(prev_app.MEAN(credit_card.MONTHS_BALANCE))', 'MAX(prev_app.SUM(credit_card.CNT_INSTALMENT_MATURE_CUM))', 'MIN(prev_app.MAX(pos_cash.CNT_INSTALMENT))', 'MEAN(prev_app.MAX(pos_cash.CNT_INSTALMENT))', 'MIN(prev_app.SUM(installments.DAYS_INSTALMENT))', 'SUM(prev_app.MEAN(installments.NUM_INSTALMENT_NUMBER))', 'MIN(prev_app.SUM(credit_card.AMT_PAYMENT_CURRENT))', 'SUM(prev_app.MAX(pos_cash.CNT_INSTALMENT))', 'SUM(prev_app.MIN(credit_card.AMT_RECEIVABLE_PRINCIPAL))', 'SUM(prev_app.MEAN(pos_cash.MONTHS_BALANCE))', 'MEAN(prev_app.MAX(installments.AMT_PAYMENT))', 'MAX(bureau.MIN(bureau_balance.MONTHS_BALANCE))', 'SUM(prev_app.MEAN(pos_cash.SK_DPD))', 'SUM(prev_app.MEAN(installments.DAYS_ENTRY_PAYMENT))', 'MEAN(prev_app.SUM(credit_card.AMT_DRAWINGS_CURRENT))', 'MIN(prev_app.MEAN(installments.DAYS_ENTRY_PAYMENT))', 'MEAN(prev_app.MEAN(pos_cash.CNT_INSTALMENT_FUTURE))', 'MEAN(prev_app.MIN(installments.DAYS_ENTRY_PAYMENT))', 'MAX(prev_app.SUM(credit_card.CNT_DRAWINGS_CURRENT))', 'MEAN(prev_app.SUM(credit_card.CNT_DRAWINGS_POS_CURRENT))', 'SUM(prev_app.MEAN(credit_card.CNT_INSTALMENT_MATURE_CUM))', 'MAX(prev_app.SUM(installments.DAYS_INSTALMENT))', 'MAX(prev_app.MEAN(pos_cash.CNT_INSTALMENT))', 'MEAN(prev_app.MEAN(pos_cash.MONTHS_BALANCE))', 'MAX(prev_app.MEAN(installments.NUM_INSTALMENT_NUMBER))', 'MEAN(prev_app.SUM(credit_card.AMT_PAYMENT_TOTAL_CURRENT))', 'SUM(prev_app.MEAN(pos_cash.SK_DPD_DEF))', 'MIN(prev_app.SUM(credit_card.AMT_RECEIVABLE_PRINCIPAL))', 'MIN(prev_app.SUM(credit_card.AMT_TOTAL_RECEIVABLE))', 'SUM(prev_app.MAX(installments.DAYS_ENTRY_PAYMENT))', 'MAX(prev_app.SUM(credit_card.AMT_BALANCE))', 'MEAN(prev_app.SUM(pos_cash.CNT_INSTALMENT_FUTURE))', 'MIN(prev_app.SUM(credit_card.AMT_DRAWINGS_POS_CURRENT))', 'MAX(prev_app.SUM(credit_card.CNT_DRAWINGS_OTHER_CURRENT))', 'MIN(prev_app.MAX(installments.AMT_INSTALMENT))', 'MIN(prev_app.SUM(installments.AMT_PAYMENT))', 'MIN(prev_app.SUM(credit_card.AMT_INST_MIN_REGULARITY))', 'MEAN(prev_app.MAX(installments.DAYS_INSTALMENT))', 'MIN(prev_app.MEAN(installments.AMT_PAYMENT))', 'SUM(prev_app.MIN(pos_cash.CNT_INSTALMENT))', 'MIN(prev_app.MAX(installments.DAYS_INSTALMENT))', 'SUM(prev_app.MIN(pos_cash.CNT_INSTALMENT_FUTURE))', 'MAX(prev_app.SUM(credit_card.AMT_DRAWINGS_CURRENT))', 'MAX(prev_app.SUM(credit_card.AMT_CREDIT_LIMIT_ACTUAL))', 'MEAN(prev_app.MEAN(installments.NUM_INSTALMENT_VERSION))', 'SUM(prev_app.MAX(installments.NUM_INSTALMENT_NUMBER))', 'SUM(prev_app.MEAN(credit_card.AMT_BALANCE))', 'MAX(prev_app.SUM(pos_cash.SK_DPD_DEF))', 'MAX(prev_app.MIN(installments.DAYS_ENTRY_PAYMENT))', 'MAX(prev_app.MEAN(installments.AMT_INSTALMENT))', 'MEAN(prev_app.SUM(credit_card.AMT_INST_MIN_REGULARITY))', 'SUM(prev_app.MAX(credit_card.AMT_CREDIT_LIMIT_ACTUAL))', 'MEAN(prev_app.SUM(credit_card.AMT_TOTAL_RECEIVABLE))', 'MIN(prev_app.MEAN(pos_cash.MONTHS_BALANCE))', 'SUM(prev_app.MAX(installments.NUM_INSTALMENT_VERSION))', 'MEAN(prev_app.MAX(pos_cash.MONTHS_BALANCE))', 'MIN(prev_app.SUM(credit_card.AMT_CREDIT_LIMIT_ACTUAL))', 'SUM(prev_app.MIN(credit_card.CNT_DRAWINGS_ATM_CURRENT))', 'MAX(prev_app.SUM(credit_card.CNT_DRAWINGS_ATM_CURRENT))', 'MIN(prev_app.MEAN(pos_cash.CNT_INSTALMENT))', 'MEAN(prev_app.SUM(credit_card.AMT_BALANCE))', 'MAX(prev_app.MIN(pos_cash.MONTHS_BALANCE))', 'SUM(prev_app.MEAN(pos_cash.CNT_INSTALMENT))', 'MIN(prev_app.MEAN(installments.DAYS_INSTALMENT))', 'MAX(prev_app.MEAN(pos_cash.MONTHS_BALANCE))', 'MAX(prev_app.SUM(installments.NUM_INSTALMENT_NUMBER))', 'MIN(prev_app.MEAN(pos_cash.SK_DPD))', 'MAX(prev_app.SUM(credit_card.AMT_RECIVABLE))', 'MEAN(bureau.MIN(bureau_balance.MONTHS_BALANCE))', 'SUM(prev_app.MEAN(credit_card.CNT_DRAWINGS_CURRENT))', 'SUM(prev_app.MAX(credit_card.AMT_RECEIVABLE_PRINCIPAL))', 'SUM(prev_app.MEAN(credit_card.AMT_RECEIVABLE_PRINCIPAL))', 'SUM(prev_app.MAX(installments.DAYS_INSTALMENT))', 'MAX(prev_app.MIN(installments.DAYS_INSTALMENT))', 'SUM(prev_app.MIN(credit_card.AMT_BALANCE))', 'MAX(prev_app.MEAN(installments.AMT_PAYMENT))', 'MEAN(prev_app.MIN(installments.AMT_PAYMENT))', 'SUM(prev_app.MEAN(installments.AMT_INSTALMENT))', 'SUM(prev_app.MIN(installments.AMT_PAYMENT))', 'MEAN(prev_app.SUM(installments.AMT_PAYMENT))', 'MEAN(prev_app.SUM(credit_card.SK_DPD_DEF))', 'SUM(prev_app.MIN(pos_cash.MONTHS_BALANCE))', 'MAX(prev_app.SUM(pos_cash.SK_DPD))', 'MIN(prev_app.SUM(credit_card.MONTHS_BALANCE))', 'MAX(prev_app.SUM(credit_card.SK_DPD_DEF))', 'MEAN(prev_app.MEAN(pos_cash.CNT_INSTALMENT))', 'SUM(prev_app.MEAN(credit_card.AMT_PAYMENT_CURRENT))', 'MEAN(prev_app.MEAN(installments.AMT_PAYMENT))', 'MIN(prev_app.MEAN(pos_cash.CNT_INSTALMENT_FUTURE))', 'MEAN(prev_app.MAX(pos_cash.SK_DPD))', 'MAX(prev_app.MEAN(installments.DAYS_INSTALMENT))', 'MEAN(prev_app.MIN(installments.DAYS_INSTALMENT))', 'MAX(prev_app.MEAN(installments.NUM_INSTALMENT_VERSION))', 'MEAN(prev_app.MEAN(pos_cash.SK_DPD_DEF))', 'MEAN(prev_app.SUM(credit_card.SK_DPD))', 'MAX(prev_app.SUM(pos_cash.CNT_INSTALMENT_FUTURE))', 'SUM(prev_app.MAX(credit_card.AMT_INST_MIN_REGULARITY))', 'MIN(prev_app.SUM(pos_cash.CNT_INSTALMENT))', 'MIN(prev_app.SUM(credit_card.AMT_PAYMENT_TOTAL_CURRENT))', 'MAX(prev_app.MIN(installments.NUM_INSTALMENT_NUMBER))', 'MAX(prev_app.MEAN(installments.DAYS_ENTRY_PAYMENT))', 'SUM(prev_app.MAX(pos_cash.MONTHS_BALANCE))', 'SUM(prev_app.MAX(credit_card.AMT_BALANCE))', 'MAX(prev_app.SUM(installments.AMT_PAYMENT))', 'SUM(prev_app.MEAN(credit_card.AMT_RECIVABLE))', 'SUM(prev_app.MAX(installments.AMT_PAYMENT))', 'MEAN(prev_app.SUM(credit_card.AMT_RECIVABLE))', 'SUM(prev_app.MAX(pos_cash.SK_DPD))', 'MEAN(prev_app.MEAN(installments.DAYS_ENTRY_PAYMENT))', 'MAX(prev_app.MIN(installments.AMT_PAYMENT))', 'MAX(prev_app.SUM(credit_card.SK_DPD))', 'MAX(prev_app.SUM(credit_card.AMT_RECEIVABLE_PRINCIPAL))', 'MEAN(prev_app.MEAN(installments.DAYS_INSTALMENT))', 'MEAN(bureau.MEAN(bureau_balance.MONTHS_BALANCE))', 'MEAN(prev_app.SUM(pos_cash.SK_DPD_DEF))', 'MEAN(prev_app.MEAN(pos_cash.SK_DPD))', 'MAX(prev_app.SUM(credit_card.AMT_DRAWINGS_POS_CURRENT))', 'MAX(prev_app.SUM(credit_card.AMT_PAYMENT_CURRENT))', 'MAX(prev_app.SUM(credit_card.AMT_DRAWINGS_ATM_CURRENT))', 'MEAN(prev_app.SUM(installments.DAYS_ENTRY_PAYMENT))', 'MAX(prev_app.SUM(credit_card.AMT_PAYMENT_TOTAL_CURRENT))', 'MAX(prev_app.MEAN(pos_cash.SK_DPD))', 'SUM(prev_app.MAX(pos_cash.SK_DPD_DEF))', 'MAX(prev_app.SUM(credit_card.AMT_DRAWINGS_OTHER_CURRENT))', 'MIN(prev_app.MAX(installments.NUM_INSTALMENT_VERSION))', 'SUM(prev_app.MAX(credit_card.AMT_PAYMENT_TOTAL_CURRENT))', 'MAX(prev_app.MEAN(pos_cash.CNT_INSTALMENT_FUTURE))', 'SUM(prev_app.MAX(credit_card.SK_DPD))', 'SUM(prev_app.MEAN(credit_card.AMT_PAYMENT_TOTAL_CURRENT))', 'ORGANIZATION_TYPE_XNA', 'CODE_GENDER_M', 'NAME_INCOME_TYPE_Pensioner', 'FLAG_OWN_CAR_Y', 'FLAG_OWN_REALTY_Y', 'EMERGENCYSTATE_MODE_No', 'NAME_CONTRACT_TYPE_Revolving loans', 'MODE(credit_card.NAME_CONTRACT_STATUS)_Active', 'MODE(prev_app.FLAG_LAST_APPL_PER_CONTRACT)_Y', 'MODE(pos_cash.NAME_CONTRACT_STATUS)_Active', 'MODE(prev_app.MODE(pos_cash.NAME_CONTRACT_STATUS))_Active']\n"
     ]
    },
    {
     "name": "stdout",
     "output_type": "stream",
     "text": [
      "24.55051326751709 seconds\n"
     ]
    }
   ],
   "source": [
    "t1 = time.time()\n",
    "fm_reduced = test_pipeline.fit_transform(X, y)\n",
    "t2 = time.time() - t1\n",
    "print(t2, 'seconds')"
   ]
  },
  {
   "cell_type": "code",
   "execution_count": 139,
   "metadata": {},
   "outputs": [
    {
     "name": "stdout",
     "output_type": "stream",
     "text": [
      "Number of origial columns:  1071\n",
      "Number of columns after reduction:  166\n"
     ]
    }
   ],
   "source": [
    "print(\"Number of origial columns: \", fm.shape[1])\n",
    "print(\"Number of columns after reduction: \", fm_reduced.shape[1])"
   ]
  },
  {
   "cell_type": "code",
   "execution_count": 133,
   "metadata": {},
   "outputs": [
    {
     "data": {
      "text/html": [
       "<div>\n",
       "<style scoped>\n",
       "    .dataframe tbody tr th:only-of-type {\n",
       "        vertical-align: middle;\n",
       "    }\n",
       "\n",
       "    .dataframe tbody tr th {\n",
       "        vertical-align: top;\n",
       "    }\n",
       "\n",
       "    .dataframe thead th {\n",
       "        text-align: right;\n",
       "    }\n",
       "</style>\n",
       "<table border=\"1\" class=\"dataframe\">\n",
       "  <thead>\n",
       "    <tr style=\"text-align: right;\">\n",
       "      <th></th>\n",
       "      <th>EXT_SOURCE_2</th>\n",
       "      <th>EXT_SOURCE_3</th>\n",
       "      <th>DAYS_BIRTH</th>\n",
       "      <th>DAYS_ID_PUBLISH</th>\n",
       "      <th>EXT_SOURCE_1</th>\n",
       "      <th>MAX(bureau.DAYS_CREDIT)</th>\n",
       "      <th>DAYS_REGISTRATION</th>\n",
       "      <th>DAYS_LAST_PHONE_CHANGE</th>\n",
       "      <th>MIN(prev_app.AMT_GOODS_PRICE)</th>\n",
       "      <th>MAX(prev_app.AMT_ANNUITY)</th>\n",
       "      <th>...</th>\n",
       "      <th>SUM(bureau.AMT_CREDIT_SUM_LIMIT)</th>\n",
       "      <th>MEAN(bureau.AMT_CREDIT_SUM_LIMIT)</th>\n",
       "      <th>SUM(credit_card.AMT_CREDIT_LIMIT_ACTUAL)</th>\n",
       "      <th>NONLIVINGAPARTMENTS_MODE</th>\n",
       "      <th>SUM(credit_card.AMT_DRAWINGS_POS_CURRENT)</th>\n",
       "      <th>MAX(prev_app.SUM(pos_cash.MONTHS_BALANCE))</th>\n",
       "      <th>FLOORSMAX_MODE</th>\n",
       "      <th>SUM(credit_card.AMT_PAYMENT_TOTAL_CURRENT)</th>\n",
       "      <th>MIN(prev_app.CNT_PAYMENT)</th>\n",
       "      <th>SUM(bureau.MAX(bureau_balance.MONTHS_BALANCE))</th>\n",
       "    </tr>\n",
       "  </thead>\n",
       "  <tbody>\n",
       "    <tr>\n",
       "      <th>237733</th>\n",
       "      <td>0.749475</td>\n",
       "      <td>0.236611</td>\n",
       "      <td>-18124</td>\n",
       "      <td>-1623</td>\n",
       "      <td>NaN</td>\n",
       "      <td>-390.0</td>\n",
       "      <td>-10318.0</td>\n",
       "      <td>-285.0</td>\n",
       "      <td>45000.0</td>\n",
       "      <td>16301.070</td>\n",
       "      <td>...</td>\n",
       "      <td>0.0</td>\n",
       "      <td>0.000</td>\n",
       "      <td>945000.0</td>\n",
       "      <td>0.0428</td>\n",
       "      <td>276228.0</td>\n",
       "      <td>0.0</td>\n",
       "      <td>0.4583</td>\n",
       "      <td>133350.65625</td>\n",
       "      <td>0.0</td>\n",
       "      <td>0.0</td>\n",
       "    </tr>\n",
       "    <tr>\n",
       "      <th>252488</th>\n",
       "      <td>0.358569</td>\n",
       "      <td>0.659405</td>\n",
       "      <td>-22702</td>\n",
       "      <td>-4482</td>\n",
       "      <td>NaN</td>\n",
       "      <td>-229.0</td>\n",
       "      <td>-12770.0</td>\n",
       "      <td>0.0</td>\n",
       "      <td>45000.0</td>\n",
       "      <td>17751.420</td>\n",
       "      <td>...</td>\n",
       "      <td>0.0</td>\n",
       "      <td>0.000</td>\n",
       "      <td>0.0</td>\n",
       "      <td>NaN</td>\n",
       "      <td>0.0</td>\n",
       "      <td>-275.0</td>\n",
       "      <td>NaN</td>\n",
       "      <td>0.00000</td>\n",
       "      <td>10.0</td>\n",
       "      <td>-28.0</td>\n",
       "    </tr>\n",
       "    <tr>\n",
       "      <th>171626</th>\n",
       "      <td>0.461949</td>\n",
       "      <td>NaN</td>\n",
       "      <td>-10117</td>\n",
       "      <td>-2785</td>\n",
       "      <td>0.514158</td>\n",
       "      <td>-283.0</td>\n",
       "      <td>-23.0</td>\n",
       "      <td>-1283.0</td>\n",
       "      <td>61780.5</td>\n",
       "      <td>6683.040</td>\n",
       "      <td>...</td>\n",
       "      <td>0.0</td>\n",
       "      <td>0.000</td>\n",
       "      <td>0.0</td>\n",
       "      <td>NaN</td>\n",
       "      <td>0.0</td>\n",
       "      <td>-468.0</td>\n",
       "      <td>NaN</td>\n",
       "      <td>0.00000</td>\n",
       "      <td>12.0</td>\n",
       "      <td>0.0</td>\n",
       "    </tr>\n",
       "    <tr>\n",
       "      <th>241643</th>\n",
       "      <td>0.597155</td>\n",
       "      <td>NaN</td>\n",
       "      <td>-10709</td>\n",
       "      <td>-3272</td>\n",
       "      <td>0.853161</td>\n",
       "      <td>-1742.0</td>\n",
       "      <td>-2965.0</td>\n",
       "      <td>-388.0</td>\n",
       "      <td>71559.0</td>\n",
       "      <td>8563.995</td>\n",
       "      <td>...</td>\n",
       "      <td>0.0</td>\n",
       "      <td>NaN</td>\n",
       "      <td>0.0</td>\n",
       "      <td>NaN</td>\n",
       "      <td>0.0</td>\n",
       "      <td>-81.0</td>\n",
       "      <td>NaN</td>\n",
       "      <td>0.00000</td>\n",
       "      <td>10.0</td>\n",
       "      <td>0.0</td>\n",
       "    </tr>\n",
       "    <tr>\n",
       "      <th>158175</th>\n",
       "      <td>0.699626</td>\n",
       "      <td>0.524496</td>\n",
       "      <td>-15277</td>\n",
       "      <td>-3924</td>\n",
       "      <td>0.453226</td>\n",
       "      <td>-285.0</td>\n",
       "      <td>-7763.0</td>\n",
       "      <td>-649.0</td>\n",
       "      <td>104580.0</td>\n",
       "      <td>9649.395</td>\n",
       "      <td>...</td>\n",
       "      <td>270007.5</td>\n",
       "      <td>67501.875</td>\n",
       "      <td>0.0</td>\n",
       "      <td>NaN</td>\n",
       "      <td>0.0</td>\n",
       "      <td>-95.0</td>\n",
       "      <td>NaN</td>\n",
       "      <td>0.00000</td>\n",
       "      <td>12.0</td>\n",
       "      <td>0.0</td>\n",
       "    </tr>\n",
       "  </tbody>\n",
       "</table>\n",
       "<p>5 rows × 166 columns</p>\n",
       "</div>"
      ],
      "text/plain": [
       "        EXT_SOURCE_2  EXT_SOURCE_3  DAYS_BIRTH  DAYS_ID_PUBLISH  EXT_SOURCE_1  \\\n",
       "237733      0.749475      0.236611      -18124            -1623           NaN   \n",
       "252488      0.358569      0.659405      -22702            -4482           NaN   \n",
       "171626      0.461949           NaN      -10117            -2785      0.514158   \n",
       "241643      0.597155           NaN      -10709            -3272      0.853161   \n",
       "158175      0.699626      0.524496      -15277            -3924      0.453226   \n",
       "\n",
       "        MAX(bureau.DAYS_CREDIT)  DAYS_REGISTRATION  DAYS_LAST_PHONE_CHANGE  \\\n",
       "237733                   -390.0           -10318.0                  -285.0   \n",
       "252488                   -229.0           -12770.0                     0.0   \n",
       "171626                   -283.0              -23.0                 -1283.0   \n",
       "241643                  -1742.0            -2965.0                  -388.0   \n",
       "158175                   -285.0            -7763.0                  -649.0   \n",
       "\n",
       "        MIN(prev_app.AMT_GOODS_PRICE)  MAX(prev_app.AMT_ANNUITY)  \\\n",
       "237733                        45000.0                  16301.070   \n",
       "252488                        45000.0                  17751.420   \n",
       "171626                        61780.5                   6683.040   \n",
       "241643                        71559.0                   8563.995   \n",
       "158175                       104580.0                   9649.395   \n",
       "\n",
       "                             ...                        \\\n",
       "237733                       ...                         \n",
       "252488                       ...                         \n",
       "171626                       ...                         \n",
       "241643                       ...                         \n",
       "158175                       ...                         \n",
       "\n",
       "        SUM(bureau.AMT_CREDIT_SUM_LIMIT)  MEAN(bureau.AMT_CREDIT_SUM_LIMIT)  \\\n",
       "237733                               0.0                              0.000   \n",
       "252488                               0.0                              0.000   \n",
       "171626                               0.0                              0.000   \n",
       "241643                               0.0                                NaN   \n",
       "158175                          270007.5                          67501.875   \n",
       "\n",
       "        SUM(credit_card.AMT_CREDIT_LIMIT_ACTUAL)  NONLIVINGAPARTMENTS_MODE  \\\n",
       "237733                                  945000.0                    0.0428   \n",
       "252488                                       0.0                       NaN   \n",
       "171626                                       0.0                       NaN   \n",
       "241643                                       0.0                       NaN   \n",
       "158175                                       0.0                       NaN   \n",
       "\n",
       "        SUM(credit_card.AMT_DRAWINGS_POS_CURRENT)  \\\n",
       "237733                                   276228.0   \n",
       "252488                                        0.0   \n",
       "171626                                        0.0   \n",
       "241643                                        0.0   \n",
       "158175                                        0.0   \n",
       "\n",
       "        MAX(prev_app.SUM(pos_cash.MONTHS_BALANCE))  FLOORSMAX_MODE  \\\n",
       "237733                                         0.0          0.4583   \n",
       "252488                                      -275.0             NaN   \n",
       "171626                                      -468.0             NaN   \n",
       "241643                                       -81.0             NaN   \n",
       "158175                                       -95.0             NaN   \n",
       "\n",
       "        SUM(credit_card.AMT_PAYMENT_TOTAL_CURRENT)  MIN(prev_app.CNT_PAYMENT)  \\\n",
       "237733                                133350.65625                        0.0   \n",
       "252488                                     0.00000                       10.0   \n",
       "171626                                     0.00000                       12.0   \n",
       "241643                                     0.00000                       10.0   \n",
       "158175                                     0.00000                       12.0   \n",
       "\n",
       "        SUM(bureau.MAX(bureau_balance.MONTHS_BALANCE))  \n",
       "237733                                             0.0  \n",
       "252488                                           -28.0  \n",
       "171626                                             0.0  \n",
       "241643                                             0.0  \n",
       "158175                                             0.0  \n",
       "\n",
       "[5 rows x 166 columns]"
      ]
     },
     "execution_count": 133,
     "metadata": {},
     "output_type": "execute_result"
    }
   ],
   "source": [
    "fm_reduced.head()"
   ]
  },
  {
   "cell_type": "code",
   "execution_count": 136,
   "metadata": {},
   "outputs": [
    {
     "name": "stdout",
     "output_type": "stream",
     "text": [
      "212\n",
      "4\n",
      "255\n",
      "19\n"
     ]
    }
   ],
   "source": [
    "# accessing individual elements of the pipeline\n",
    "print(test_pipeline.named_steps['drop_missing'].numMissingCol_)\n",
    "print(test_pipeline.named_steps['drop_zerocov'].numZeroCov_)\n",
    "print(test_pipeline.named_steps['drop_correlated'].numDropCols_)\n",
    "print(test_pipeline.named_steps['drop_duplicate'].numDuplicates_)"
   ]
  },
  {
   "cell_type": "code",
   "execution_count": null,
   "metadata": {},
   "outputs": [],
   "source": []
  }
 ],
 "metadata": {
  "kernelspec": {
   "display_name": "Python [default]",
   "language": "python",
   "name": "python3"
  },
  "language_info": {
   "codemirror_mode": {
    "name": "ipython",
    "version": 3
   },
   "file_extension": ".py",
   "mimetype": "text/x-python",
   "name": "python",
   "nbconvert_exporter": "python",
   "pygments_lexer": "ipython3",
   "version": "3.5.5"
  }
 },
 "nbformat": 4,
 "nbformat_minor": 2
}
