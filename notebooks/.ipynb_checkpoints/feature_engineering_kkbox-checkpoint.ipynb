{
 "cells": [
  {
   "cell_type": "markdown",
   "metadata": {},
   "source": [
    "# Feature Engineering on KKBOX Dataset\n",
    "In this notebook, we will look at running deep feature synthesis on the subsampled KKBOX dataset using the Featuretools library."
   ]
  },
  {
   "cell_type": "code",
   "execution_count": 26,
   "metadata": {},
   "outputs": [],
   "source": [
    "import pandas as pd \n",
    "import numpy as np\n",
    "import featuretools as ft\n",
    "import featuretools.variable_types as vtypes\n",
    "from featuretools.variable_types import Datetime, Timedelta, Variable"
   ]
  },
  {
   "cell_type": "code",
   "execution_count": 27,
   "metadata": {},
   "outputs": [],
   "source": [
    "# Read in all data\n",
    "members = pd.read_csv('members_v3_1k.csv', \n",
    "                      parse_dates=['registration_init_time'], \n",
    "                      infer_datetime_format = True, \n",
    "                      dtype = {'gender': 'category'})\n",
    "\n",
    "trans = pd.read_csv('transactions_1k.csv',\n",
    "                   parse_dates=['transaction_date', 'membership_expire_date'], \n",
    "                    infer_datetime_format = True)\n",
    "\n",
    "logs = pd.read_csv('user_logs_1k.csv', parse_dates = ['date'])\n",
    "\n",
    "cutoff_times = pd.read_csv('label_times.csv', parse_dates = ['cutoff_time'])"
   ]
  },
  {
   "cell_type": "markdown",
   "metadata": {},
   "source": [
    "# Define Entities and EntitySet\n",
    "\n",
    "The first step in using Featuretools is to make an `EntitySet` and add all the `entitys` - tables - to it. An EntitySet is a data structure that holds the tables and the relationships between them. This makes it easier to keep track of all the data in a problem with multiple relational tables."
   ]
  },
  {
   "cell_type": "code",
   "execution_count": 28,
   "metadata": {},
   "outputs": [],
   "source": [
    "import featuretools.variable_types as vtypes\n",
    "\n",
    "# Make empty entityset\n",
    "es = ft.EntitySet(id = 'customers')"
   ]
  },
  {
   "cell_type": "markdown",
   "metadata": {},
   "source": [
    "## Entities\n",
    "\n",
    "When creating entities from a dataframe, we need to make sure to include:\n",
    "\n",
    "* The `index` if there is one or a name for the created index. This is a unique identifier for each observation.\n",
    "* `make_index = True` if there is no index, we need to supply a name under `index` and set this to `True`.\n",
    "* A `time_index` if present. This is the time at which the information in the row becomes known. Featuretools will use the `time_index` and the `cutoff_time` to make valid features for each label.\n",
    "* `variable_types`. In some cases our data will have variables for which we should specify the type. An example would be a boolean that is represented as a float. This prevents Featuretools from making features such as the `min` or `max` of a True/False varaibles.\n",
    "\n",
    "For this problem these are the only arguments we'll need. There are additional arguments that can be used as shown in [the documentation](https://docs.featuretools.com/api_reference.html#entityset-entity-relationship-variable-types). "
   ]
  },
  {
   "cell_type": "markdown",
   "metadata": {},
   "source": [
    "### Members Table\n",
    "\n",
    "The `members` table holds basic information about each customer. The important point for this table is to specify that the `city` and `registered_via` columns are discrete, categorical variables and not numerical and that `registration_init_time` is the `time_index`. The `msno` is the unique index identifying each customer. "
   ]
  },
  {
   "cell_type": "code",
   "execution_count": 29,
   "metadata": {},
   "outputs": [
    {
     "data": {
      "text/plain": [
       "True"
      ]
     },
     "execution_count": 29,
     "metadata": {},
     "output_type": "execute_result"
    }
   ],
   "source": [
    "members['msno'].is_unique"
   ]
  },
  {
   "cell_type": "code",
   "execution_count": 30,
   "metadata": {},
   "outputs": [
    {
     "data": {
      "text/html": [
       "<div>\n",
       "<style scoped>\n",
       "    .dataframe tbody tr th:only-of-type {\n",
       "        vertical-align: middle;\n",
       "    }\n",
       "\n",
       "    .dataframe tbody tr th {\n",
       "        vertical-align: top;\n",
       "    }\n",
       "\n",
       "    .dataframe thead th {\n",
       "        text-align: right;\n",
       "    }\n",
       "</style>\n",
       "<table border=\"1\" class=\"dataframe\">\n",
       "  <thead>\n",
       "    <tr style=\"text-align: right;\">\n",
       "      <th></th>\n",
       "      <th>msno</th>\n",
       "      <th>city</th>\n",
       "      <th>bd</th>\n",
       "      <th>gender</th>\n",
       "      <th>registered_via</th>\n",
       "      <th>registration_init_time</th>\n",
       "    </tr>\n",
       "  </thead>\n",
       "  <tbody>\n",
       "    <tr>\n",
       "      <th>0</th>\n",
       "      <td>0PEKDAUJBQHi50gorLj5CPtaf+B5AJwO2GpZMMXCj0Y=</td>\n",
       "      <td>1</td>\n",
       "      <td>0</td>\n",
       "      <td>NaN</td>\n",
       "      <td>7</td>\n",
       "      <td>2015-08-18</td>\n",
       "    </tr>\n",
       "    <tr>\n",
       "      <th>1</th>\n",
       "      <td>4qmfqxYbl06wUrfEZKoBFSO+989acDnC23wZOOnf6Nw=</td>\n",
       "      <td>1</td>\n",
       "      <td>0</td>\n",
       "      <td>NaN</td>\n",
       "      <td>7</td>\n",
       "      <td>2014-05-03</td>\n",
       "    </tr>\n",
       "    <tr>\n",
       "      <th>2</th>\n",
       "      <td>B9BcLggRjFuNb2OnoCvTjl8KnA02Bm7pIPNlDEzQz1o=</td>\n",
       "      <td>22</td>\n",
       "      <td>21</td>\n",
       "      <td>female</td>\n",
       "      <td>3</td>\n",
       "      <td>2012-11-05</td>\n",
       "    </tr>\n",
       "    <tr>\n",
       "      <th>3</th>\n",
       "      <td>CA+qejbWkQdiKZItTMHfnOf4Gz2lsuj8tIXqgCXqZmo=</td>\n",
       "      <td>1</td>\n",
       "      <td>0</td>\n",
       "      <td>NaN</td>\n",
       "      <td>7</td>\n",
       "      <td>2017-01-08</td>\n",
       "    </tr>\n",
       "    <tr>\n",
       "      <th>4</th>\n",
       "      <td>Dta442KneAVdGaohp5DxG4lkEE6mEFPhQMe5BkoT/vA=</td>\n",
       "      <td>1</td>\n",
       "      <td>0</td>\n",
       "      <td>NaN</td>\n",
       "      <td>7</td>\n",
       "      <td>2015-09-30</td>\n",
       "    </tr>\n",
       "  </tbody>\n",
       "</table>\n",
       "</div>"
      ],
      "text/plain": [
       "                                           msno  city  bd  gender  \\\n",
       "0  0PEKDAUJBQHi50gorLj5CPtaf+B5AJwO2GpZMMXCj0Y=     1   0     NaN   \n",
       "1  4qmfqxYbl06wUrfEZKoBFSO+989acDnC23wZOOnf6Nw=     1   0     NaN   \n",
       "2  B9BcLggRjFuNb2OnoCvTjl8KnA02Bm7pIPNlDEzQz1o=    22  21  female   \n",
       "3  CA+qejbWkQdiKZItTMHfnOf4Gz2lsuj8tIXqgCXqZmo=     1   0     NaN   \n",
       "4  Dta442KneAVdGaohp5DxG4lkEE6mEFPhQMe5BkoT/vA=     1   0     NaN   \n",
       "\n",
       "   registered_via registration_init_time  \n",
       "0               7             2015-08-18  \n",
       "1               7             2014-05-03  \n",
       "2               3             2012-11-05  \n",
       "3               7             2017-01-08  \n",
       "4               7             2015-09-30  "
      ]
     },
     "execution_count": 30,
     "metadata": {},
     "output_type": "execute_result"
    }
   ],
   "source": [
    "members.head()"
   ]
  },
  {
   "cell_type": "code",
   "execution_count": 31,
   "metadata": {},
   "outputs": [
    {
     "data": {
      "text/plain": [
       "Entityset: customers\n",
       "  Entities:\n",
       "    members [Rows: 882, Columns: 6]\n",
       "  Relationships:\n",
       "    No relationships"
      ]
     },
     "execution_count": 31,
     "metadata": {},
     "output_type": "execute_result"
    }
   ],
   "source": [
    "# Create entity from members\n",
    "es.entity_from_dataframe(entity_id='members', dataframe=members,\n",
    "                         index = 'msno', time_index = 'registration_init_time', \n",
    "                         variable_types = {'city': vtypes.Categorical, \n",
    "                                           'registered_via': vtypes.Categorical})"
   ]
  },
  {
   "cell_type": "markdown",
   "metadata": {},
   "source": [
    "### Transactions Table\n",
    "\n",
    "The transactions table contains payments made by the customers. Each row records one payment. "
   ]
  },
  {
   "cell_type": "code",
   "execution_count": 32,
   "metadata": {},
   "outputs": [
    {
     "data": {
      "text/html": [
       "<div>\n",
       "<style scoped>\n",
       "    .dataframe tbody tr th:only-of-type {\n",
       "        vertical-align: middle;\n",
       "    }\n",
       "\n",
       "    .dataframe tbody tr th {\n",
       "        vertical-align: top;\n",
       "    }\n",
       "\n",
       "    .dataframe thead th {\n",
       "        text-align: right;\n",
       "    }\n",
       "</style>\n",
       "<table border=\"1\" class=\"dataframe\">\n",
       "  <thead>\n",
       "    <tr style=\"text-align: right;\">\n",
       "      <th></th>\n",
       "      <th>msno</th>\n",
       "      <th>payment_method_id</th>\n",
       "      <th>payment_plan_days</th>\n",
       "      <th>plan_list_price</th>\n",
       "      <th>actual_amount_paid</th>\n",
       "      <th>is_auto_renew</th>\n",
       "      <th>transaction_date</th>\n",
       "      <th>membership_expire_date</th>\n",
       "      <th>is_cancel</th>\n",
       "    </tr>\n",
       "  </thead>\n",
       "  <tbody>\n",
       "    <tr>\n",
       "      <th>0</th>\n",
       "      <td>+32d1JlIFi3ETwF7sZIGHYRHxdIqTRNj2CN0X/TruKU=</td>\n",
       "      <td>33</td>\n",
       "      <td>30</td>\n",
       "      <td>149</td>\n",
       "      <td>149</td>\n",
       "      <td>1</td>\n",
       "      <td>2016-12-31</td>\n",
       "      <td>2017-01-31</td>\n",
       "      <td>0</td>\n",
       "    </tr>\n",
       "    <tr>\n",
       "      <th>1</th>\n",
       "      <td>+6KodETinDioAsOrJjj1UH425xG3uM6N/bd49J15How=</td>\n",
       "      <td>41</td>\n",
       "      <td>30</td>\n",
       "      <td>99</td>\n",
       "      <td>99</td>\n",
       "      <td>1</td>\n",
       "      <td>2016-02-26</td>\n",
       "      <td>2016-03-26</td>\n",
       "      <td>0</td>\n",
       "    </tr>\n",
       "    <tr>\n",
       "      <th>2</th>\n",
       "      <td>+6KodETinDioAsOrJjj1UH425xG3uM6N/bd49J15How=</td>\n",
       "      <td>41</td>\n",
       "      <td>30</td>\n",
       "      <td>99</td>\n",
       "      <td>99</td>\n",
       "      <td>1</td>\n",
       "      <td>2016-11-26</td>\n",
       "      <td>2016-12-26</td>\n",
       "      <td>0</td>\n",
       "    </tr>\n",
       "    <tr>\n",
       "      <th>3</th>\n",
       "      <td>+6KodETinDioAsOrJjj1UH425xG3uM6N/bd49J15How=</td>\n",
       "      <td>41</td>\n",
       "      <td>30</td>\n",
       "      <td>149</td>\n",
       "      <td>119</td>\n",
       "      <td>1</td>\n",
       "      <td>2015-05-17</td>\n",
       "      <td>2015-06-17</td>\n",
       "      <td>0</td>\n",
       "    </tr>\n",
       "    <tr>\n",
       "      <th>4</th>\n",
       "      <td>+6KodETinDioAsOrJjj1UH425xG3uM6N/bd49J15How=</td>\n",
       "      <td>41</td>\n",
       "      <td>30</td>\n",
       "      <td>99</td>\n",
       "      <td>99</td>\n",
       "      <td>1</td>\n",
       "      <td>2016-05-26</td>\n",
       "      <td>2016-06-26</td>\n",
       "      <td>0</td>\n",
       "    </tr>\n",
       "  </tbody>\n",
       "</table>\n",
       "</div>"
      ],
      "text/plain": [
       "                                           msno  payment_method_id  \\\n",
       "0  +32d1JlIFi3ETwF7sZIGHYRHxdIqTRNj2CN0X/TruKU=                 33   \n",
       "1  +6KodETinDioAsOrJjj1UH425xG3uM6N/bd49J15How=                 41   \n",
       "2  +6KodETinDioAsOrJjj1UH425xG3uM6N/bd49J15How=                 41   \n",
       "3  +6KodETinDioAsOrJjj1UH425xG3uM6N/bd49J15How=                 41   \n",
       "4  +6KodETinDioAsOrJjj1UH425xG3uM6N/bd49J15How=                 41   \n",
       "\n",
       "   payment_plan_days  plan_list_price  actual_amount_paid  is_auto_renew  \\\n",
       "0                 30              149                 149              1   \n",
       "1                 30               99                  99              1   \n",
       "2                 30               99                  99              1   \n",
       "3                 30              149                 119              1   \n",
       "4                 30               99                  99              1   \n",
       "\n",
       "  transaction_date membership_expire_date  is_cancel  \n",
       "0       2016-12-31             2017-01-31          0  \n",
       "1       2016-02-26             2016-03-26          0  \n",
       "2       2016-11-26             2016-12-26          0  \n",
       "3       2015-05-17             2015-06-17          0  \n",
       "4       2016-05-26             2016-06-26          0  "
      ]
     },
     "execution_count": 32,
     "metadata": {},
     "output_type": "execute_result"
    }
   ],
   "source": [
    "trans.head()"
   ]
  },
  {
   "cell_type": "markdown",
   "metadata": {},
   "source": [
    "#### Domain Knowledge Features\n",
    "\n",
    "Before creating the entity from this dataframe, we can create a few new variables based on domain knowledge. Featuretools will build on top of our knowledge by stacking more primitives on top of any variables that we define."
   ]
  },
  {
   "cell_type": "code",
   "execution_count": 33,
   "metadata": {},
   "outputs": [
    {
     "data": {
      "image/png": "[encoded data removed]",
      "text/plain": [
       "<Figure size 576x432 with 1 Axes>"
      ]
     },
     "metadata": {},
     "output_type": "display_data"
    }
   ],
   "source": [
    "# Difference between listing price and price paid\n",
    "trans['price_difference'] = trans['plan_list_price'] - trans['actual_amount_paid']\n",
    "\n",
    "# Planned price per day\n",
    "trans['planned_daily_price'] = trans['plan_list_price'] / trans['payment_plan_days']\n",
    "\n",
    "# Actual price per day\n",
    "trans['daily_price'] = trans['actual_amount_paid'] / trans['payment_plan_days']\n",
    "\n",
    "import matplotlib.pyplot as plt\n",
    "%matplotlib inline\n",
    "plt.style.use('fivethirtyeight')\n",
    "plt.rcParams['figure.figsize'] = (10, 6)\n",
    "\n",
    "trans.loc[trans['price_difference'] > 0, 'price_difference'].plot.hist(bins = 30, \n",
    "                                                                       figsize = (8, 6));\n",
    "plt.title('Dfiference between List Price and Price Paid');"
   ]
  },
  {
   "cell_type": "markdown",
   "metadata": {},
   "source": [
    "There is no `index` in this dataframe so we have to specify to make an index and pass in a name. There is a `time_index`, the time of the transaction, which will be critical when filtering data based on cutoff times to make features. Again, we also need to specify several variable types.\n",
    "\n",
    "It is possible that there are anomalies where where some membership expire dates are before the transactions date, so we will filter those out."
   ]
  },
  {
   "cell_type": "code",
   "execution_count": 34,
   "metadata": {},
   "outputs": [
    {
     "data": {
      "text/html": [
       "<div>\n",
       "<style scoped>\n",
       "    .dataframe tbody tr th:only-of-type {\n",
       "        vertical-align: middle;\n",
       "    }\n",
       "\n",
       "    .dataframe tbody tr th {\n",
       "        vertical-align: top;\n",
       "    }\n",
       "\n",
       "    .dataframe thead th {\n",
       "        text-align: right;\n",
       "    }\n",
       "</style>\n",
       "<table border=\"1\" class=\"dataframe\">\n",
       "  <thead>\n",
       "    <tr style=\"text-align: right;\">\n",
       "      <th></th>\n",
       "      <th>msno</th>\n",
       "      <th>payment_method_id</th>\n",
       "      <th>payment_plan_days</th>\n",
       "      <th>plan_list_price</th>\n",
       "      <th>actual_amount_paid</th>\n",
       "      <th>is_auto_renew</th>\n",
       "      <th>transaction_date</th>\n",
       "      <th>membership_expire_date</th>\n",
       "      <th>is_cancel</th>\n",
       "      <th>price_difference</th>\n",
       "      <th>planned_daily_price</th>\n",
       "      <th>daily_price</th>\n",
       "    </tr>\n",
       "  </thead>\n",
       "  <tbody>\n",
       "    <tr>\n",
       "      <th>0</th>\n",
       "      <td>+32d1JlIFi3ETwF7sZIGHYRHxdIqTRNj2CN0X/TruKU=</td>\n",
       "      <td>33</td>\n",
       "      <td>30</td>\n",
       "      <td>149</td>\n",
       "      <td>149</td>\n",
       "      <td>1</td>\n",
       "      <td>2016-12-31</td>\n",
       "      <td>2017-01-31</td>\n",
       "      <td>0</td>\n",
       "      <td>0</td>\n",
       "      <td>4.966667</td>\n",
       "      <td>4.966667</td>\n",
       "    </tr>\n",
       "    <tr>\n",
       "      <th>1</th>\n",
       "      <td>+6KodETinDioAsOrJjj1UH425xG3uM6N/bd49J15How=</td>\n",
       "      <td>41</td>\n",
       "      <td>30</td>\n",
       "      <td>99</td>\n",
       "      <td>99</td>\n",
       "      <td>1</td>\n",
       "      <td>2016-02-26</td>\n",
       "      <td>2016-03-26</td>\n",
       "      <td>0</td>\n",
       "      <td>0</td>\n",
       "      <td>3.300000</td>\n",
       "      <td>3.300000</td>\n",
       "    </tr>\n",
       "    <tr>\n",
       "      <th>2</th>\n",
       "      <td>+6KodETinDioAsOrJjj1UH425xG3uM6N/bd49J15How=</td>\n",
       "      <td>41</td>\n",
       "      <td>30</td>\n",
       "      <td>99</td>\n",
       "      <td>99</td>\n",
       "      <td>1</td>\n",
       "      <td>2016-11-26</td>\n",
       "      <td>2016-12-26</td>\n",
       "      <td>0</td>\n",
       "      <td>0</td>\n",
       "      <td>3.300000</td>\n",
       "      <td>3.300000</td>\n",
       "    </tr>\n",
       "    <tr>\n",
       "      <th>3</th>\n",
       "      <td>+6KodETinDioAsOrJjj1UH425xG3uM6N/bd49J15How=</td>\n",
       "      <td>41</td>\n",
       "      <td>30</td>\n",
       "      <td>149</td>\n",
       "      <td>119</td>\n",
       "      <td>1</td>\n",
       "      <td>2015-05-17</td>\n",
       "      <td>2015-06-17</td>\n",
       "      <td>0</td>\n",
       "      <td>30</td>\n",
       "      <td>4.966667</td>\n",
       "      <td>3.966667</td>\n",
       "    </tr>\n",
       "    <tr>\n",
       "      <th>4</th>\n",
       "      <td>+6KodETinDioAsOrJjj1UH425xG3uM6N/bd49J15How=</td>\n",
       "      <td>41</td>\n",
       "      <td>30</td>\n",
       "      <td>99</td>\n",
       "      <td>99</td>\n",
       "      <td>1</td>\n",
       "      <td>2016-05-26</td>\n",
       "      <td>2016-06-26</td>\n",
       "      <td>0</td>\n",
       "      <td>0</td>\n",
       "      <td>3.300000</td>\n",
       "      <td>3.300000</td>\n",
       "    </tr>\n",
       "  </tbody>\n",
       "</table>\n",
       "</div>"
      ],
      "text/plain": [
       "                                           msno  payment_method_id  \\\n",
       "0  +32d1JlIFi3ETwF7sZIGHYRHxdIqTRNj2CN0X/TruKU=                 33   \n",
       "1  +6KodETinDioAsOrJjj1UH425xG3uM6N/bd49J15How=                 41   \n",
       "2  +6KodETinDioAsOrJjj1UH425xG3uM6N/bd49J15How=                 41   \n",
       "3  +6KodETinDioAsOrJjj1UH425xG3uM6N/bd49J15How=                 41   \n",
       "4  +6KodETinDioAsOrJjj1UH425xG3uM6N/bd49J15How=                 41   \n",
       "\n",
       "   payment_plan_days  plan_list_price  actual_amount_paid  is_auto_renew  \\\n",
       "0                 30              149                 149              1   \n",
       "1                 30               99                  99              1   \n",
       "2                 30               99                  99              1   \n",
       "3                 30              149                 119              1   \n",
       "4                 30               99                  99              1   \n",
       "\n",
       "  transaction_date membership_expire_date  is_cancel  price_difference  \\\n",
       "0       2016-12-31             2017-01-31          0                 0   \n",
       "1       2016-02-26             2016-03-26          0                 0   \n",
       "2       2016-11-26             2016-12-26          0                 0   \n",
       "3       2015-05-17             2015-06-17          0                30   \n",
       "4       2016-05-26             2016-06-26          0                 0   \n",
       "\n",
       "   planned_daily_price  daily_price  \n",
       "0             4.966667     4.966667  \n",
       "1             3.300000     3.300000  \n",
       "2             3.300000     3.300000  \n",
       "3             4.966667     3.966667  \n",
       "4             3.300000     3.300000  "
      ]
     },
     "execution_count": 34,
     "metadata": {},
     "output_type": "execute_result"
    }
   ],
   "source": [
    "# Filter anomalies\n",
    "trans = trans[trans['membership_expire_date'] > trans['transaction_date']]\n",
    "trans.head()"
   ]
  },
  {
   "cell_type": "code",
   "execution_count": 35,
   "metadata": {},
   "outputs": [
    {
     "data": {
      "text/plain": [
       "Entityset: customers\n",
       "  Entities:\n",
       "    members [Rows: 882, Columns: 6]\n",
       "    transactions [Rows: 16351, Columns: 13]\n",
       "  Relationships:\n",
       "    No relationships"
      ]
     },
     "execution_count": 35,
     "metadata": {},
     "output_type": "execute_result"
    }
   ],
   "source": [
    "# Create entity from transactions\n",
    "es.entity_from_dataframe(entity_id='transactions', dataframe=trans,\n",
    "                         index = 'transactions_index', make_index = True,\n",
    "                         time_index = 'transaction_date', \n",
    "                         variable_types = {'payment_method_id': vtypes.Categorical, \n",
    "                                           'is_auto_renew': vtypes.Boolean, 'is_cancel': vtypes.Boolean})"
   ]
  },
  {
   "cell_type": "markdown",
   "metadata": {},
   "source": [
    "### Logs\n",
    "\n",
    "The `logs` contain user listening behavior. As before we'll make a few domain knowledge columns before adding to the `EntitySet`. "
   ]
  },
  {
   "cell_type": "code",
   "execution_count": 36,
   "metadata": {},
   "outputs": [
    {
     "data": {
      "text/html": [
       "<div>\n",
       "<style scoped>\n",
       "    .dataframe tbody tr th:only-of-type {\n",
       "        vertical-align: middle;\n",
       "    }\n",
       "\n",
       "    .dataframe tbody tr th {\n",
       "        vertical-align: top;\n",
       "    }\n",
       "\n",
       "    .dataframe thead th {\n",
       "        text-align: right;\n",
       "    }\n",
       "</style>\n",
       "<table border=\"1\" class=\"dataframe\">\n",
       "  <thead>\n",
       "    <tr style=\"text-align: right;\">\n",
       "      <th></th>\n",
       "      <th>msno</th>\n",
       "      <th>date</th>\n",
       "      <th>num_25</th>\n",
       "      <th>num_50</th>\n",
       "      <th>num_75</th>\n",
       "      <th>num_985</th>\n",
       "      <th>num_100</th>\n",
       "      <th>num_unq</th>\n",
       "      <th>total_secs</th>\n",
       "    </tr>\n",
       "  </thead>\n",
       "  <tbody>\n",
       "    <tr>\n",
       "      <th>0</th>\n",
       "      <td>+QxHYXGsJf8RhUA8SxYR3ySkV32KhwyaX743aI7vaXw=</td>\n",
       "      <td>2016-10-29</td>\n",
       "      <td>4</td>\n",
       "      <td>0</td>\n",
       "      <td>0</td>\n",
       "      <td>1</td>\n",
       "      <td>22</td>\n",
       "      <td>19</td>\n",
       "      <td>6210.903</td>\n",
       "    </tr>\n",
       "    <tr>\n",
       "      <th>1</th>\n",
       "      <td>+QxHYXGsJf8RhUA8SxYR3ySkV32KhwyaX743aI7vaXw=</td>\n",
       "      <td>2016-12-19</td>\n",
       "      <td>0</td>\n",
       "      <td>0</td>\n",
       "      <td>1</td>\n",
       "      <td>0</td>\n",
       "      <td>6</td>\n",
       "      <td>7</td>\n",
       "      <td>1686.296</td>\n",
       "    </tr>\n",
       "    <tr>\n",
       "      <th>2</th>\n",
       "      <td>+QxHYXGsJf8RhUA8SxYR3ySkV32KhwyaX743aI7vaXw=</td>\n",
       "      <td>2017-02-11</td>\n",
       "      <td>19</td>\n",
       "      <td>2</td>\n",
       "      <td>2</td>\n",
       "      <td>8</td>\n",
       "      <td>24</td>\n",
       "      <td>10</td>\n",
       "      <td>9122.263</td>\n",
       "    </tr>\n",
       "    <tr>\n",
       "      <th>3</th>\n",
       "      <td>1uEpAR7FBq7Ng+ktlwpmqnDSAF7EFPjkDfGX6TNUfzU=</td>\n",
       "      <td>2015-03-30</td>\n",
       "      <td>0</td>\n",
       "      <td>1</td>\n",
       "      <td>0</td>\n",
       "      <td>0</td>\n",
       "      <td>3</td>\n",
       "      <td>4</td>\n",
       "      <td>708.321</td>\n",
       "    </tr>\n",
       "    <tr>\n",
       "      <th>4</th>\n",
       "      <td>1uEpAR7FBq7Ng+ktlwpmqnDSAF7EFPjkDfGX6TNUfzU=</td>\n",
       "      <td>2015-11-03</td>\n",
       "      <td>1</td>\n",
       "      <td>2</td>\n",
       "      <td>2</td>\n",
       "      <td>4</td>\n",
       "      <td>29</td>\n",
       "      <td>34</td>\n",
       "      <td>9420.306</td>\n",
       "    </tr>\n",
       "  </tbody>\n",
       "</table>\n",
       "</div>"
      ],
      "text/plain": [
       "                                           msno       date  num_25  num_50  \\\n",
       "0  +QxHYXGsJf8RhUA8SxYR3ySkV32KhwyaX743aI7vaXw= 2016-10-29       4       0   \n",
       "1  +QxHYXGsJf8RhUA8SxYR3ySkV32KhwyaX743aI7vaXw= 2016-12-19       0       0   \n",
       "2  +QxHYXGsJf8RhUA8SxYR3ySkV32KhwyaX743aI7vaXw= 2017-02-11      19       2   \n",
       "3  1uEpAR7FBq7Ng+ktlwpmqnDSAF7EFPjkDfGX6TNUfzU= 2015-03-30       0       1   \n",
       "4  1uEpAR7FBq7Ng+ktlwpmqnDSAF7EFPjkDfGX6TNUfzU= 2015-11-03       1       2   \n",
       "\n",
       "   num_75  num_985  num_100  num_unq  total_secs  \n",
       "0       0        1       22       19    6210.903  \n",
       "1       1        0        6        7    1686.296  \n",
       "2       2        8       24       10    9122.263  \n",
       "3       0        0        3        4     708.321  \n",
       "4       2        4       29       34    9420.306  "
      ]
     },
     "execution_count": 36,
     "metadata": {},
     "output_type": "execute_result"
    }
   ],
   "source": [
    "logs.head()"
   ]
  },
  {
   "cell_type": "code",
   "execution_count": 37,
   "metadata": {},
   "outputs": [
    {
     "data": {
      "image/png": "[encoded data removed]",
      "text/plain": [
       "<Figure size 720x432 with 1 Axes>"
      ]
     },
     "metadata": {},
     "output_type": "display_data"
    }
   ],
   "source": [
    "# Make a few features by hand\n",
    "logs['total'] = logs[['num_25', 'num_50', 'num_75', 'num_985', 'num_100']].sum(axis = 1)\n",
    "logs['percent_100'] = logs['num_100'] / logs['total']\n",
    "logs['percent_unique'] = logs['num_unq'] / logs['total']\n",
    "logs['seconds_per_song'] = logs['total_secs'] / logs['total'] \n",
    "\n",
    "import seaborn as sns\n",
    "import matplotlib.pyplot as plt\n",
    "\n",
    "sns.kdeplot(logs['total']);\n",
    "plt.title('Distribution of Total Number of Songs');"
   ]
  },
  {
   "cell_type": "code",
   "execution_count": 38,
   "metadata": {},
   "outputs": [
    {
     "data": {
      "image/png": "[encoded data removed]",
      "text/plain": [
       "<Figure size 720x432 with 1 Axes>"
      ]
     },
     "metadata": {},
     "output_type": "display_data"
    }
   ],
   "source": [
    "sns.kdeplot(logs['percent_100']);\n",
    "plt.title('Distribution of Percentage of Songs Listened to Completion');"
   ]
  },
  {
   "cell_type": "markdown",
   "metadata": {},
   "source": [
    "There is `time_index` in the logs although no `index` present."
   ]
  },
  {
   "cell_type": "code",
   "execution_count": 39,
   "metadata": {},
   "outputs": [
    {
     "data": {
      "text/plain": [
       "Entityset: customers\n",
       "  Entities:\n",
       "    members [Rows: 882, Columns: 6]\n",
       "    logs [Rows: 252022, Columns: 14]\n",
       "    transactions [Rows: 16351, Columns: 13]\n",
       "  Relationships:\n",
       "    No relationships"
      ]
     },
     "execution_count": 39,
     "metadata": {},
     "output_type": "execute_result"
    }
   ],
   "source": [
    "es.entity_from_dataframe(entity_id='logs', dataframe=logs,\n",
    "                         index = 'logs_index', make_index = True,\n",
    "                         time_index = 'date')"
   ]
  },
  {
   "cell_type": "markdown",
   "metadata": {},
   "source": [
    "Making features by hand may seem counterintuitive if we are using automated feature engineering, but the benefits of doing this before using Featuretools is that these features can be stacked on top of to build deep features. Automated feature engineering will therefore take our existing hand-built features and extract more value from them by combining them with other features.\n",
    "\n",
    "Another method to improve the power of deep feature synthesis is through interesting values, which specify conditional statements used to build features."
   ]
  },
  {
   "cell_type": "markdown",
   "metadata": {},
   "source": [
    "### Interesting Values\n",
    "\n",
    "In order to create conditional features, we can set interesting values for existing columns in the data. The following code will be used to build features conditional on the value of `is_cancel` and `is_auto_renew` in the transactions data. The primitives used for the conditional features are specified as `where_primitives` in the call to Deep Feature Synthesis. For example, if we used a `mean` primitive along with the following interesting values, we will get a mean of transactions where the transaction was cancelled, as well as the mean of transactions where the transaction was not cancelled. "
   ]
  },
  {
   "cell_type": "code",
   "execution_count": 40,
   "metadata": {},
   "outputs": [],
   "source": [
    "es['transactions']['is_cancel'].interesting_values = [0, 1]\n",
    "es['transactions']['is_auto_renew'].interesting_values = [0, 1]"
   ]
  },
  {
   "cell_type": "markdown",
   "metadata": {},
   "source": [
    "# Relationships\n",
    "\n",
    "We use relationships to specify how examples in one table relate to examples in other tables. The entityset structure for this problem is fairly simple as there are only three entities with two relationships.  `members` is the parent of `logs` and `transactions`. In both relationships, the parent and child variable is `msno`, the customer id.\n",
    "\n",
    "The two relationships are: one linking `members` to `transactions` and one linking `members` to `logs`. The order for relationships in featuretools is parent variable, child variable."
   ]
  },
  {
   "cell_type": "code",
   "execution_count": 41,
   "metadata": {},
   "outputs": [
    {
     "data": {
      "text/plain": [
       "Entityset: customers\n",
       "  Entities:\n",
       "    members [Rows: 882, Columns: 6]\n",
       "    logs [Rows: 252022, Columns: 14]\n",
       "    transactions [Rows: 16351, Columns: 13]\n",
       "  Relationships:\n",
       "    transactions.msno -> members.msno\n",
       "    logs.msno -> members.msno"
      ]
     },
     "execution_count": 41,
     "metadata": {},
     "output_type": "execute_result"
    }
   ],
   "source": [
    "# Relationships (parent, child)\n",
    "r_member_transactions = ft.Relationship(es['members']['msno'], es['transactions']['msno'])\n",
    "r_member_logs = ft.Relationship(es['members']['msno'], es['logs']['msno'])\n",
    "\n",
    "es.add_relationships([r_member_transactions, r_member_logs])"
   ]
  },
  {
   "cell_type": "code",
   "execution_count": 42,
   "metadata": {},
   "outputs": [
    {
     "data": {
      "text/plain": [
       "<Relationship: transactions.msno -> members.msno>"
      ]
     },
     "execution_count": 42,
     "metadata": {},
     "output_type": "execute_result"
    }
   ],
   "source": [
    "es.relationships[0]"
   ]
  },
  {
   "cell_type": "markdown",
   "metadata": {},
   "source": [
    "### Cutoff Times\n",
    "\n",
    "`cutoff_times` are a critical piece of any time based machine learning problem. The label times dataframe has columns of member id, cutoff time, and label. __For each cutoff time, only data from before the cutoff time can be used to build features for that label.__ This is one of the greatest advantages of Featuretools compared to manual feature engineering: __Featuretools automatically filters our data based on the cutoff times to ensure that all the features are valid for machine learning.__ Normally, we would have to take extreme care to make sure all of our features are valid, but Featuretools is able to implement the filtering logic behind the scenes for us.\n",
    "\n",
    "All we have to do is make sure to pass in the correct label times for the prediction problem we want to solve."
   ]
  },
  {
   "cell_type": "code",
   "execution_count": 43,
   "metadata": {},
   "outputs": [
    {
     "data": {
      "text/html": [
       "<div>\n",
       "<style scoped>\n",
       "    .dataframe tbody tr th:only-of-type {\n",
       "        vertical-align: middle;\n",
       "    }\n",
       "\n",
       "    .dataframe tbody tr th {\n",
       "        vertical-align: top;\n",
       "    }\n",
       "\n",
       "    .dataframe thead th {\n",
       "        text-align: right;\n",
       "    }\n",
       "</style>\n",
       "<table border=\"1\" class=\"dataframe\">\n",
       "  <thead>\n",
       "    <tr style=\"text-align: right;\">\n",
       "      <th></th>\n",
       "      <th>msno</th>\n",
       "      <th>cutoff_time</th>\n",
       "      <th>label</th>\n",
       "      <th>days_to_churn</th>\n",
       "      <th>churn_date</th>\n",
       "    </tr>\n",
       "  </thead>\n",
       "  <tbody>\n",
       "    <tr>\n",
       "      <th>0</th>\n",
       "      <td>+1gZIOUWoNTamOml4W87muAxOcXrFsY1fvLpnHYwIt0=</td>\n",
       "      <td>2016-08-01</td>\n",
       "      <td>0.0</td>\n",
       "      <td>NaN</td>\n",
       "      <td>NaN</td>\n",
       "    </tr>\n",
       "    <tr>\n",
       "      <th>1</th>\n",
       "      <td>+1gZIOUWoNTamOml4W87muAxOcXrFsY1fvLpnHYwIt0=</td>\n",
       "      <td>2016-09-01</td>\n",
       "      <td>0.0</td>\n",
       "      <td>NaN</td>\n",
       "      <td>NaN</td>\n",
       "    </tr>\n",
       "    <tr>\n",
       "      <th>2</th>\n",
       "      <td>+1gZIOUWoNTamOml4W87muAxOcXrFsY1fvLpnHYwIt0=</td>\n",
       "      <td>2016-10-01</td>\n",
       "      <td>0.0</td>\n",
       "      <td>NaN</td>\n",
       "      <td>NaN</td>\n",
       "    </tr>\n",
       "    <tr>\n",
       "      <th>3</th>\n",
       "      <td>+1gZIOUWoNTamOml4W87muAxOcXrFsY1fvLpnHYwIt0=</td>\n",
       "      <td>2016-11-01</td>\n",
       "      <td>0.0</td>\n",
       "      <td>NaN</td>\n",
       "      <td>NaN</td>\n",
       "    </tr>\n",
       "    <tr>\n",
       "      <th>4</th>\n",
       "      <td>+1gZIOUWoNTamOml4W87muAxOcXrFsY1fvLpnHYwIt0=</td>\n",
       "      <td>2016-12-01</td>\n",
       "      <td>0.0</td>\n",
       "      <td>NaN</td>\n",
       "      <td>NaN</td>\n",
       "    </tr>\n",
       "  </tbody>\n",
       "</table>\n",
       "</div>"
      ],
      "text/plain": [
       "                                           msno cutoff_time  label  \\\n",
       "0  +1gZIOUWoNTamOml4W87muAxOcXrFsY1fvLpnHYwIt0=  2016-08-01    0.0   \n",
       "1  +1gZIOUWoNTamOml4W87muAxOcXrFsY1fvLpnHYwIt0=  2016-09-01    0.0   \n",
       "2  +1gZIOUWoNTamOml4W87muAxOcXrFsY1fvLpnHYwIt0=  2016-10-01    0.0   \n",
       "3  +1gZIOUWoNTamOml4W87muAxOcXrFsY1fvLpnHYwIt0=  2016-11-01    0.0   \n",
       "4  +1gZIOUWoNTamOml4W87muAxOcXrFsY1fvLpnHYwIt0=  2016-12-01    0.0   \n",
       "\n",
       "   days_to_churn churn_date  \n",
       "0            NaN        NaN  \n",
       "1            NaN        NaN  \n",
       "2            NaN        NaN  \n",
       "3            NaN        NaN  \n",
       "4            NaN        NaN  "
      ]
     },
     "execution_count": 43,
     "metadata": {},
     "output_type": "execute_result"
    }
   ],
   "source": [
    "cutoff_times = cutoff_times.drop_duplicates(subset = ['msno', 'cutoff_time'])\n",
    "cutoff_times.head()"
   ]
  },
  {
   "cell_type": "markdown",
   "metadata": {},
   "source": [
    "# Deep Feature Synthesis\n",
    "\n",
    "With the entities and relationships fully defined, we are ready to run [Deep Feature Synthesis (DFS)](https://www.featurelabs.com/blog/deep-feature-synthesis/). This process applies feature engineering building blocks called [feature primitives](https://docs.featuretools.com/automated_feature_engineering/primitives.html) to a dataset to build hundreds of features. Feature primitives are basic operations of two types - transforms and aggregations - that stack to build deep features (for more information see the previous linked resources). These includes many operations that we would traditionally carry out by hand, but automated feature engineering saves us from having to implement these features one at a time. \n",
    "\n",
    "The call to `ft.dfs` needs the entityset which holds all the tables and relationships between them, the `target_entity` to make features for, the specific primitives, the maximum stacking of primitives (`max_depth`), the `cutoff_times`, and a number of optional parameters.\n",
    "\n",
    "To start, we'll use the default aggregation and transformation primitives as well as two `where_primitives` and see how many features this generates. To only generate the definitions of the features, we pass in `features_only = True`."
   ]
  },
  {
   "cell_type": "code",
   "execution_count": 54,
   "metadata": {},
   "outputs": [],
   "source": [
    "feature_defs = ft.dfs(entityset=es, target_entity='members', \n",
    "                      cutoff_time = cutoff_times,\n",
    "                      where_primitives = ['sum', 'mean'],\n",
    "                      max_depth=2, features_only=True)"
   ]
  },
  {
   "cell_type": "code",
   "execution_count": 45,
   "metadata": {},
   "outputs": [
    {
     "ename": "SyntaxError",
     "evalue": "invalid syntax (<ipython-input-45-ae1e77bde98a>, line 1)",
     "output_type": "error",
     "traceback": [
      "\u001b[0;36m  File \u001b[0;32m\"<ipython-input-45-ae1e77bde98a>\"\u001b[0;36m, line \u001b[0;32m1\u001b[0m\n\u001b[0;31m    print(f'This will generate {len(feature_defs)} features.')\u001b[0m\n\u001b[0m                                                            ^\u001b[0m\n\u001b[0;31mSyntaxError\u001b[0m\u001b[0;31m:\u001b[0m invalid syntax\n"
     ]
    }
   ],
   "source": [
    "print(f'This will generate {len(feature_defs)} features.')"
   ]
  },
  {
   "cell_type": "code",
   "execution_count": 55,
   "metadata": {},
   "outputs": [
    {
     "data": {
      "text/plain": [
       "[<Feature: MEAN(transactions.daily_price WHERE is_auto_renew = 1)>,\n",
       " <Feature: MAX(logs.num_unq)>,\n",
       " <Feature: DAY(registration_init_time)>,\n",
       " <Feature: MAX(logs.percent_unique)>,\n",
       " <Feature: MODE(transactions.payment_method_id)>,\n",
       " <Feature: MAX(logs.num_985)>,\n",
       " <Feature: MIN(logs.num_25)>,\n",
       " <Feature: MAX(logs.num_25)>,\n",
       " <Feature: MEAN(transactions.actual_amount_paid WHERE is_auto_renew = 1)>,\n",
       " <Feature: SUM(transactions.payment_plan_days WHERE is_auto_renew = 0)>]"
      ]
     },
     "execution_count": 55,
     "metadata": {},
     "output_type": "execute_result"
    }
   ],
   "source": [
    "import random; random.seed(42)\n",
    "\n",
    "random.sample(feature_defs, 10)"
   ]
  },
  {
   "cell_type": "markdown",
   "metadata": {},
   "source": [
    "## Specify Primitives \n",
    "\n",
    "Now we'll do a call to `ft.dfs` specifying the primitives to use. Often, these will depend on the problem and can involve domain knowledge. The best way to choose primitives is by trying out a variety and seeing which perform the best. Like many operations in machine learning, choosing primitives is still largely an empirical, rather than theoretical, practice."
   ]
  },
  {
   "cell_type": "markdown",
   "metadata": {},
   "source": [
    "### List of Primitives and Definitions"
   ]
  },
  {
   "cell_type": "code",
   "execution_count": 56,
   "metadata": {},
   "outputs": [
    {
     "data": {
      "text/html": [
       "<div>\n",
       "<style scoped>\n",
       "    .dataframe tbody tr th:only-of-type {\n",
       "        vertical-align: middle;\n",
       "    }\n",
       "\n",
       "    .dataframe tbody tr th {\n",
       "        vertical-align: top;\n",
       "    }\n",
       "\n",
       "    .dataframe thead th {\n",
       "        text-align: right;\n",
       "    }\n",
       "</style>\n",
       "<table border=\"1\" class=\"dataframe\">\n",
       "  <thead>\n",
       "    <tr style=\"text-align: right;\">\n",
       "      <th></th>\n",
       "      <th>name</th>\n",
       "      <th>type</th>\n",
       "      <th>description</th>\n",
       "    </tr>\n",
       "  </thead>\n",
       "  <tbody>\n",
       "    <tr>\n",
       "      <th>51</th>\n",
       "      <td>absolute</td>\n",
       "      <td>transform</td>\n",
       "      <td>Absolute value of base feature.</td>\n",
       "    </tr>\n",
       "    <tr>\n",
       "      <th>60</th>\n",
       "      <td>add</td>\n",
       "      <td>transform</td>\n",
       "      <td>Creates a transform feature that adds two features.</td>\n",
       "    </tr>\n",
       "    <tr>\n",
       "      <th>16</th>\n",
       "      <td>all</td>\n",
       "      <td>aggregation</td>\n",
       "      <td>Test if all values are 'True'.</td>\n",
       "    </tr>\n",
       "    <tr>\n",
       "      <th>46</th>\n",
       "      <td>and</td>\n",
       "      <td>transform</td>\n",
       "      <td>For two boolean values, determine if both values are 'True'.</td>\n",
       "    </tr>\n",
       "    <tr>\n",
       "      <th>10</th>\n",
       "      <td>any</td>\n",
       "      <td>aggregation</td>\n",
       "      <td>Test if any value is 'True'.</td>\n",
       "    </tr>\n",
       "  </tbody>\n",
       "</table>\n",
       "</div>"
      ],
      "text/plain": [
       "        name         type  \\\n",
       "51  absolute    transform   \n",
       "60       add    transform   \n",
       "16       all  aggregation   \n",
       "46       and    transform   \n",
       "10       any  aggregation   \n",
       "\n",
       "                                                     description  \n",
       "51                               Absolute value of base feature.  \n",
       "60           Creates a transform feature that adds two features.  \n",
       "16                                Test if all values are 'True'.  \n",
       "46  For two boolean values, determine if both values are 'True'.  \n",
       "10                                  Test if any value is 'True'.  "
      ]
     },
     "execution_count": 56,
     "metadata": {},
     "output_type": "execute_result"
    }
   ],
   "source": [
    "all_p = ft.list_primitives()\n",
    "trans_p = all_p.loc[all_p['type'] == 'transform'].copy()\n",
    "agg_p = all_p.loc[all_p['type'] == 'aggregation'].copy()\n",
    "\n",
    "pd.options.display.max_colwidth = 100\n",
    "all_p.sort_values('name').head()"
   ]
  },
  {
   "cell_type": "markdown",
   "metadata": {},
   "source": [
    "### Aggregation Primitives\n",
    "\n",
    "Aggregation primitives take in multiple numbers and return a single number. "
   ]
  },
  {
   "cell_type": "code",
   "execution_count": 57,
   "metadata": {},
   "outputs": [],
   "source": [
    "# Specify aggregation primitives\n",
    "agg_primitives = ['sum', 'time_since_last', 'avg_time_between', 'all', 'mode', 'num_unique', 'min', 'last', \n",
    "                  'mean', 'percent_true', 'max', 'std', 'count']"
   ]
  },
  {
   "cell_type": "markdown",
   "metadata": {},
   "source": [
    "### Transform Primitives\n",
    "\n",
    "Transformation primitives act on multiple columns in the same table. The returned list is the same length as the original column."
   ]
  },
  {
   "cell_type": "code",
   "execution_count": 58,
   "metadata": {},
   "outputs": [],
   "source": [
    "# Specify transformation primitives\n",
    "trans_primitives = ['weekend', 'cum_sum', 'day', 'month', 'diff', 'time_since_previous']"
   ]
  },
  {
   "cell_type": "markdown",
   "metadata": {},
   "source": [
    "### Where Primitives\n",
    "\n",
    "These primitives are applied to the `interesting_values` to build conditional features. "
   ]
  },
  {
   "cell_type": "code",
   "execution_count": 59,
   "metadata": {},
   "outputs": [],
   "source": [
    "# Specify where primitives\n",
    "where_primitives = ['sum', 'mean', 'percent_true', 'all', 'any']"
   ]
  },
  {
   "cell_type": "markdown",
   "metadata": {},
   "source": [
    "## Deep Feature Synthesis with Specified Primitives\n",
    "\n",
    "We'll again run Deep Feature Synthesis to make the feature definitions this time using the selected primitives and the custom primitives. "
   ]
  },
  {
   "cell_type": "code",
   "execution_count": 60,
   "metadata": {},
   "outputs": [],
   "source": [
    "feature_defs = ft.dfs(entityset=es, target_entity='members', \n",
    "                      cutoff_time = cutoff_times, \n",
    "                      agg_primitives = agg_primitives,\n",
    "                      trans_primitives = trans_primitives,\n",
    "                      where_primitives = where_primitives,\n",
    "                      chunk_size = len(cutoff_times), \n",
    "                      cutoff_time_in_index = True,\n",
    "                      max_depth = 2, features_only = True)"
   ]
  },
  {
   "cell_type": "code",
   "execution_count": 52,
   "metadata": {},
   "outputs": [
    {
     "ename": "SyntaxError",
     "evalue": "invalid syntax (<ipython-input-52-ae1e77bde98a>, line 1)",
     "output_type": "error",
     "traceback": [
      "\u001b[0;36m  File \u001b[0;32m\"<ipython-input-52-ae1e77bde98a>\"\u001b[0;36m, line \u001b[0;32m1\u001b[0m\n\u001b[0;31m    print(f'This will generate {len(feature_defs)} features.')\u001b[0m\n\u001b[0m                                                            ^\u001b[0m\n\u001b[0;31mSyntaxError\u001b[0m\u001b[0;31m:\u001b[0m invalid syntax\n"
     ]
    }
   ],
   "source": [
    "print(f'This will generate {len(feature_defs)} features.')"
   ]
  },
  {
   "cell_type": "code",
   "execution_count": 62,
   "metadata": {},
   "outputs": [
    {
     "data": {
      "text/plain": [
       "[<Feature: PERCENT_TRUE(transactions.WEEKEND(membership_expire_date))>,\n",
       " <Feature: NUM_UNIQUE(logs.MONTH(date))>,\n",
       " <Feature: SUM(transactions.plan_list_price)>,\n",
       " <Feature: MEAN(logs.num_unq)>,\n",
       " <Feature: SUM(logs.percent_unique)>,\n",
       " <Feature: SUM(transactions.actual_amount_paid WHERE is_auto_renew = 1)>,\n",
       " <Feature: SUM(transactions.actual_amount_paid)>,\n",
       " <Feature: LAST(transactions.MONTH(transaction_date))>,\n",
       " <Feature: MONTH(LAST(logs.date))>,\n",
       " <Feature: bd>,\n",
       " <Feature: SUM(transactions.actual_amount_paid WHERE is_cancel = 1)>,\n",
       " <Feature: SUM(transactions.price_difference WHERE is_auto_renew = 1)>,\n",
       " <Feature: LAST(logs.num_985)>,\n",
       " <Feature: PERCENT_TRUE(transactions.WEEKEND(membership_expire_date) WHERE is_cancel = 0)>,\n",
       " <Feature: STD(logs.num_50)>]"
      ]
     },
     "execution_count": 62,
     "metadata": {},
     "output_type": "execute_result"
    }
   ],
   "source": [
    "random.sample(feature_defs, 15)"
   ]
  },
  {
   "cell_type": "markdown",
   "metadata": {},
   "source": [
    "# Run Deep Feature Synthesis\n",
    "\n",
    "Once we're happy with the features that will be generated, we can run deep feature synthesis to make the actual features. We need to change `feature_only` to `False` and then we're good to go."
   ]
  },
  {
   "cell_type": "code",
   "execution_count": 64,
   "metadata": {},
   "outputs": [
    {
     "name": "stdout",
     "output_type": "stream",
     "text": [
      "Built 232 features\n",
      "EntitySet scattered to workers in 3.284 seconds\n",
      "Elapsed: 00:24 | Remaining: 00:00 | Progress: 100%|██████████| Calculated: 22/22 chunks\n"
     ]
    },
    {
     "name": "stderr",
     "output_type": "stream",
     "text": [
      "tornado.application - ERROR - Exception in Future <Future cancelled> after timeout\n",
      "Traceback (most recent call last):\n",
      "  File \"/anaconda/envs/py35/lib/python3.5/site-packages/tornado/gen.py\", line 936, in error_callback\n",
      "    future.result()\n",
      "  File \"/anaconda/envs/py35/lib/python3.5/asyncio/futures.py\", line 286, in result\n",
      "    raise CancelledError\n",
      "concurrent.futures._base.CancelledError\n",
      "distributed.comm.tcp - WARNING - Closing dangling stream in <TCP local=tcp://127.0.0.1:35428 remote=tcp://127.0.0.1:45943>\n",
      "distributed.comm.tcp - WARNING - Closing dangling stream in <TCP local=tcp://127.0.0.1:35328 remote=tcp://127.0.0.1:45943>\n"
     ]
    }
   ],
   "source": [
    "from timeit import default_timer as timer\n",
    "\n",
    "start = timer()\n",
    "feature_matrix, feature_defs = ft.dfs(entityset=es, target_entity='members', \n",
    "                                      cutoff_time = cutoff_times, \n",
    "                                      agg_primitives = agg_primitives,\n",
    "                                      trans_primitives = trans_primitives,\n",
    "                                      where_primitives = where_primitives,\n",
    "                                      max_depth = 2, features_only = False,\n",
    "                                      verbose = 1, chunk_size = 1000,  \n",
    "                                      n_jobs = -1,\n",
    "                                      cutoff_time_in_index = True)\n",
    "end = timer()\n",
    "print(f'{round(end - start)} seconds elapsed.')"
   ]
  },
  {
   "cell_type": "code",
   "execution_count": 65,
   "metadata": {},
   "outputs": [
    {
     "data": {
      "text/plain": [
       "[<Feature: gender>,\n",
       " <Feature: bd>,\n",
       " <Feature: registered_via>,\n",
       " <Feature: city>,\n",
       " <Feature: MIN(logs.num_100)>,\n",
       " <Feature: MEAN(logs.num_75)>,\n",
       " <Feature: DAY(registration_init_time)>,\n",
       " <Feature: MIN(logs.total)>,\n",
       " <Feature: STD(transactions.actual_amount_paid)>,\n",
       " <Feature: MEAN(transactions.price_difference)>,\n",
       " <Feature: STD(logs.percent_unique)>,\n",
       " <Feature: MIN(transactions.plan_list_price)>,\n",
       " <Feature: MEAN(logs.seconds_per_song)>,\n",
       " <Feature: STD(logs.num_unq)>,\n",
       " <Feature: AVG_TIME_BETWEEN(logs.date)>,\n",
       " <Feature: MEAN(logs.total_secs)>,\n",
       " <Feature: MAX(transactions.actual_amount_paid)>,\n",
       " <Feature: MAX(transactions.payment_plan_days)>,\n",
       " <Feature: STD(logs.total)>,\n",
       " <Feature: LAST(logs.percent_unique)>,\n",
       " <Feature: STD(logs.num_100)>,\n",
       " <Feature: LAST(transactions.payment_method_id)>,\n",
       " <Feature: MAX(transactions.price_difference)>,\n",
       " <Feature: MIN(transactions.planned_daily_price)>,\n",
       " <Feature: MEAN(logs.num_100)>,\n",
       " <Feature: LAST(transactions.planned_daily_price)>,\n",
       " <Feature: LAST(transactions.price_difference)>,\n",
       " <Feature: SUM(logs.total_secs)>,\n",
       " <Feature: MAX(logs.num_25)>,\n",
       " <Feature: MAX(logs.num_unq)>,\n",
       " <Feature: MIN(logs.percent_unique)>,\n",
       " <Feature: MIN(transactions.payment_plan_days)>,\n",
       " <Feature: LAST(transactions.is_auto_renew)>,\n",
       " <Feature: MAX(logs.num_75)>,\n",
       " <Feature: STD(transactions.planned_daily_price)>,\n",
       " <Feature: NUM_UNIQUE(transactions.payment_method_id)>,\n",
       " <Feature: MIN(logs.num_25)>,\n",
       " <Feature: MEAN(logs.total)>,\n",
       " <Feature: SUM(logs.num_75)>,\n",
       " <Feature: STD(transactions.payment_plan_days)>,\n",
       " <Feature: LAST(logs.num_985)>,\n",
       " <Feature: TIME_SINCE_LAST(transactions.transaction_date)>,\n",
       " <Feature: STD(logs.num_75)>,\n",
       " <Feature: MIN(logs.num_75)>,\n",
       " <Feature: MAX(logs.seconds_per_song)>,\n",
       " <Feature: LAST(logs.total)>,\n",
       " <Feature: SUM(logs.num_50)>,\n",
       " <Feature: STD(logs.total_secs)>,\n",
       " <Feature: LAST(transactions.daily_price)>,\n",
       " <Feature: ALL(transactions.is_auto_renew)>,\n",
       " <Feature: MEAN(logs.percent_unique)>,\n",
       " <Feature: SUM(logs.num_985)>,\n",
       " <Feature: MAX(logs.total_secs)>,\n",
       " <Feature: STD(transactions.daily_price)>,\n",
       " <Feature: STD(logs.seconds_per_song)>,\n",
       " <Feature: LAST(logs.num_75)>,\n",
       " <Feature: MEAN(logs.num_unq)>,\n",
       " <Feature: LAST(logs.seconds_per_song)>,\n",
       " <Feature: MAX(transactions.daily_price)>,\n",
       " <Feature: STD(transactions.plan_list_price)>,\n",
       " <Feature: SUM(logs.percent_100)>,\n",
       " <Feature: COUNT(logs)>,\n",
       " <Feature: LAST(transactions.is_cancel)>,\n",
       " <Feature: MAX(logs.num_985)>,\n",
       " <Feature: PERCENT_TRUE(transactions.is_cancel)>,\n",
       " <Feature: MIN(logs.total_secs)>,\n",
       " <Feature: AVG_TIME_BETWEEN(transactions.transaction_date)>,\n",
       " <Feature: MIN(transactions.price_difference)>,\n",
       " <Feature: COUNT(transactions)>,\n",
       " <Feature: MIN(logs.num_unq)>,\n",
       " <Feature: LAST(logs.num_50)>,\n",
       " <Feature: SUM(transactions.actual_amount_paid)>,\n",
       " <Feature: MODE(transactions.payment_method_id)>,\n",
       " <Feature: MEAN(transactions.plan_list_price)>,\n",
       " <Feature: LAST(logs.percent_100)>,\n",
       " <Feature: LAST(transactions.plan_list_price)>,\n",
       " <Feature: PERCENT_TRUE(transactions.is_auto_renew)>,\n",
       " <Feature: MIN(logs.num_985)>,\n",
       " <Feature: MEAN(logs.percent_100)>,\n",
       " <Feature: ALL(transactions.is_cancel)>,\n",
       " <Feature: MAX(logs.percent_unique)>,\n",
       " <Feature: MIN(logs.seconds_per_song)>,\n",
       " <Feature: LAST(logs.num_100)>,\n",
       " <Feature: MEAN(logs.num_25)>,\n",
       " <Feature: LAST(transactions.actual_amount_paid)>,\n",
       " <Feature: WEEKEND(registration_init_time)>,\n",
       " <Feature: LAST(transactions.payment_plan_days)>,\n",
       " <Feature: SUM(transactions.payment_plan_days)>,\n",
       " <Feature: MAX(logs.percent_100)>,\n",
       " <Feature: STD(logs.num_25)>,\n",
       " <Feature: MEAN(transactions.payment_plan_days)>,\n",
       " <Feature: MEAN(logs.num_50)>,\n",
       " <Feature: TIME_SINCE_LAST(logs.date)>,\n",
       " <Feature: MAX(logs.num_50)>,\n",
       " <Feature: MONTH(registration_init_time)>,\n",
       " <Feature: MIN(logs.percent_100)>,\n",
       " <Feature: MAX(logs.total)>,\n",
       " <Feature: MEAN(logs.num_985)>,\n",
       " <Feature: MIN(logs.num_50)>,\n",
       " <Feature: SUM(transactions.price_difference)>,\n",
       " <Feature: MIN(transactions.daily_price)>,\n",
       " <Feature: LAST(logs.num_unq)>,\n",
       " <Feature: STD(logs.percent_100)>,\n",
       " <Feature: SUM(logs.seconds_per_song)>,\n",
       " <Feature: MEAN(transactions.actual_amount_paid)>,\n",
       " <Feature: MIN(transactions.actual_amount_paid)>,\n",
       " <Feature: MEAN(transactions.planned_daily_price)>,\n",
       " <Feature: SUM(transactions.plan_list_price)>,\n",
       " <Feature: STD(logs.num_50)>,\n",
       " <Feature: SUM(logs.total)>,\n",
       " <Feature: MAX(transactions.planned_daily_price)>,\n",
       " <Feature: SUM(logs.num_25)>,\n",
       " <Feature: STD(logs.num_985)>,\n",
       " <Feature: LAST(logs.total_secs)>,\n",
       " <Feature: SUM(logs.percent_unique)>,\n",
       " <Feature: SUM(logs.num_unq)>,\n",
       " <Feature: STD(transactions.price_difference)>,\n",
       " <Feature: SUM(transactions.planned_daily_price)>,\n",
       " <Feature: MEAN(transactions.daily_price)>,\n",
       " <Feature: SUM(transactions.daily_price)>,\n",
       " <Feature: LAST(logs.num_25)>,\n",
       " <Feature: MAX(transactions.plan_list_price)>,\n",
       " <Feature: SUM(logs.num_100)>,\n",
       " <Feature: MAX(logs.num_100)>,\n",
       " <Feature: PERCENT_TRUE(transactions.WEEKEND(membership_expire_date) WHERE is_cancel = 1)>,\n",
       " <Feature: MEAN(transactions.plan_list_price WHERE is_cancel = 1)>,\n",
       " <Feature: SUM(transactions.price_difference WHERE is_cancel = 1)>,\n",
       " <Feature: DAY(LAST(logs.date))>,\n",
       " <Feature: PERCENT_TRUE(transactions.WEEKEND(transaction_date) WHERE is_cancel = 0)>,\n",
       " <Feature: PERCENT_TRUE(transactions.WEEKEND(transaction_date) WHERE is_cancel = 1)>,\n",
       " <Feature: ALL(transactions.WEEKEND(membership_expire_date) WHERE is_auto_renew = 0)>,\n",
       " <Feature: PERCENT_TRUE(transactions.is_auto_renew WHERE is_cancel = 1)>,\n",
       " <Feature: NUM_UNIQUE(logs.DAY(date))>,\n",
       " <Feature: PERCENT_TRUE(transactions.WEEKEND(transaction_date))>,\n",
       " <Feature: ALL(transactions.WEEKEND(membership_expire_date) WHERE is_auto_renew = 1)>,\n",
       " <Feature: MODE(logs.DAY(date))>,\n",
       " <Feature: WEEKEND(LAST(logs.date))>,\n",
       " <Feature: MEAN(transactions.plan_list_price WHERE is_cancel = 0)>,\n",
       " <Feature: ALL(transactions.is_auto_renew WHERE is_cancel = 0)>,\n",
       " <Feature: NUM_UNIQUE(logs.MONTH(date))>,\n",
       " <Feature: MEAN(transactions.payment_plan_days WHERE is_auto_renew = 1)>,\n",
       " <Feature: MEAN(transactions.price_difference WHERE is_auto_renew = 0)>,\n",
       " <Feature: MEAN(transactions.price_difference WHERE is_auto_renew = 1)>,\n",
       " <Feature: MODE(transactions.MONTH(membership_expire_date))>,\n",
       " <Feature: DAY(LAST(transactions.transaction_date))>,\n",
       " <Feature: MEAN(transactions.price_difference WHERE is_cancel = 0)>,\n",
       " <Feature: SUM(transactions.plan_list_price WHERE is_cancel = 1)>,\n",
       " <Feature: PERCENT_TRUE(transactions.is_cancel WHERE is_auto_renew = 1)>,\n",
       " <Feature: ALL(transactions.WEEKEND(membership_expire_date))>,\n",
       " <Feature: PERCENT_TRUE(transactions.WEEKEND(transaction_date) WHERE is_auto_renew = 1)>,\n",
       " <Feature: SUM(transactions.actual_amount_paid WHERE is_auto_renew = 1)>,\n",
       " <Feature: SUM(transactions.actual_amount_paid WHERE is_auto_renew = 0)>,\n",
       " <Feature: LAST(transactions.MONTH(membership_expire_date))>,\n",
       " <Feature: MONTH(LAST(transactions.membership_expire_date))>,\n",
       " <Feature: SUM(transactions.planned_daily_price WHERE is_cancel = 0)>,\n",
       " <Feature: WEEKEND(LAST(transactions.transaction_date))>,\n",
       " <Feature: SUM(transactions.payment_plan_days WHERE is_auto_renew = 0)>,\n",
       " <Feature: MEAN(transactions.actual_amount_paid WHERE is_auto_renew = 0)>,\n",
       " <Feature: NUM_UNIQUE(transactions.MONTH(membership_expire_date))>,\n",
       " <Feature: LAST(transactions.WEEKEND(transaction_date))>,\n",
       " <Feature: SUM(transactions.payment_plan_days WHERE is_cancel = 1)>,\n",
       " <Feature: ALL(transactions.is_auto_renew WHERE is_cancel = 1)>,\n",
       " <Feature: MEAN(transactions.plan_list_price WHERE is_auto_renew = 0)>,\n",
       " <Feature: MODE(transactions.DAY(transaction_date))>,\n",
       " <Feature: LAST(transactions.DAY(transaction_date))>,\n",
       " <Feature: MEAN(transactions.daily_price WHERE is_cancel = 1)>,\n",
       " <Feature: SUM(transactions.daily_price WHERE is_auto_renew = 0)>,\n",
       " <Feature: ALL(transactions.WEEKEND(transaction_date) WHERE is_auto_renew = 0)>,\n",
       " <Feature: ALL(transactions.WEEKEND(transaction_date) WHERE is_auto_renew = 1)>,\n",
       " <Feature: LAST(logs.MONTH(date))>,\n",
       " <Feature: SUM(transactions.plan_list_price WHERE is_cancel = 0)>,\n",
       " <Feature: ALL(transactions.WEEKEND(membership_expire_date) WHERE is_cancel = 1)>,\n",
       " <Feature: DAY(LAST(transactions.membership_expire_date))>,\n",
       " <Feature: SUM(transactions.price_difference WHERE is_auto_renew = 0)>,\n",
       " <Feature: SUM(transactions.payment_plan_days WHERE is_auto_renew = 1)>,\n",
       " <Feature: MODE(logs.MONTH(date))>,\n",
       " <Feature: PERCENT_TRUE(transactions.is_cancel WHERE is_auto_renew = 0)>,\n",
       " <Feature: MEAN(transactions.plan_list_price WHERE is_auto_renew = 1)>,\n",
       " <Feature: PERCENT_TRUE(transactions.WEEKEND(membership_expire_date) WHERE is_cancel = 0)>,\n",
       " <Feature: PERCENT_TRUE(transactions.WEEKEND(membership_expire_date))>,\n",
       " <Feature: ALL(transactions.WEEKEND(membership_expire_date) WHERE is_cancel = 0)>,\n",
       " <Feature: SUM(transactions.daily_price WHERE is_cancel = 1)>,\n",
       " <Feature: MEAN(transactions.payment_plan_days WHERE is_cancel = 1)>,\n",
       " <Feature: SUM(transactions.plan_list_price WHERE is_auto_renew = 0)>,\n",
       " <Feature: LAST(transactions.DAY(membership_expire_date))>,\n",
       " <Feature: SUM(transactions.planned_daily_price WHERE is_auto_renew = 0)>,\n",
       " <Feature: NUM_UNIQUE(transactions.MONTH(transaction_date))>,\n",
       " <Feature: PERCENT_TRUE(transactions.WEEKEND(transaction_date) WHERE is_auto_renew = 0)>,\n",
       " <Feature: MEAN(transactions.payment_plan_days WHERE is_auto_renew = 0)>,\n",
       " <Feature: PERCENT_TRUE(transactions.WEEKEND(membership_expire_date) WHERE is_auto_renew = 0)>,\n",
       " <Feature: SUM(transactions.payment_plan_days WHERE is_cancel = 0)>,\n",
       " <Feature: MEAN(transactions.planned_daily_price WHERE is_auto_renew = 1)>,\n",
       " <Feature: MEAN(transactions.daily_price WHERE is_auto_renew = 0)>,\n",
       " <Feature: MEAN(transactions.daily_price WHERE is_auto_renew = 1)>,\n",
       " <Feature: SUM(transactions.actual_amount_paid WHERE is_cancel = 1)>,\n",
       " <Feature: PERCENT_TRUE(logs.WEEKEND(date))>,\n",
       " <Feature: MEAN(transactions.actual_amount_paid WHERE is_cancel = 0)>,\n",
       " <Feature: SUM(transactions.daily_price WHERE is_auto_renew = 1)>,\n",
       " <Feature: ALL(transactions.is_cancel WHERE is_auto_renew = 1)>,\n",
       " <Feature: SUM(transactions.planned_daily_price WHERE is_auto_renew = 1)>,\n",
       " <Feature: SUM(transactions.price_difference WHERE is_cancel = 0)>,\n",
       " <Feature: MEAN(transactions.daily_price WHERE is_cancel = 0)>,\n",
       " <Feature: MODE(transactions.DAY(membership_expire_date))>,\n",
       " <Feature: WEEKEND(LAST(transactions.membership_expire_date))>,\n",
       " <Feature: LAST(logs.WEEKEND(date))>,\n",
       " <Feature: NUM_UNIQUE(transactions.DAY(membership_expire_date))>,\n",
       " <Feature: SUM(transactions.price_difference WHERE is_auto_renew = 1)>,\n",
       " <Feature: LAST(transactions.MONTH(transaction_date))>,\n",
       " <Feature: ALL(transactions.WEEKEND(transaction_date))>,\n",
       " <Feature: ALL(transactions.is_cancel WHERE is_auto_renew = 0)>,\n",
       " <Feature: SUM(transactions.actual_amount_paid WHERE is_cancel = 0)>,\n",
       " <Feature: MEAN(transactions.actual_amount_paid WHERE is_auto_renew = 1)>,\n",
       " <Feature: ALL(logs.WEEKEND(date))>,\n",
       " <Feature: MONTH(LAST(transactions.transaction_date))>,\n",
       " <Feature: NUM_UNIQUE(transactions.DAY(transaction_date))>,\n",
       " <Feature: PERCENT_TRUE(transactions.is_auto_renew WHERE is_cancel = 0)>,\n",
       " <Feature: MEAN(transactions.planned_daily_price WHERE is_auto_renew = 0)>,\n",
       " <Feature: ALL(transactions.WEEKEND(transaction_date) WHERE is_cancel = 1)>,\n",
       " <Feature: MEAN(transactions.price_difference WHERE is_cancel = 1)>,\n",
       " <Feature: MEAN(transactions.payment_plan_days WHERE is_cancel = 0)>,\n",
       " <Feature: MEAN(transactions.actual_amount_paid WHERE is_cancel = 1)>,\n",
       " <Feature: LAST(transactions.WEEKEND(membership_expire_date))>,\n",
       " <Feature: MONTH(LAST(logs.date))>,\n",
       " <Feature: ALL(transactions.WEEKEND(transaction_date) WHERE is_cancel = 0)>,\n",
       " <Feature: LAST(logs.DAY(date))>,\n",
       " <Feature: MEAN(transactions.planned_daily_price WHERE is_cancel = 1)>,\n",
       " <Feature: SUM(transactions.planned_daily_price WHERE is_cancel = 1)>,\n",
       " <Feature: SUM(transactions.daily_price WHERE is_cancel = 0)>,\n",
       " <Feature: MEAN(transactions.planned_daily_price WHERE is_cancel = 0)>,\n",
       " <Feature: SUM(transactions.plan_list_price WHERE is_auto_renew = 1)>,\n",
       " <Feature: PERCENT_TRUE(transactions.WEEKEND(membership_expire_date) WHERE is_auto_renew = 1)>,\n",
       " <Feature: MODE(transactions.MONTH(transaction_date))>]"
      ]
     },
     "execution_count": 65,
     "metadata": {},
     "output_type": "execute_result"
    }
   ],
   "source": [
    "feature_defs"
   ]
  },
  {
   "cell_type": "markdown",
   "metadata": {},
   "source": [
    "We can save these feature definitions as a binary file which will allow us to make the same exact features for another entityset of the same format. This is useful when we have multiple partitions and we want to make the same features for each. Instead of remaking the feature definitions, we pass in the same feature definitions to a call to `calculate_feature_matrix`."
   ]
  },
  {
   "cell_type": "code",
   "execution_count": 66,
   "metadata": {},
   "outputs": [],
   "source": [
    "ft.save_features(feature_defs, 'features.txt')"
   ]
  },
  {
   "cell_type": "code",
   "execution_count": 67,
   "metadata": {},
   "outputs": [
    {
     "name": "stderr",
     "output_type": "stream",
     "text": [
      "distributed.comm.tcp - WARNING - Closing dangling stream in <TCP local=tcp://127.0.0.1:35530 remote=tcp://127.0.0.1:45943>\n",
      "distributed.comm.tcp - WARNING - Closing dangling stream in <TCP local=tcp://127.0.0.1:35532 remote=tcp://127.0.0.1:45943>\n",
      "distributed.comm.tcp - WARNING - Closing dangling stream in <TCP local=tcp://127.0.0.1:35534 remote=tcp://127.0.0.1:45943>\n",
      "distributed.comm.tcp - WARNING - Closing dangling stream in <TCP local=tcp://127.0.0.1:35536 remote=tcp://127.0.0.1:45943>\n",
      "distributed.comm.tcp - WARNING - Closing dangling stream in <TCP local=tcp://127.0.0.1:35538 remote=tcp://127.0.0.1:45943>\n",
      "distributed.comm.tcp - WARNING - Closing dangling stream in <TCP local=tcp://127.0.0.1:35540 remote=tcp://127.0.0.1:45943>\n",
      "distributed.comm.tcp - WARNING - Closing dangling stream in <TCP local=tcp://127.0.0.1:35542 remote=tcp://127.0.0.1:45943>\n",
      "distributed.comm.tcp - WARNING - Closing dangling stream in <TCP local=tcp://127.0.0.1:35544 remote=tcp://127.0.0.1:45943>\n",
      "distributed.comm.tcp - WARNING - Closing dangling stream in <TCP local=tcp://127.0.0.1:35546 remote=tcp://127.0.0.1:45943>\n",
      "distributed.comm.tcp - WARNING - Closing dangling stream in <TCP local=tcp://127.0.0.1:35548 remote=tcp://127.0.0.1:45943>\n",
      "distributed.comm.tcp - WARNING - Closing dangling stream in <TCP local=tcp://127.0.0.1:35550 remote=tcp://127.0.0.1:45943>\n",
      "distributed.comm.tcp - WARNING - Closing dangling stream in <TCP local=tcp://127.0.0.1:35552 remote=tcp://127.0.0.1:45943>\n",
      "distributed.comm.tcp - WARNING - Closing dangling stream in <TCP local=tcp://127.0.0.1:35554 remote=tcp://127.0.0.1:45943>\n",
      "Exception ignored in: <generator object add_client at 0x7f34d8565eb8>\n",
      "RuntimeError: generator ignored GeneratorExit\n",
      "Future exception was never retrieved\n",
      "future: <Future finished exception=StreamClosedError('Stream is closed',)>\n",
      "Traceback (most recent call last):\n",
      "  File \"/anaconda/envs/py35/lib/python3.5/site-packages/tornado/tcpclient.py\", line 112, in on_connect_done\n",
      "    stream = future.result()\n",
      "  File \"/anaconda/envs/py35/lib/python3.5/asyncio/futures.py\", line 294, in result\n",
      "    raise self._exception\n",
      "tornado.iostream.StreamClosedError: Stream is closed\n"
     ]
    }
   ],
   "source": [
    "feature_matrix.to_csv('kkbox_feature_matrix.csv')"
   ]
  },
  {
   "cell_type": "code",
   "execution_count": null,
   "metadata": {},
   "outputs": [],
   "source": []
  }
 ],
 "metadata": {
  "kernelspec": {
   "display_name": "Python [default]",
   "language": "python",
   "name": "python3"
  },
  "language_info": {
   "codemirror_mode": {
    "name": "ipython",
    "version": 3
   },
   "file_extension": ".py",
   "mimetype": "text/x-python",
   "name": "python",
   "nbconvert_exporter": "python",
   "pygments_lexer": "ipython3",
   "version": "3.5.5"
  }
 },
 "nbformat": 4,
 "nbformat_minor": 2
}
