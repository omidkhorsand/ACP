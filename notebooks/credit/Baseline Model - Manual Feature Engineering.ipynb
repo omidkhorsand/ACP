{
 "cells": [
  {
   "cell_type": "code",
   "execution_count": 1,
   "metadata": {},
   "outputs": [],
   "source": [
    "# Pandas and numpy for data manipulation\n",
    "import pandas as pd\n",
    "import numpy as np\n",
    "\n",
    "RSEED = 50"
   ]
  },
  {
   "cell_type": "code",
   "execution_count": 2,
   "metadata": {},
   "outputs": [
    {
     "name": "stdout",
     "output_type": "stream",
     "text": [
      "Original number of features: 120.\n",
      "Number of features after one-hot encoding: 241.\n"
     ]
    }
   ],
   "source": [
    "# Read in data\n",
    "app_train = pd.read_csv('C:/Users/DELL/MBAN 2019/Fall 2018/MBAN 6090- ACP/Dataset/application_train.csv')\n",
    "app_test = pd.read_csv('C:/Users/DELL/MBAN 2019/Fall 2018/MBAN 6090- ACP/Dataset/application_test.csv')\n",
    "\n",
    "train_ids = list(app_train['SK_ID_CURR'])\n",
    "test_ids = list(app_test['SK_ID_CURR'])\n",
    "\n",
    "print('Original number of features: {}.'.format(app_train.shape[1] - 2))\n",
    "\n",
    "# One Hot Encode\n",
    "app_train, app_test = pd.get_dummies(app_train), pd.get_dummies(app_test)\n",
    "app_test['TARGET'] = np.nan\n",
    "\n",
    "# Align on the columns\n",
    "app_train, app_test = app_train.align(app_test, axis = 1, join = 'inner')\n",
    "\n",
    "original_features = list(app_train.columns)\n",
    "original_features.remove('TARGET')\n",
    "original_features.remove('SK_ID_CURR')\n",
    "\n",
    "# Combine train/test into one dataset\n",
    "app = app_train.append(app_test, sort=False)\n",
    "\n",
    "print('Number of features after one-hot encoding: {}.'.format(app.shape[1] - 2))"
   ]
  },
  {
   "cell_type": "code",
   "execution_count": 3,
   "metadata": {},
   "outputs": [],
   "source": [
    "import lightgbm as lgb\n",
    "\n",
    "test = app_test.drop(columns = ['TARGET', 'SK_ID_CURR'])\n",
    "\n",
    "def cross_validate(train):\n",
    "    \"\"\"Compute cross validation ROC AUC of a gradient boosting model for a given training dataset\"\"\"\n",
    "    \n",
    "    # Extract the labels\n",
    "    train_labels = np.array(train['TARGET'].astype(np.int32)).reshape((-1, ))\n",
    "    train = train.drop(columns = ['TARGET', 'SK_ID_CURR'])\n",
    "\n",
    "    # Create a  lgb training set\n",
    "    train_set = lgb.Dataset(train, label = train_labels)\n",
    "\n",
    "    # Find default hyperparameters\n",
    "    model = lgb.LGBMClassifier()\n",
    "    params = model.get_params()\n",
    "\n",
    "    # Number of estimators will be selected through early stopping\n",
    "    del params['n_estimators'], params['silent']\n",
    "\n",
    "    # Early stoppping with 5 fold cross validation\n",
    "    cv_results = lgb.cv(params, train_set, num_boost_round = 10000, metrics = 'auc', \n",
    "                        early_stopping_rounds = 100, seed = RSEED, nfold = 5)\n",
    "\n",
    "    print('Cross Validation ROC AUC: {:.5f} with std: {:.5f}.'.format(cv_results['auc-mean'][-1],\n",
    "                                                                               cv_results['auc-stdv'][-1]))\n",
    "\n",
    "    print('Number of estimators trained: {}'.format(len(cv_results['auc-mean'])))\n",
    "    \n",
    "    return cv_results"
   ]
  },
  {
   "cell_type": "code",
   "execution_count": 4,
   "metadata": {},
   "outputs": [
    {
     "name": "stdout",
     "output_type": "stream",
     "text": [
      "Cross Validation ROC AUC: 0.75565 with std: 0.00604.\n",
      "Number of estimators trained: 141\n"
     ]
    }
   ],
   "source": [
    "cv_results_baseline = cross_validate(app_train)"
   ]
  },
  {
   "cell_type": "code",
   "execution_count": 5,
   "metadata": {},
   "outputs": [
    {
     "data": {
      "text/plain": [
       "count    356219.000000\n",
       "mean          0.055463\n",
       "std           0.023206\n",
       "min           0.022073\n",
       "25%           0.038080\n",
       "50%           0.050000\n",
       "75%           0.067066\n",
       "max           0.124430\n",
       "Name: LOAN_RATE, dtype: float64"
      ]
     },
     "execution_count": 5,
     "metadata": {},
     "output_type": "execute_result"
    }
   ],
   "source": [
    "# Replace the anomalous values\n",
    "app = app.replace({365243: np.nan})\n",
    "\n",
    "# New features\n",
    "app['LOAN_RATE'] = app['AMT_ANNUITY'] / app['AMT_CREDIT'] \n",
    "app['LOAN_RATE'].describe()"
   ]
  },
  {
   "cell_type": "code",
   "execution_count": 6,
   "metadata": {},
   "outputs": [
    {
     "name": "stdout",
     "output_type": "stream",
     "text": [
      "Cross Validation ROC AUC: 0.76248 with std: 0.00658.\n",
      "Number of estimators trained: 169\n"
     ]
    }
   ],
   "source": [
    "cv_results = cross_validate(app[app['TARGET'].notnull()])"
   ]
  },
  {
   "cell_type": "code",
   "execution_count": 7,
   "metadata": {},
   "outputs": [],
   "source": [
    "app['CREDIT_INCOME_RATIO'] = app['AMT_CREDIT'] / app['AMT_INCOME_TOTAL']\n",
    "app['EMPLOYED_BIRTH_RATIO'] = app['DAYS_EMPLOYED'] / app['DAYS_BIRTH']"
   ]
  },
  {
   "cell_type": "code",
   "execution_count": 8,
   "metadata": {},
   "outputs": [
    {
     "data": {
      "text/plain": [
       "count    356255.000000\n",
       "mean          3.849476\n",
       "std           2.635035\n",
       "min           0.004808\n",
       "25%           2.000000\n",
       "50%           3.158857\n",
       "75%           5.000000\n",
       "max          84.736842\n",
       "Name: CREDIT_INCOME_RATIO, dtype: float64"
      ]
     },
     "execution_count": 8,
     "metadata": {},
     "output_type": "execute_result"
    }
   ],
   "source": [
    "app['CREDIT_INCOME_RATIO'].describe()"
   ]
  },
  {
   "cell_type": "code",
   "execution_count": 10,
   "metadata": {},
   "outputs": [],
   "source": [
    "app['EXT_SOURCE_SUM'] = app[['EXT_SOURCE_1', 'EXT_SOURCE_2', 'EXT_SOURCE_3']].sum(axis = 1)\n",
    "app['EXT_SOURCE_MEAN'] = app[['EXT_SOURCE_1', 'EXT_SOURCE_2', 'EXT_SOURCE_3']].mean(axis = 1)"
   ]
  },
  {
   "cell_type": "code",
   "execution_count": 11,
   "metadata": {},
   "outputs": [
    {
     "data": {
      "text/plain": [
       "count    356255.000000\n",
       "mean          2.157309\n",
       "std           2.256242\n",
       "min           0.000000\n",
       "25%           0.000000\n",
       "50%           2.000000\n",
       "75%           3.000000\n",
       "max         262.000000\n",
       "Name: AMT_REQ_SUM, dtype: float64"
      ]
     },
     "execution_count": 11,
     "metadata": {},
     "output_type": "execute_result"
    }
   ],
   "source": [
    "# Add up the `AMT_REQ_` columns\n",
    "app['AMT_REQ_SUM'] = app[[x for x in app.columns if 'AMT_REQ_' in x]].sum(axis = 1)\n",
    "app['AMT_REQ_SUM'].describe()"
   ]
  },
  {
   "cell_type": "code",
   "execution_count": 12,
   "metadata": {},
   "outputs": [
    {
     "name": "stdout",
     "output_type": "stream",
     "text": [
      "Cross Validation ROC AUC: 0.76206 with std: 0.00611.\n",
      "Number of estimators trained: 156\n"
     ]
    }
   ],
   "source": [
    "cv_results = cross_validate(app[app['TARGET'].notnull()])"
   ]
  },
  {
   "cell_type": "code",
   "execution_count": 13,
   "metadata": {},
   "outputs": [],
   "source": [
    "bureau = pd.read_csv('C:/Users/DELL/MBAN 2019/Fall 2018/MBAN 6090- ACP/Dataset/bureau.csv')"
   ]
  },
  {
   "cell_type": "code",
   "execution_count": 14,
   "metadata": {},
   "outputs": [
    {
     "data": {
      "text/html": [
       "<div>\n",
       "<style scoped>\n",
       "    .dataframe tbody tr th:only-of-type {\n",
       "        vertical-align: middle;\n",
       "    }\n",
       "\n",
       "    .dataframe tbody tr th {\n",
       "        vertical-align: top;\n",
       "    }\n",
       "\n",
       "    .dataframe thead th {\n",
       "        text-align: right;\n",
       "    }\n",
       "</style>\n",
       "<table border=\"1\" class=\"dataframe\">\n",
       "  <thead>\n",
       "    <tr style=\"text-align: right;\">\n",
       "      <th></th>\n",
       "      <th>SK_ID_CURR</th>\n",
       "      <th>PREVIOUS_OTHER_LOAN_COUNTS</th>\n",
       "    </tr>\n",
       "  </thead>\n",
       "  <tbody>\n",
       "    <tr>\n",
       "      <th>0</th>\n",
       "      <td>100001</td>\n",
       "      <td>7</td>\n",
       "    </tr>\n",
       "    <tr>\n",
       "      <th>1</th>\n",
       "      <td>100002</td>\n",
       "      <td>8</td>\n",
       "    </tr>\n",
       "    <tr>\n",
       "      <th>2</th>\n",
       "      <td>100003</td>\n",
       "      <td>4</td>\n",
       "    </tr>\n",
       "    <tr>\n",
       "      <th>3</th>\n",
       "      <td>100004</td>\n",
       "      <td>2</td>\n",
       "    </tr>\n",
       "    <tr>\n",
       "      <th>4</th>\n",
       "      <td>100005</td>\n",
       "      <td>3</td>\n",
       "    </tr>\n",
       "  </tbody>\n",
       "</table>\n",
       "</div>"
      ],
      "text/plain": [
       "   SK_ID_CURR  PREVIOUS_OTHER_LOAN_COUNTS\n",
       "0      100001                           7\n",
       "1      100002                           8\n",
       "2      100003                           4\n",
       "3      100004                           2\n",
       "4      100005                           3"
      ]
     },
     "execution_count": 14,
     "metadata": {},
     "output_type": "execute_result"
    }
   ],
   "source": [
    "# Groupby the client id (SK_ID_CURR), count the number of previous loans, and rename the column\n",
    "previous_loan_counts = bureau.groupby('SK_ID_CURR', as_index=False)['SK_ID_BUREAU'].count().rename(columns = {'SK_ID_BUREAU': 'PREVIOUS_OTHER_LOAN_COUNTS'})\n",
    "previous_loan_counts.head()"
   ]
  },
  {
   "cell_type": "code",
   "execution_count": 15,
   "metadata": {},
   "outputs": [],
   "source": [
    "app = app.merge(previous_loan_counts, on = 'SK_ID_CURR', how = 'left')"
   ]
  },
  {
   "cell_type": "code",
   "execution_count": 16,
   "metadata": {},
   "outputs": [
    {
     "data": {
      "text/html": [
       "<div>\n",
       "<style scoped>\n",
       "    .dataframe tbody tr th:only-of-type {\n",
       "        vertical-align: middle;\n",
       "    }\n",
       "\n",
       "    .dataframe tbody tr th {\n",
       "        vertical-align: top;\n",
       "    }\n",
       "\n",
       "    .dataframe thead th {\n",
       "        text-align: right;\n",
       "    }\n",
       "</style>\n",
       "<table border=\"1\" class=\"dataframe\">\n",
       "  <thead>\n",
       "    <tr style=\"text-align: right;\">\n",
       "      <th></th>\n",
       "      <th>SK_ID_CURR</th>\n",
       "      <th>PREVIOUS_OTHER_LOAN_SUM</th>\n",
       "    </tr>\n",
       "  </thead>\n",
       "  <tbody>\n",
       "    <tr>\n",
       "      <th>0</th>\n",
       "      <td>100001</td>\n",
       "      <td>1453365.000</td>\n",
       "    </tr>\n",
       "    <tr>\n",
       "      <th>1</th>\n",
       "      <td>100002</td>\n",
       "      <td>865055.565</td>\n",
       "    </tr>\n",
       "    <tr>\n",
       "      <th>2</th>\n",
       "      <td>100003</td>\n",
       "      <td>1017400.500</td>\n",
       "    </tr>\n",
       "    <tr>\n",
       "      <th>3</th>\n",
       "      <td>100004</td>\n",
       "      <td>189037.800</td>\n",
       "    </tr>\n",
       "    <tr>\n",
       "      <th>4</th>\n",
       "      <td>100005</td>\n",
       "      <td>657126.000</td>\n",
       "    </tr>\n",
       "  </tbody>\n",
       "</table>\n",
       "</div>"
      ],
      "text/plain": [
       "   SK_ID_CURR  PREVIOUS_OTHER_LOAN_SUM\n",
       "0      100001              1453365.000\n",
       "1      100002               865055.565\n",
       "2      100003              1017400.500\n",
       "3      100004               189037.800\n",
       "4      100005               657126.000"
      ]
     },
     "execution_count": 16,
     "metadata": {},
     "output_type": "execute_result"
    }
   ],
   "source": [
    "# Groupby the client id (SK_ID_CURR), sum the amounts for each previous loan and rename the resulting columns\n",
    "previous_loan_sums = bureau.groupby('SK_ID_CURR', as_index=False)['AMT_CREDIT_SUM'].sum().rename(columns = {'AMT_CREDIT_SUM': 'PREVIOUS_OTHER_LOAN_SUM'})\n",
    "app = app.merge(previous_loan_sums, on = 'SK_ID_CURR', how = 'left')\n",
    "previous_loan_sums.head()"
   ]
  },
  {
   "cell_type": "code",
   "execution_count": 17,
   "metadata": {},
   "outputs": [
    {
     "data": {
      "text/plain": [
       "count    4.810630e+05\n",
       "mean              inf\n",
       "std               NaN\n",
       "min      0.000000e+00\n",
       "25%      0.000000e+00\n",
       "50%      0.000000e+00\n",
       "75%      6.365075e-02\n",
       "max               inf\n",
       "Name: LOAN_RATE, dtype: float64"
      ]
     },
     "execution_count": 17,
     "metadata": {},
     "output_type": "execute_result"
    }
   ],
   "source": [
    "bureau['LOAN_RATE'] = bureau['AMT_ANNUITY'] / bureau['AMT_CREDIT_SUM']\n",
    "bureau['LOAN_RATE'].describe()"
   ]
  },
  {
   "cell_type": "code",
   "execution_count": 18,
   "metadata": {},
   "outputs": [
    {
     "data": {
      "text/plain": [
       "count    1.178090e+05\n",
       "mean              inf\n",
       "std               NaN\n",
       "min      0.000000e+00\n",
       "25%      3.333333e-03\n",
       "50%      3.051528e-02\n",
       "75%      9.287479e-02\n",
       "max               inf\n",
       "Name: PREVIOUS_OTHER_LOAN_RATE_MEAN, dtype: float64"
      ]
     },
     "execution_count": 18,
     "metadata": {},
     "output_type": "execute_result"
    }
   ],
   "source": [
    "previous_loan_rate_mean = bureau.groupby('SK_ID_CURR', as_index=False)['LOAN_RATE'].mean().rename(columns = {'LOAN_RATE': 'PREVIOUS_OTHER_LOAN_RATE_MEAN'})\n",
    "app = app.merge(previous_loan_rate_mean, on = 'SK_ID_CURR', how = 'left')\n",
    "previous_loan_rate_mean['PREVIOUS_OTHER_LOAN_RATE_MEAN'].describe()"
   ]
  },
  {
   "cell_type": "code",
   "execution_count": 19,
   "metadata": {},
   "outputs": [],
   "source": [
    "bureau_credit_active = pd.get_dummies(bureau[['SK_ID_CURR', 'CREDIT_ACTIVE']])"
   ]
  },
  {
   "cell_type": "code",
   "execution_count": 20,
   "metadata": {},
   "outputs": [
    {
     "data": {
      "text/html": [
       "<div>\n",
       "<style scoped>\n",
       "    .dataframe tbody tr th:only-of-type {\n",
       "        vertical-align: middle;\n",
       "    }\n",
       "\n",
       "    .dataframe tbody tr th {\n",
       "        vertical-align: top;\n",
       "    }\n",
       "\n",
       "    .dataframe thead th {\n",
       "        text-align: right;\n",
       "    }\n",
       "</style>\n",
       "<table border=\"1\" class=\"dataframe\">\n",
       "  <thead>\n",
       "    <tr style=\"text-align: right;\">\n",
       "      <th></th>\n",
       "      <th>SK_ID_CURR</th>\n",
       "      <th>PREVIOUS_OTHER_CREDIT_ACTIVE_ACTIVE_SUM</th>\n",
       "      <th>PREVIOUS_OTHER_CREDIT_ACTIVE_CLOSED_SUM</th>\n",
       "    </tr>\n",
       "  </thead>\n",
       "  <tbody>\n",
       "    <tr>\n",
       "      <th>0</th>\n",
       "      <td>100001</td>\n",
       "      <td>3</td>\n",
       "      <td>4</td>\n",
       "    </tr>\n",
       "    <tr>\n",
       "      <th>1</th>\n",
       "      <td>100002</td>\n",
       "      <td>2</td>\n",
       "      <td>6</td>\n",
       "    </tr>\n",
       "    <tr>\n",
       "      <th>2</th>\n",
       "      <td>100003</td>\n",
       "      <td>1</td>\n",
       "      <td>3</td>\n",
       "    </tr>\n",
       "    <tr>\n",
       "      <th>3</th>\n",
       "      <td>100004</td>\n",
       "      <td>0</td>\n",
       "      <td>2</td>\n",
       "    </tr>\n",
       "    <tr>\n",
       "      <th>4</th>\n",
       "      <td>100005</td>\n",
       "      <td>2</td>\n",
       "      <td>1</td>\n",
       "    </tr>\n",
       "  </tbody>\n",
       "</table>\n",
       "</div>"
      ],
      "text/plain": [
       "   SK_ID_CURR  PREVIOUS_OTHER_CREDIT_ACTIVE_ACTIVE_SUM  \\\n",
       "0      100001                                        3   \n",
       "1      100002                                        2   \n",
       "2      100003                                        1   \n",
       "3      100004                                        0   \n",
       "4      100005                                        2   \n",
       "\n",
       "   PREVIOUS_OTHER_CREDIT_ACTIVE_CLOSED_SUM  \n",
       "0                                        4  \n",
       "1                                        6  \n",
       "2                                        3  \n",
       "3                                        2  \n",
       "4                                        1  "
      ]
     },
     "execution_count": 20,
     "metadata": {},
     "output_type": "execute_result"
    }
   ],
   "source": [
    "bureau_credit_active_sums = bureau_credit_active.groupby('SK_ID_CURR', as_index = False)[['CREDIT_ACTIVE_Active', 'CREDIT_ACTIVE_Closed']].sum()\n",
    "bureau_credit_active_sums = bureau_credit_active_sums.rename(columns = {'CREDIT_ACTIVE_Active': 'PREVIOUS_OTHER_CREDIT_ACTIVE_ACTIVE_SUM',\n",
    "                                                                        'CREDIT_ACTIVE_Closed': 'PREVIOUS_OTHER_CREDIT_ACTIVE_CLOSED_SUM'})\n",
    "bureau_credit_active_sums.head()"
   ]
  },
  {
   "cell_type": "code",
   "execution_count": 21,
   "metadata": {},
   "outputs": [],
   "source": [
    "app = app.merge(bureau_credit_active_sums, on = 'SK_ID_CURR', how = 'left')"
   ]
  },
  {
   "cell_type": "code",
   "execution_count": 22,
   "metadata": {},
   "outputs": [],
   "source": [
    "previous = pd.read_csv('C:/Users/DELL/MBAN 2019/Fall 2018/MBAN 6090- ACP/Dataset/previous_application.csv')"
   ]
  },
  {
   "cell_type": "code",
   "execution_count": 23,
   "metadata": {},
   "outputs": [],
   "source": [
    "# Group by the client id (SK_ID_CURR), count the number of previous loans, and rename the column\n",
    "previous_loan_counts = previous.groupby('SK_ID_CURR', as_index=False)['SK_ID_PREV'].count().rename(columns = {'SK_ID_PREV': 'PREVIOUS_LOAN_COUNTS'})\n",
    "app = app.merge(previous_loan_counts, on = 'SK_ID_CURR', how = 'left')\n"
   ]
  },
  {
   "cell_type": "code",
   "execution_count": 24,
   "metadata": {},
   "outputs": [],
   "source": [
    "# Group by the client id (SK_ID_CURR), sum the amount of previous loans, and rename the column\n",
    "previous_loan_sum = previous.groupby('SK_ID_CURR', as_index=False)['AMT_CREDIT'].count().rename(columns = {'AMT_CREDIT': 'PREVIOUS_LOAN_SUM'})\n",
    "app = app.merge(previous_loan_sum, on = 'SK_ID_CURR', how = 'left')"
   ]
  },
  {
   "cell_type": "code",
   "execution_count": 25,
   "metadata": {},
   "outputs": [],
   "source": [
    "# Calculate loan rate\n",
    "previous['LOAN_RATE'] = previous['AMT_ANNUITY'] / previous['AMT_CREDIT']\n",
    "\n",
    "# Calculate mean of loan rate for each client\n",
    "previous_loan_rate_mean = previous.groupby('SK_ID_CURR', as_index=False)['LOAN_RATE'].mean().rename(columns = {'LOAN_RATE': 'PREVIOUS_LOAN_RATE_MEAN'})\n",
    "app = app.merge(previous_loan_rate_mean, on = 'SK_ID_CURR', how = 'left')"
   ]
  },
  {
   "cell_type": "code",
   "execution_count": 26,
   "metadata": {},
   "outputs": [],
   "source": [
    "# Calculate difference\n",
    "previous[\"AMT_DIFFERENCE\"] = previous['AMT_CREDIT'] - previous['AMT_APPLICATION']\n",
    "# Find the mean for each client\n",
    "previous_difference_mean = previous.groupby('SK_ID_CURR', \n",
    "                                            as_index = False)['AMT_DIFFERENCE'].mean().rename(columns = {'AMT_DIFFERENCE': 'PREVIOUS_LOAN_DIFFERENCE_MEAN'})\n",
    "\n",
    "app = app.merge(previous_difference_mean, on = 'SK_ID_CURR', how = 'left')"
   ]
  },
  {
   "cell_type": "code",
   "execution_count": 27,
   "metadata": {},
   "outputs": [],
   "source": [
    "bureau_balance = pd.read_csv('C:/Users/DELL/MBAN 2019/Fall 2018/MBAN 6090- ACP/Dataset/bureau_balance.csv')"
   ]
  },
  {
   "cell_type": "code",
   "execution_count": 28,
   "metadata": {},
   "outputs": [
    {
     "data": {
      "text/html": [
       "<div>\n",
       "<style scoped>\n",
       "    .dataframe tbody tr th:only-of-type {\n",
       "        vertical-align: middle;\n",
       "    }\n",
       "\n",
       "    .dataframe tbody tr th {\n",
       "        vertical-align: top;\n",
       "    }\n",
       "\n",
       "    .dataframe thead th {\n",
       "        text-align: right;\n",
       "    }\n",
       "</style>\n",
       "<table border=\"1\" class=\"dataframe\">\n",
       "  <thead>\n",
       "    <tr style=\"text-align: right;\">\n",
       "      <th></th>\n",
       "      <th>SK_ID_BUREAU</th>\n",
       "      <th>PREVIOUS_OTHER_LOAN_LENGTH</th>\n",
       "    </tr>\n",
       "  </thead>\n",
       "  <tbody>\n",
       "    <tr>\n",
       "      <th>0</th>\n",
       "      <td>5001709</td>\n",
       "      <td>-96</td>\n",
       "    </tr>\n",
       "    <tr>\n",
       "      <th>1</th>\n",
       "      <td>5001710</td>\n",
       "      <td>-82</td>\n",
       "    </tr>\n",
       "    <tr>\n",
       "      <th>2</th>\n",
       "      <td>5001711</td>\n",
       "      <td>-3</td>\n",
       "    </tr>\n",
       "    <tr>\n",
       "      <th>3</th>\n",
       "      <td>5001712</td>\n",
       "      <td>-18</td>\n",
       "    </tr>\n",
       "    <tr>\n",
       "      <th>4</th>\n",
       "      <td>5001713</td>\n",
       "      <td>-21</td>\n",
       "    </tr>\n",
       "  </tbody>\n",
       "</table>\n",
       "</div>"
      ],
      "text/plain": [
       "   SK_ID_BUREAU  PREVIOUS_OTHER_LOAN_LENGTH\n",
       "0       5001709                         -96\n",
       "1       5001710                         -82\n",
       "2       5001711                          -3\n",
       "3       5001712                         -18\n",
       "4       5001713                         -21"
      ]
     },
     "execution_count": 28,
     "metadata": {},
     "output_type": "execute_result"
    }
   ],
   "source": [
    "previous_loan_length = bureau_balance.groupby('SK_ID_BUREAU', as_index = False)['MONTHS_BALANCE'].min().rename(columns = {'MONTHS_BALANCE': 'PREVIOUS_OTHER_LOAN_LENGTH'})\n",
    "previous_loan_length.head()"
   ]
  },
  {
   "cell_type": "code",
   "execution_count": 29,
   "metadata": {},
   "outputs": [],
   "source": [
    "\n",
    "previous_loan_length = previous_loan_length.merge(bureau[['SK_ID_CURR', 'SK_ID_BUREAU']], \n",
    "                                                  on = 'SK_ID_BUREAU', how = 'left')"
   ]
  },
  {
   "cell_type": "code",
   "execution_count": 30,
   "metadata": {},
   "outputs": [],
   "source": [
    "previous_loan_length_mean = previous_loan_length.groupby('SK_ID_CURR', as_index = False)['PREVIOUS_OTHER_LOAN_LENGTH'].mean()\n",
    "previous_loan_length_mean = previous_loan_length_mean.rename(columns = {'PREVIOUS_OTHER_LOAN_LENGTH': 'PREVIOUS_OTHER_LOAN_LENGTH_MEAN'})\n",
    "app = app.merge(previous_loan_length_mean, on = 'SK_ID_CURR', how = 'left')"
   ]
  },
  {
   "cell_type": "code",
   "execution_count": 31,
   "metadata": {},
   "outputs": [],
   "source": [
    "previous_loan_length_sum = previous_loan_length.groupby('SK_ID_CURR', as_index = False)['PREVIOUS_OTHER_LOAN_LENGTH'].sum()\n",
    "previous_loan_length_sum = previous_loan_length_sum.rename(columns = {'PREVIOUS_OTHER_LOAN_LENGTH': 'PREVIOUS_OTHER_LOAN_LENGTH_SUM'})\n",
    "app = app.merge(previous_loan_length_sum, on = 'SK_ID_CURR', how = 'left')"
   ]
  },
  {
   "cell_type": "code",
   "execution_count": 32,
   "metadata": {},
   "outputs": [],
   "source": [
    "bureau_balance_status = pd.get_dummies(bureau_balance[['SK_ID_BUREAU', 'STATUS']])"
   ]
  },
  {
   "cell_type": "code",
   "execution_count": 33,
   "metadata": {},
   "outputs": [
    {
     "data": {
      "text/html": [
       "<div>\n",
       "<style scoped>\n",
       "    .dataframe tbody tr th:only-of-type {\n",
       "        vertical-align: middle;\n",
       "    }\n",
       "\n",
       "    .dataframe tbody tr th {\n",
       "        vertical-align: top;\n",
       "    }\n",
       "\n",
       "    .dataframe thead th {\n",
       "        text-align: right;\n",
       "    }\n",
       "</style>\n",
       "<table border=\"1\" class=\"dataframe\">\n",
       "  <thead>\n",
       "    <tr style=\"text-align: right;\">\n",
       "      <th></th>\n",
       "      <th>SK_ID_BUREAU</th>\n",
       "      <th>STATUS_1</th>\n",
       "      <th>STATUS_2</th>\n",
       "      <th>STATUS_3</th>\n",
       "      <th>STATUS_4</th>\n",
       "      <th>STATUS_5</th>\n",
       "      <th>PAST_DUE_SUM</th>\n",
       "    </tr>\n",
       "  </thead>\n",
       "  <tbody>\n",
       "    <tr>\n",
       "      <th>0</th>\n",
       "      <td>5001709</td>\n",
       "      <td>0</td>\n",
       "      <td>0</td>\n",
       "      <td>0</td>\n",
       "      <td>0</td>\n",
       "      <td>0</td>\n",
       "      <td>0</td>\n",
       "    </tr>\n",
       "    <tr>\n",
       "      <th>1</th>\n",
       "      <td>5001710</td>\n",
       "      <td>0</td>\n",
       "      <td>0</td>\n",
       "      <td>0</td>\n",
       "      <td>0</td>\n",
       "      <td>0</td>\n",
       "      <td>0</td>\n",
       "    </tr>\n",
       "    <tr>\n",
       "      <th>2</th>\n",
       "      <td>5001711</td>\n",
       "      <td>0</td>\n",
       "      <td>0</td>\n",
       "      <td>0</td>\n",
       "      <td>0</td>\n",
       "      <td>0</td>\n",
       "      <td>0</td>\n",
       "    </tr>\n",
       "    <tr>\n",
       "      <th>3</th>\n",
       "      <td>5001712</td>\n",
       "      <td>0</td>\n",
       "      <td>0</td>\n",
       "      <td>0</td>\n",
       "      <td>0</td>\n",
       "      <td>0</td>\n",
       "      <td>0</td>\n",
       "    </tr>\n",
       "    <tr>\n",
       "      <th>4</th>\n",
       "      <td>5001713</td>\n",
       "      <td>0</td>\n",
       "      <td>0</td>\n",
       "      <td>0</td>\n",
       "      <td>0</td>\n",
       "      <td>0</td>\n",
       "      <td>0</td>\n",
       "    </tr>\n",
       "  </tbody>\n",
       "</table>\n",
       "</div>"
      ],
      "text/plain": [
       "   SK_ID_BUREAU  STATUS_1  STATUS_2  STATUS_3  STATUS_4  STATUS_5  \\\n",
       "0       5001709         0         0         0         0         0   \n",
       "1       5001710         0         0         0         0         0   \n",
       "2       5001711         0         0         0         0         0   \n",
       "3       5001712         0         0         0         0         0   \n",
       "4       5001713         0         0         0         0         0   \n",
       "\n",
       "   PAST_DUE_SUM  \n",
       "0             0  \n",
       "1             0  \n",
       "2             0  \n",
       "3             0  \n",
       "4             0  "
      ]
     },
     "execution_count": 33,
     "metadata": {},
     "output_type": "execute_result"
    }
   ],
   "source": [
    "previous_past_due = bureau_balance_status.groupby('SK_ID_BUREAU', as_index = False)[['STATUS_1', 'STATUS_2', 'STATUS_3', 'STATUS_4', 'STATUS_5']].sum()\n",
    "previous_past_due['PAST_DUE_SUM'] = previous_past_due[['STATUS_1', 'STATUS_2', 'STATUS_3', 'STATUS_4', 'STATUS_5']].sum(axis = 1)\n",
    "previous_past_due.head()"
   ]
  },
  {
   "cell_type": "code",
   "execution_count": 34,
   "metadata": {},
   "outputs": [],
   "source": [
    "previous_past_due = previous_past_due.merge(bureau[['SK_ID_CURR', 'SK_ID_BUREAU']], on = 'SK_ID_BUREAU', how = 'left')\n",
    "previous_past_due_sum = previous_past_due.groupby('SK_ID_CURR', as_index = False)['PAST_DUE_SUM'].sum().rename(columns = {'PAST_DUE_SUM': 'PREVIOUS_OTHER_PAST_DUE_SUM_SUM'})\n",
    "app = app.merge(previous_past_due_sum, on = 'SK_ID_CURR', how = 'left')"
   ]
  },
  {
   "cell_type": "code",
   "execution_count": 35,
   "metadata": {},
   "outputs": [
    {
     "data": {
      "text/html": [
       "<div>\n",
       "<style scoped>\n",
       "    .dataframe tbody tr th:only-of-type {\n",
       "        vertical-align: middle;\n",
       "    }\n",
       "\n",
       "    .dataframe tbody tr th {\n",
       "        vertical-align: top;\n",
       "    }\n",
       "\n",
       "    .dataframe thead th {\n",
       "        text-align: right;\n",
       "    }\n",
       "</style>\n",
       "<table border=\"1\" class=\"dataframe\">\n",
       "  <thead>\n",
       "    <tr style=\"text-align: right;\">\n",
       "      <th></th>\n",
       "      <th>SK_ID_CURR</th>\n",
       "      <th>PREVIOUS_OTHER_ON_TIME_SUM_SUM</th>\n",
       "    </tr>\n",
       "  </thead>\n",
       "  <tbody>\n",
       "    <tr>\n",
       "      <th>0</th>\n",
       "      <td>100001.0</td>\n",
       "      <td>31.0</td>\n",
       "    </tr>\n",
       "    <tr>\n",
       "      <th>1</th>\n",
       "      <td>100002.0</td>\n",
       "      <td>45.0</td>\n",
       "    </tr>\n",
       "    <tr>\n",
       "      <th>2</th>\n",
       "      <td>100005.0</td>\n",
       "      <td>14.0</td>\n",
       "    </tr>\n",
       "    <tr>\n",
       "      <th>3</th>\n",
       "      <td>100010.0</td>\n",
       "      <td>20.0</td>\n",
       "    </tr>\n",
       "    <tr>\n",
       "      <th>4</th>\n",
       "      <td>100013.0</td>\n",
       "      <td>79.0</td>\n",
       "    </tr>\n",
       "  </tbody>\n",
       "</table>\n",
       "</div>"
      ],
      "text/plain": [
       "   SK_ID_CURR  PREVIOUS_OTHER_ON_TIME_SUM_SUM\n",
       "0    100001.0                            31.0\n",
       "1    100002.0                            45.0\n",
       "2    100005.0                            14.0\n",
       "3    100010.0                            20.0\n",
       "4    100013.0                            79.0"
      ]
     },
     "execution_count": 35,
     "metadata": {},
     "output_type": "execute_result"
    }
   ],
   "source": [
    "# At the loan level\n",
    "previous_on_time = bureau_balance_status.groupby('SK_ID_BUREAU', as_index = False)[['STATUS_0']].sum().rename(columns = {'STATUS_0': 'ON_TIME_SUM'})\n",
    "previous_on_time = previous_on_time.merge(bureau[['SK_ID_CURR', 'SK_ID_BUREAU']], on = 'SK_ID_BUREAU', how = 'left')\n",
    "\n",
    "# At the client level\n",
    "previous_on_time_sum = previous_on_time.groupby('SK_ID_CURR', as_index = False)['ON_TIME_SUM'].sum().rename(columns = {'ON_TIME_SUM': 'PREVIOUS_OTHER_ON_TIME_SUM_SUM'})\n",
    "previous_on_time_sum.head()"
   ]
  },
  {
   "cell_type": "code",
   "execution_count": 36,
   "metadata": {},
   "outputs": [],
   "source": [
    "app = app.merge(previous_on_time_sum, on = 'SK_ID_CURR', how = 'left')"
   ]
  },
  {
   "cell_type": "code",
   "execution_count": 37,
   "metadata": {},
   "outputs": [],
   "source": [
    "\n",
    "installments = pd.read_csv('C:/Users/DELL/MBAN 2019/Fall 2018/MBAN 6090- ACP/Dataset/installments_payments.csv')"
   ]
  },
  {
   "cell_type": "code",
   "execution_count": 38,
   "metadata": {},
   "outputs": [],
   "source": [
    "# Column indicating whether or not a payment was late\n",
    "installments['LATE'] = installments['DAYS_ENTRY_PAYMENT'] > installments['DAYS_INSTALMENT']"
   ]
  },
  {
   "cell_type": "code",
   "execution_count": 39,
   "metadata": {},
   "outputs": [],
   "source": [
    "# Loan level\n",
    "installments_late_mean = installments.groupby('SK_ID_PREV', as_index = False)['LATE'].mean()\n",
    "installments_late_mean = installments_late_mean.merge(previous[['SK_ID_PREV', 'SK_ID_CURR']], \n",
    "                                                      on = 'SK_ID_PREV', how = 'left')\n",
    "\n",
    "# Client level\n",
    "installments_late_mean_mean = installments_late_mean.groupby('SK_ID_CURR', as_index = False)['LATE'].mean().rename(columns = {'LATE': 'INSTALLMENTS_LATE_MEAN_MEAN'})\n",
    "app = app.merge(installments_late_mean_mean, on = 'SK_ID_CURR', how = 'left')"
   ]
  },
  {
   "cell_type": "code",
   "execution_count": 40,
   "metadata": {},
   "outputs": [],
   "source": [
    "# Loan level\n",
    "installments_late_sum = installments.groupby('SK_ID_PREV', as_index = False)['LATE'].sum()\n",
    "installments_late_sum = installments_late_sum.merge(previous[['SK_ID_PREV', 'SK_ID_CURR']], \n",
    "                                                      on = 'SK_ID_PREV', how = 'left')\n",
    "\n",
    "# Client level\n",
    "installments_late_sum_sum = installments_late_sum.groupby('SK_ID_CURR', as_index = False)['LATE'].sum().rename(columns = {'LATE': 'INSTALLMENTS_LATE_SUM_SUM'})\n",
    "app = app.merge(installments_late_sum_sum, on = 'SK_ID_CURR', how = 'left')"
   ]
  },
  {
   "cell_type": "code",
   "execution_count": 41,
   "metadata": {},
   "outputs": [],
   "source": [
    "# Create a column indicating if payment was under the prescribed amount\n",
    "installments['UNDER'] = installments['AMT_PAYMENT'] < installments['AMT_INSTALMENT']\n",
    "\n",
    "# Mean of mean of under payments\n",
    "# Loan level\n",
    "installments_under_mean = installments.groupby('SK_ID_PREV', as_index = False)['UNDER'].mean()\n",
    "installments_under_mean = installments_under_mean.merge(previous[['SK_ID_PREV', 'SK_ID_CURR']], \n",
    "                                                      on = 'SK_ID_PREV', how = 'left')\n",
    "\n",
    "# Client level\n",
    "installments_under_mean_mean = installments_under_mean.groupby('SK_ID_CURR', as_index = False)['UNDER'].mean().rename(columns = {'UNDER': 'INSTALLMENTS_UNDER_MEAN_MEAN'})\n",
    "app = app.merge(installments_under_mean_mean, on = 'SK_ID_CURR', how = 'left')\n",
    "\n",
    "# Sum of sum of under payments\n",
    "# Loan level\n",
    "installments_under_sum = installments.groupby('SK_ID_PREV', as_index = False)['UNDER'].sum()\n",
    "installments_under_sum = installments_under_sum.merge(previous[['SK_ID_PREV', 'SK_ID_CURR']], \n",
    "                                                      on = 'SK_ID_PREV', how = 'left')\n",
    "\n",
    "# Client level\n",
    "installments_under_sum_sum = installments_under_sum.groupby('SK_ID_CURR', as_index = False)['UNDER'].sum().rename(columns = {'UNDER': 'INSTALLMENTS_UNDER_SUM_SUM'})\n",
    "app = app.merge(installments_under_sum_sum, on = 'SK_ID_CURR', how = 'left')"
   ]
  },
  {
   "cell_type": "code",
   "execution_count": 42,
   "metadata": {},
   "outputs": [],
   "source": [
    "installment_counts = installments.groupby('SK_ID_CURR', as_index = False)['SK_ID_PREV'].count().rename(columns = {'SK_ID_PREV': 'INSTALLMENTS_COUNT'})\n",
    "app = app.merge(installment_counts, on = 'SK_ID_CURR', how = 'left')"
   ]
  },
  {
   "cell_type": "code",
   "execution_count": 43,
   "metadata": {},
   "outputs": [
    {
     "name": "stdout",
     "output_type": "stream",
     "text": [
      "Built 24 features so far.\n"
     ]
    }
   ],
   "source": [
    "print('Built {} features so far.'.format(app.shape[1] - len(original_features) - 2))"
   ]
  },
  {
   "cell_type": "code",
   "execution_count": 44,
   "metadata": {},
   "outputs": [
    {
     "name": "stdout",
     "output_type": "stream",
     "text": [
      "Cross Validation ROC AUC: 0.76984 with std: 0.00517.\n",
      "Number of estimators trained: 178\n"
     ]
    }
   ],
   "source": [
    "cv_results = cross_validate(app[app['TARGET'].notnull()])"
   ]
  },
  {
   "cell_type": "code",
   "execution_count": 45,
   "metadata": {},
   "outputs": [],
   "source": [
    "credit = pd.read_csv('C:/Users/DELL/MBAN 2019/Fall 2018/MBAN 6090- ACP/Dataset/credit_card_balance.csv')"
   ]
  },
  {
   "cell_type": "code",
   "execution_count": 46,
   "metadata": {},
   "outputs": [],
   "source": [
    "# Loan level\n",
    "credit_balance_mean = credit.groupby('SK_ID_PREV', as_index = False)[\"AMT_BALANCE\"].mean()\n",
    "credit_balance_mean = credit_balance_mean.merge(credit[['SK_ID_CURR', 'SK_ID_PREV']], \n",
    "                                                on = 'SK_ID_PREV', how = 'left')\n",
    "\n",
    "# Client level\n",
    "credit_balance_mean_mean = credit_balance_mean.groupby('SK_ID_CURR', as_index = False)[\"AMT_BALANCE\"].mean().rename(columns = {\"AMT_BALANCE\": \"CREDIT_CARD_AMT_BALANCE_MEAN_MEAN\"})\n",
    "app = app.merge(credit_balance_mean_mean, on = 'SK_ID_CURR', how = 'left')"
   ]
  },
  {
   "cell_type": "code",
   "execution_count": 47,
   "metadata": {},
   "outputs": [],
   "source": [
    "# Loan level\n",
    "credit_loan_length = credit.groupby('SK_ID_PREV', as_index = False)['MONTHS_BALANCE'].min()\n",
    "credit_loan_length = credit_loan_length.merge(credit[['SK_ID_CURR', 'SK_ID_PREV']], \n",
    "                                                on = 'SK_ID_PREV', how = 'left')\n",
    "\n",
    "# Client level\n",
    "credit_loan_length_mean = credit_loan_length.groupby('SK_ID_CURR', as_index = False)['MONTHS_BALANCE'].mean().rename(columns = {'MONTHS_BALANCE': 'CREDIT_CARD_AVERAGE_LOAN_LENGTH'})\n",
    "app = app.merge(credit_loan_length_mean, on = 'SK_ID_CURR', how = 'left')"
   ]
  },
  {
   "cell_type": "code",
   "execution_count": 48,
   "metadata": {},
   "outputs": [],
   "source": [
    "cash = pd.read_csv('C:/Users/DELL/MBAN 2019/Fall 2018/MBAN 6090- ACP/Dataset/POS_CASH_balance.csv')"
   ]
  },
  {
   "cell_type": "code",
   "execution_count": 49,
   "metadata": {},
   "outputs": [],
   "source": [
    "# Loan level\n",
    "cash_dpd_sum = cash.groupby('SK_ID_PREV', as_index = False)['SK_DPD'].sum()\n",
    "cash_dpd_sum = cash_dpd_sum.merge(credit[['SK_ID_CURR', 'SK_ID_PREV']], \n",
    "                                                on = 'SK_ID_PREV', how = 'left')\n",
    "\n",
    "# Client level\n",
    "cash_dpd_sum_sum = cash_dpd_sum.groupby('SK_ID_CURR', as_index = False)['SK_DPD'].sum().rename(columns = {\"SK_DPD\": \"CASH_DPD_SUM_SUM\"})\n",
    "app = app.merge(cash_dpd_sum_sum, on = 'SK_ID_CURR', how = 'left')"
   ]
  },
  {
   "cell_type": "code",
   "execution_count": 50,
   "metadata": {},
   "outputs": [],
   "source": [
    "# Loan level\n",
    "cash_dpd_mean = cash.groupby('SK_ID_PREV', as_index =False)['SK_DPD'].mean()\n",
    "cash_dpd_mean = cash_dpd_mean.merge(credit[['SK_ID_CURR', 'SK_ID_PREV']], \n",
    "                                                on = 'SK_ID_PREV', how = 'left')\n",
    "\n",
    "# Client level\n",
    "cash_dpd_mean_mean = cash_dpd_mean.groupby('SK_ID_CURR', as_index = False)['SK_DPD'].mean().rename(columns = {\"SK_DPD\": \"CASH_DPD_MEAN_MEAN\"})\n",
    "app = app.merge(cash_dpd_mean_mean, on = 'SK_ID_CURR', how = 'left')"
   ]
  },
  {
   "cell_type": "code",
   "execution_count": 51,
   "metadata": {},
   "outputs": [],
   "source": [
    "# Count number of previous loans \n",
    "cash_counts = cash.groupby('SK_ID_CURR', as_index = False)['SK_ID_PREV'].count().rename(columns = {'SK_ID_PREV': 'CASH_COUNTS'})\n",
    "app = app.merge(cash_counts, on = 'SK_ID_CURR', how = 'left')"
   ]
  },
  {
   "cell_type": "code",
   "execution_count": 52,
   "metadata": {},
   "outputs": [],
   "source": [
    "# Loan level\n",
    "cash_loan_length = cash.groupby('SK_ID_PREV', as_index = False)['MONTHS_BALANCE'].min()\n",
    "cash_loan_length = cash_loan_length.merge(cash[['SK_ID_CURR', 'SK_ID_PREV']], \n",
    "                                                on = 'SK_ID_PREV', how = 'left')\n",
    "\n",
    "# Client level\n",
    "cash_loan_length_mean = cash_loan_length.groupby('SK_ID_CURR', as_index = False)['MONTHS_BALANCE'].mean().rename(columns = {'MONTHS_BALANCE': 'CASH_AVERAGE_LOAN_LENGTH'})\n",
    "app = app.merge(cash_loan_length_mean, on = 'SK_ID_CURR', how = 'left')"
   ]
  },
  {
   "cell_type": "code",
   "execution_count": 53,
   "metadata": {},
   "outputs": [
    {
     "name": "stdout",
     "output_type": "stream",
     "text": [
      "Cross Validation ROC AUC: 0.77227 with std: 0.00503.\n",
      "Number of estimators trained: 142\n"
     ]
    }
   ],
   "source": [
    "# Extract the training and testing data\n",
    "app_new_train, app_new_test = app[app['TARGET'].notnull()], app[app['TARGET'].isnull()]\n",
    "\n",
    "# Cross validate with the new data\n",
    "cv_results = cross_validate(app_new_train)"
   ]
  },
  {
   "cell_type": "code",
   "execution_count": 54,
   "metadata": {},
   "outputs": [
    {
     "data": {
      "text/html": [
       "<div>\n",
       "<style scoped>\n",
       "    .dataframe tbody tr th:only-of-type {\n",
       "        vertical-align: middle;\n",
       "    }\n",
       "\n",
       "    .dataframe tbody tr th {\n",
       "        vertical-align: top;\n",
       "    }\n",
       "\n",
       "    .dataframe thead th {\n",
       "        text-align: right;\n",
       "    }\n",
       "</style>\n",
       "<table border=\"1\" class=\"dataframe\">\n",
       "  <thead>\n",
       "    <tr style=\"text-align: right;\">\n",
       "      <th></th>\n",
       "      <th>feature</th>\n",
       "      <th>importance</th>\n",
       "    </tr>\n",
       "  </thead>\n",
       "  <tbody>\n",
       "    <tr>\n",
       "      <th>0</th>\n",
       "      <td>CNT_CHILDREN</td>\n",
       "      <td>4</td>\n",
       "    </tr>\n",
       "    <tr>\n",
       "      <th>1</th>\n",
       "      <td>AMT_INCOME_TOTAL</td>\n",
       "      <td>41</td>\n",
       "    </tr>\n",
       "    <tr>\n",
       "      <th>2</th>\n",
       "      <td>AMT_CREDIT</td>\n",
       "      <td>72</td>\n",
       "    </tr>\n",
       "    <tr>\n",
       "      <th>3</th>\n",
       "      <td>AMT_ANNUITY</td>\n",
       "      <td>90</td>\n",
       "    </tr>\n",
       "    <tr>\n",
       "      <th>4</th>\n",
       "      <td>AMT_GOODS_PRICE</td>\n",
       "      <td>68</td>\n",
       "    </tr>\n",
       "  </tbody>\n",
       "</table>\n",
       "</div>"
      ],
      "text/plain": [
       "            feature  importance\n",
       "0      CNT_CHILDREN           4\n",
       "1  AMT_INCOME_TOTAL          41\n",
       "2        AMT_CREDIT          72\n",
       "3       AMT_ANNUITY          90\n",
       "4   AMT_GOODS_PRICE          68"
      ]
     },
     "execution_count": 54,
     "metadata": {},
     "output_type": "execute_result"
    }
   ],
   "source": [
    "## Feature Importance\n",
    "train_labels = np.array(app_new_train['TARGET'].astype(np.int32)).reshape((-1,))\n",
    "app_new_train = app_new_train.drop(columns = ['SK_ID_CURR', 'TARGET'])\n",
    "\n",
    "# New model fit on the training data\n",
    "model = lgb.LGBMClassifier(n_estimators = len(cv_results['auc-mean']), random_state = RSEED)\n",
    "model.fit(app_new_train, train_labels)\n",
    "\n",
    "# Put feature importances into a dataframe\n",
    "feature_importances = pd.DataFrame({'feature': list(app_new_train.columns), \n",
    "                                    'importance': model.feature_importances_})\n",
    "\n",
    "feature_importances.head()"
   ]
  },
  {
   "cell_type": "code",
   "execution_count": 57,
   "metadata": {},
   "outputs": [],
   "source": [
    "import matplotlib.pyplot as plt\n",
    "\n",
    "def plot_feature_importances(df):\n",
    "    \"\"\"\n",
    "    Plots 15 most important features and returns a sorted feature importance dataframe.\n",
    "    \n",
    "    Parameters\n",
    "    --------\n",
    "    df : dataframe\n",
    "        Dataframe of feature importances. Columns must be feature and importance\n",
    "\n",
    "        \n",
    "    Return\n",
    "    --------\n",
    "    df : dataframe\n",
    "        Dataframe ordered by feature importances with a normalized column (sums to 1)\n",
    "        and a cumulative importance column\n",
    "    \n",
    "    \"\"\"\n",
    "    \n",
    "    plt.rcParams['font.size'] = 18\n",
    "    \n",
    "    # Sort features according to importance\n",
    "    df = df.sort_values('importance', ascending = False).reset_index()\n",
    "    \n",
    "    # Normalize the feature importances to add up to one\n",
    "    df['importance_normalized'] = df['importance'] / df['importance'].sum()\n",
    "    df['cumulative_importance'] = np.cumsum(df['importance_normalized'])\n",
    "\n",
    "    # Make a horizontal bar chart of feature importances\n",
    "    plt.figure(figsize = (10, 6))\n",
    "    ax = plt.subplot()\n",
    "    \n",
    "    # Need to reverse the index to plot most important on top\n",
    "    ax.barh(list(reversed(list(df.index[:15]))), \n",
    "            df['importance_normalized'].head(15), \n",
    "            align = 'center', edgecolor = 'k')\n",
    "    \n",
    "    # Set the yticks and labels\n",
    "    ax.set_yticks(list(reversed(list(df.index[:15]))))\n",
    "    ax.set_yticklabels(df['feature'].head(15))\n",
    "    \n",
    "    # Plot labeling\n",
    "    plt.xlabel('Normalized Importance'); plt.title('Feature Importances')\n",
    "    plt.show()\n",
    "\n",
    "    \n",
    "    return df"
   ]
  },
  {
   "cell_type": "code",
   "execution_count": 58,
   "metadata": {},
   "outputs": [
    {
     "data": {
      "image/png": "[encoded data removed]",
      "text/plain": [
       "<Figure size 720x432 with 1 Axes>"
      ]
     },
     "metadata": {},
     "output_type": "display_data"
    },
    {
     "data": {
      "text/html": [
       "<div>\n",
       "<style scoped>\n",
       "    .dataframe tbody tr th:only-of-type {\n",
       "        vertical-align: middle;\n",
       "    }\n",
       "\n",
       "    .dataframe tbody tr th {\n",
       "        vertical-align: top;\n",
       "    }\n",
       "\n",
       "    .dataframe thead th {\n",
       "        text-align: right;\n",
       "    }\n",
       "</style>\n",
       "<table border=\"1\" class=\"dataframe\">\n",
       "  <thead>\n",
       "    <tr style=\"text-align: right;\">\n",
       "      <th></th>\n",
       "      <th>index</th>\n",
       "      <th>feature</th>\n",
       "      <th>importance</th>\n",
       "      <th>importance_normalized</th>\n",
       "      <th>cumulative_importance</th>\n",
       "    </tr>\n",
       "  </thead>\n",
       "  <tbody>\n",
       "    <tr>\n",
       "      <th>0</th>\n",
       "      <td>241</td>\n",
       "      <td>LOAN_RATE</td>\n",
       "      <td>257</td>\n",
       "      <td>0.060329</td>\n",
       "      <td>0.060329</td>\n",
       "    </tr>\n",
       "    <tr>\n",
       "      <th>1</th>\n",
       "      <td>245</td>\n",
       "      <td>EXT_SOURCE_MEAN</td>\n",
       "      <td>155</td>\n",
       "      <td>0.036385</td>\n",
       "      <td>0.096714</td>\n",
       "    </tr>\n",
       "    <tr>\n",
       "      <th>2</th>\n",
       "      <td>29</td>\n",
       "      <td>EXT_SOURCE_3</td>\n",
       "      <td>152</td>\n",
       "      <td>0.035681</td>\n",
       "      <td>0.132394</td>\n",
       "    </tr>\n",
       "    <tr>\n",
       "      <th>3</th>\n",
       "      <td>6</td>\n",
       "      <td>DAYS_BIRTH</td>\n",
       "      <td>144</td>\n",
       "      <td>0.033803</td>\n",
       "      <td>0.166197</td>\n",
       "    </tr>\n",
       "    <tr>\n",
       "      <th>4</th>\n",
       "      <td>27</td>\n",
       "      <td>EXT_SOURCE_1</td>\n",
       "      <td>139</td>\n",
       "      <td>0.032629</td>\n",
       "      <td>0.198826</td>\n",
       "    </tr>\n",
       "    <tr>\n",
       "      <th>5</th>\n",
       "      <td>254</td>\n",
       "      <td>PREVIOUS_LOAN_RATE_MEAN</td>\n",
       "      <td>131</td>\n",
       "      <td>0.030751</td>\n",
       "      <td>0.229577</td>\n",
       "    </tr>\n",
       "    <tr>\n",
       "      <th>6</th>\n",
       "      <td>260</td>\n",
       "      <td>INSTALLMENTS_LATE_MEAN_MEAN</td>\n",
       "      <td>123</td>\n",
       "      <td>0.028873</td>\n",
       "      <td>0.258451</td>\n",
       "    </tr>\n",
       "    <tr>\n",
       "      <th>7</th>\n",
       "      <td>270</td>\n",
       "      <td>CASH_AVERAGE_LOAN_LENGTH</td>\n",
       "      <td>122</td>\n",
       "      <td>0.028638</td>\n",
       "      <td>0.287089</td>\n",
       "    </tr>\n",
       "    <tr>\n",
       "      <th>8</th>\n",
       "      <td>255</td>\n",
       "      <td>PREVIOUS_LOAN_DIFFERENCE_MEAN</td>\n",
       "      <td>115</td>\n",
       "      <td>0.026995</td>\n",
       "      <td>0.314085</td>\n",
       "    </tr>\n",
       "    <tr>\n",
       "      <th>9</th>\n",
       "      <td>269</td>\n",
       "      <td>CASH_COUNTS</td>\n",
       "      <td>115</td>\n",
       "      <td>0.026995</td>\n",
       "      <td>0.341080</td>\n",
       "    </tr>\n",
       "  </tbody>\n",
       "</table>\n",
       "</div>"
      ],
      "text/plain": [
       "   index                        feature  importance  importance_normalized  \\\n",
       "0    241                      LOAN_RATE         257               0.060329   \n",
       "1    245                EXT_SOURCE_MEAN         155               0.036385   \n",
       "2     29                   EXT_SOURCE_3         152               0.035681   \n",
       "3      6                     DAYS_BIRTH         144               0.033803   \n",
       "4     27                   EXT_SOURCE_1         139               0.032629   \n",
       "5    254        PREVIOUS_LOAN_RATE_MEAN         131               0.030751   \n",
       "6    260    INSTALLMENTS_LATE_MEAN_MEAN         123               0.028873   \n",
       "7    270       CASH_AVERAGE_LOAN_LENGTH         122               0.028638   \n",
       "8    255  PREVIOUS_LOAN_DIFFERENCE_MEAN         115               0.026995   \n",
       "9    269                    CASH_COUNTS         115               0.026995   \n",
       "\n",
       "   cumulative_importance  \n",
       "0               0.060329  \n",
       "1               0.096714  \n",
       "2               0.132394  \n",
       "3               0.166197  \n",
       "4               0.198826  \n",
       "5               0.229577  \n",
       "6               0.258451  \n",
       "7               0.287089  \n",
       "8               0.314085  \n",
       "9               0.341080  "
      ]
     },
     "execution_count": 58,
     "metadata": {},
     "output_type": "execute_result"
    }
   ],
   "source": [
    "\n",
    "norm_fi = plot_feature_importances(feature_importances)\n",
    "norm_fi.head(10)"
   ]
  },
  {
   "cell_type": "code",
   "execution_count": null,
   "metadata": {},
   "outputs": [],
   "source": []
  }
 ],
 "metadata": {
  "kernelspec": {
   "display_name": "Python [default]",
   "language": "python",
   "name": "python3"
  },
  "language_info": {
   "codemirror_mode": {
    "name": "ipython",
    "version": 3
   },
   "file_extension": ".py",
   "mimetype": "text/x-python",
   "name": "python",
   "nbconvert_exporter": "python",
   "pygments_lexer": "ipython3",
   "version": "3.5.5"
  }
 },
 "nbformat": 4,
 "nbformat_minor": 2
}
